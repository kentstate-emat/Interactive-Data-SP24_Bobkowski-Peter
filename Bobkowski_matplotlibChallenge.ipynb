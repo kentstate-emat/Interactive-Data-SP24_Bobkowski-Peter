{
 "cells": [
  {
   "cell_type": "markdown",
   "id": "d1ca2571-5814-408f-8a09-dfb800308db4",
   "metadata": {},
   "source": [
    "### **matplotlib Challenge**"
   ]
  },
  {
   "cell_type": "markdown",
   "id": "6ce47b00-36fb-4322-9507-a164a36441cb",
   "metadata": {},
   "source": [
    "#### **Import modules**"
   ]
  },
  {
   "cell_type": "code",
   "execution_count": 4,
   "id": "04dfeb76-4a57-4ce2-9ae0-c38585c8185d",
   "metadata": {},
   "outputs": [],
   "source": [
    "import pandas as pd\n",
    "import matplotlib.pyplot as plt"
   ]
  },
  {
   "cell_type": "markdown",
   "id": "d40d4667-9d6d-47d0-ba16-994ddda0715a",
   "metadata": {},
   "source": [
    "#### **Explanation of desired figure and data**"
   ]
  },
  {
   "cell_type": "markdown",
   "id": "9cf379c2-9d18-4cfc-b8b3-bf6b5ad3b8e4",
   "metadata": {},
   "source": [
    "I would like to learn to create the method for [Filling the area between lines](https://matplotlib.org/stable/gallery/lines_bars_and_markers/fill_between_demo.html#sphx-glr-gallery-lines-bars-and-markers-fill-between-demo-py). Below is an illustration of this figure from the [matplotlib examples library](https://matplotlib.org/stable/gallery/index.html#lines-bars-and-markers). \n",
    "\n",
    "This is an elegant way of depicting marginal effects, with the shaded area showing 95% confidence intervals. This is a useful approach to illustrating interactions. "
   ]
  },
  {
   "cell_type": "markdown",
   "id": "a5d0c120-5f08-4c96-a486-bafedff1255e",
   "metadata": {},
   "source": [
    "![](https://matplotlib.org/stable/_images/sphx_glr_fill_between_demo_002_2_00x.png)"
   ]
  },
  {
   "cell_type": "markdown",
   "id": "8c9ce67b-d575-4e7d-8da6-24f06f62dd5a",
   "metadata": {},
   "source": [
    "#### **Import data file, create a data frame, and examine it**"
   ]
  },
  {
   "cell_type": "code",
   "execution_count": 6,
   "id": "b58f47b5-a946-4895-92d3-81a7f19bcbaa",
   "metadata": {},
   "outputs": [],
   "source": [
    "dataset = pd.read_csv('cces_example_data.csv')"
   ]
  },
  {
   "cell_type": "code",
   "execution_count": 9,
   "id": "e5cb217e-03fa-4dbe-b352-db62f38d0bcf",
   "metadata": {},
   "outputs": [],
   "source": [
    "dataframe = pd.DataFrame(dataset)"
   ]
  },
  {
   "cell_type": "code",
   "execution_count": 10,
   "id": "d30a61b6-384c-4a16-b7b7-89510b63cc53",
   "metadata": {},
   "outputs": [
    {
     "data": {
      "text/html": [
       "<div>\n",
       "<style scoped>\n",
       "    .dataframe tbody tr th:only-of-type {\n",
       "        vertical-align: middle;\n",
       "    }\n",
       "\n",
       "    .dataframe tbody tr th {\n",
       "        vertical-align: top;\n",
       "    }\n",
       "\n",
       "    .dataframe thead th {\n",
       "        text-align: right;\n",
       "    }\n",
       "</style>\n",
       "<table border=\"1\" class=\"dataframe\">\n",
       "  <thead>\n",
       "    <tr style=\"text-align: right;\">\n",
       "      <th></th>\n",
       "      <th>pew_religimp</th>\n",
       "      <th>pew_churatd</th>\n",
       "      <th>sex</th>\n",
       "      <th>educ</th>\n",
       "      <th>nonwhite</th>\n",
       "      <th>age</th>\n",
       "      <th>faminc_new</th>\n",
       "      <th>pid3</th>\n",
       "      <th>ideo5</th>\n",
       "      <th>QueerPhobia</th>\n",
       "      <th>...</th>\n",
       "      <th>InterGBiasParty</th>\n",
       "      <th>InterGBiasCand</th>\n",
       "      <th>InterGBiasSup</th>\n",
       "      <th>LibMediaUse</th>\n",
       "      <th>ConMediaUse</th>\n",
       "      <th>Real_Threat</th>\n",
       "      <th>Symb_Threat</th>\n",
       "      <th>Evaluation</th>\n",
       "      <th>teamweight</th>\n",
       "      <th>caseid</th>\n",
       "    </tr>\n",
       "  </thead>\n",
       "  <tbody>\n",
       "    <tr>\n",
       "      <th>0</th>\n",
       "      <td>2</td>\n",
       "      <td>6</td>\n",
       "      <td>2</td>\n",
       "      <td>2</td>\n",
       "      <td>1</td>\n",
       "      <td>56</td>\n",
       "      <td>6</td>\n",
       "      <td>1</td>\n",
       "      <td>1</td>\n",
       "      <td>1.000000</td>\n",
       "      <td>...</td>\n",
       "      <td>-99</td>\n",
       "      <td>-99</td>\n",
       "      <td>-96</td>\n",
       "      <td>2.666667</td>\n",
       "      <td>1.000000</td>\n",
       "      <td>5.00</td>\n",
       "      <td>4.857143</td>\n",
       "      <td>0</td>\n",
       "      <td>0.505028</td>\n",
       "      <td>1231308943</td>\n",
       "    </tr>\n",
       "    <tr>\n",
       "      <th>1</th>\n",
       "      <td>2</td>\n",
       "      <td>4</td>\n",
       "      <td>2</td>\n",
       "      <td>5</td>\n",
       "      <td>1</td>\n",
       "      <td>53</td>\n",
       "      <td>13</td>\n",
       "      <td>1</td>\n",
       "      <td>2</td>\n",
       "      <td>3.000000</td>\n",
       "      <td>...</td>\n",
       "      <td>-100</td>\n",
       "      <td>-100</td>\n",
       "      <td>-100</td>\n",
       "      <td>2.000000</td>\n",
       "      <td>2.000000</td>\n",
       "      <td>5.00</td>\n",
       "      <td>5.000000</td>\n",
       "      <td>0</td>\n",
       "      <td>0.852381</td>\n",
       "      <td>1232300315</td>\n",
       "    </tr>\n",
       "    <tr>\n",
       "      <th>2</th>\n",
       "      <td>1</td>\n",
       "      <td>2</td>\n",
       "      <td>1</td>\n",
       "      <td>2</td>\n",
       "      <td>1</td>\n",
       "      <td>69</td>\n",
       "      <td>10</td>\n",
       "      <td>2</td>\n",
       "      <td>5</td>\n",
       "      <td>4.333333</td>\n",
       "      <td>...</td>\n",
       "      <td>99</td>\n",
       "      <td>99</td>\n",
       "      <td>96</td>\n",
       "      <td>1.000000</td>\n",
       "      <td>1.000000</td>\n",
       "      <td>5.00</td>\n",
       "      <td>5.000000</td>\n",
       "      <td>2</td>\n",
       "      <td>1.320189</td>\n",
       "      <td>1232358697</td>\n",
       "    </tr>\n",
       "    <tr>\n",
       "      <th>3</th>\n",
       "      <td>2</td>\n",
       "      <td>3</td>\n",
       "      <td>1</td>\n",
       "      <td>6</td>\n",
       "      <td>1</td>\n",
       "      <td>76</td>\n",
       "      <td>97</td>\n",
       "      <td>1</td>\n",
       "      <td>3</td>\n",
       "      <td>1.000000</td>\n",
       "      <td>...</td>\n",
       "      <td>-86</td>\n",
       "      <td>-91</td>\n",
       "      <td>-89</td>\n",
       "      <td>4.666667</td>\n",
       "      <td>1.333333</td>\n",
       "      <td>4.25</td>\n",
       "      <td>4.428571</td>\n",
       "      <td>0</td>\n",
       "      <td>0.519198</td>\n",
       "      <td>1232540961</td>\n",
       "    </tr>\n",
       "    <tr>\n",
       "      <th>4</th>\n",
       "      <td>4</td>\n",
       "      <td>5</td>\n",
       "      <td>2</td>\n",
       "      <td>6</td>\n",
       "      <td>1</td>\n",
       "      <td>83</td>\n",
       "      <td>4</td>\n",
       "      <td>1</td>\n",
       "      <td>2</td>\n",
       "      <td>1.000000</td>\n",
       "      <td>...</td>\n",
       "      <td>-80</td>\n",
       "      <td>-88</td>\n",
       "      <td>-87</td>\n",
       "      <td>4.666667</td>\n",
       "      <td>3.666667</td>\n",
       "      <td>4.25</td>\n",
       "      <td>5.000000</td>\n",
       "      <td>0</td>\n",
       "      <td>1.154005</td>\n",
       "      <td>1232580601</td>\n",
       "    </tr>\n",
       "    <tr>\n",
       "      <th>...</th>\n",
       "      <td>...</td>\n",
       "      <td>...</td>\n",
       "      <td>...</td>\n",
       "      <td>...</td>\n",
       "      <td>...</td>\n",
       "      <td>...</td>\n",
       "      <td>...</td>\n",
       "      <td>...</td>\n",
       "      <td>...</td>\n",
       "      <td>...</td>\n",
       "      <td>...</td>\n",
       "      <td>...</td>\n",
       "      <td>...</td>\n",
       "      <td>...</td>\n",
       "      <td>...</td>\n",
       "      <td>...</td>\n",
       "      <td>...</td>\n",
       "      <td>...</td>\n",
       "      <td>...</td>\n",
       "      <td>...</td>\n",
       "      <td>...</td>\n",
       "    </tr>\n",
       "    <tr>\n",
       "      <th>654</th>\n",
       "      <td>1</td>\n",
       "      <td>5</td>\n",
       "      <td>2</td>\n",
       "      <td>2</td>\n",
       "      <td>2</td>\n",
       "      <td>30</td>\n",
       "      <td>4</td>\n",
       "      <td>1</td>\n",
       "      <td>1</td>\n",
       "      <td>2.666667</td>\n",
       "      <td>...</td>\n",
       "      <td>-79</td>\n",
       "      <td>-90</td>\n",
       "      <td>-67</td>\n",
       "      <td>1.666667</td>\n",
       "      <td>1.666667</td>\n",
       "      <td>3.00</td>\n",
       "      <td>3.000000</td>\n",
       "      <td>3</td>\n",
       "      <td>1.182346</td>\n",
       "      <td>1259989749</td>\n",
       "    </tr>\n",
       "    <tr>\n",
       "      <th>655</th>\n",
       "      <td>2</td>\n",
       "      <td>2</td>\n",
       "      <td>1</td>\n",
       "      <td>4</td>\n",
       "      <td>1</td>\n",
       "      <td>19</td>\n",
       "      <td>97</td>\n",
       "      <td>1</td>\n",
       "      <td>1</td>\n",
       "      <td>1.000000</td>\n",
       "      <td>...</td>\n",
       "      <td>-49</td>\n",
       "      <td>-25</td>\n",
       "      <td>-7</td>\n",
       "      <td>2.666667</td>\n",
       "      <td>1.000000</td>\n",
       "      <td>3.75</td>\n",
       "      <td>4.714286</td>\n",
       "      <td>0</td>\n",
       "      <td>0.660217</td>\n",
       "      <td>1260782541</td>\n",
       "    </tr>\n",
       "    <tr>\n",
       "      <th>656</th>\n",
       "      <td>4</td>\n",
       "      <td>6</td>\n",
       "      <td>1</td>\n",
       "      <td>3</td>\n",
       "      <td>1</td>\n",
       "      <td>20</td>\n",
       "      <td>7</td>\n",
       "      <td>1</td>\n",
       "      <td>1</td>\n",
       "      <td>1.000000</td>\n",
       "      <td>...</td>\n",
       "      <td>-47</td>\n",
       "      <td>-47</td>\n",
       "      <td>-41</td>\n",
       "      <td>4.666667</td>\n",
       "      <td>4.666667</td>\n",
       "      <td>5.00</td>\n",
       "      <td>4.285714</td>\n",
       "      <td>0</td>\n",
       "      <td>1.027184</td>\n",
       "      <td>1260840787</td>\n",
       "    </tr>\n",
       "    <tr>\n",
       "      <th>657</th>\n",
       "      <td>2</td>\n",
       "      <td>2</td>\n",
       "      <td>1</td>\n",
       "      <td>3</td>\n",
       "      <td>1</td>\n",
       "      <td>23</td>\n",
       "      <td>5</td>\n",
       "      <td>2</td>\n",
       "      <td>4</td>\n",
       "      <td>3.666667</td>\n",
       "      <td>...</td>\n",
       "      <td>40</td>\n",
       "      <td>99</td>\n",
       "      <td>94</td>\n",
       "      <td>2.000000</td>\n",
       "      <td>2.333333</td>\n",
       "      <td>2.50</td>\n",
       "      <td>3.000000</td>\n",
       "      <td>2</td>\n",
       "      <td>1.433068</td>\n",
       "      <td>1261039231</td>\n",
       "    </tr>\n",
       "    <tr>\n",
       "      <th>658</th>\n",
       "      <td>2</td>\n",
       "      <td>2</td>\n",
       "      <td>1</td>\n",
       "      <td>3</td>\n",
       "      <td>1</td>\n",
       "      <td>23</td>\n",
       "      <td>5</td>\n",
       "      <td>2</td>\n",
       "      <td>4</td>\n",
       "      <td>3.666667</td>\n",
       "      <td>...</td>\n",
       "      <td>40</td>\n",
       "      <td>99</td>\n",
       "      <td>94</td>\n",
       "      <td>2.000000</td>\n",
       "      <td>2.333333</td>\n",
       "      <td>2.50</td>\n",
       "      <td>3.000000</td>\n",
       "      <td>2</td>\n",
       "      <td>1.433068</td>\n",
       "      <td>1261039231</td>\n",
       "    </tr>\n",
       "  </tbody>\n",
       "</table>\n",
       "<p>659 rows × 21 columns</p>\n",
       "</div>"
      ],
      "text/plain": [
       "     pew_religimp  pew_churatd  sex  educ  nonwhite  age  faminc_new  pid3  \\\n",
       "0               2            6    2     2         1   56           6     1   \n",
       "1               2            4    2     5         1   53          13     1   \n",
       "2               1            2    1     2         1   69          10     2   \n",
       "3               2            3    1     6         1   76          97     1   \n",
       "4               4            5    2     6         1   83           4     1   \n",
       "..            ...          ...  ...   ...       ...  ...         ...   ...   \n",
       "654             1            5    2     2         2   30           4     1   \n",
       "655             2            2    1     4         1   19          97     1   \n",
       "656             4            6    1     3         1   20           7     1   \n",
       "657             2            2    1     3         1   23           5     2   \n",
       "658             2            2    1     3         1   23           5     2   \n",
       "\n",
       "     ideo5  QueerPhobia  ...  InterGBiasParty  InterGBiasCand  InterGBiasSup  \\\n",
       "0        1     1.000000  ...              -99             -99            -96   \n",
       "1        2     3.000000  ...             -100            -100           -100   \n",
       "2        5     4.333333  ...               99              99             96   \n",
       "3        3     1.000000  ...              -86             -91            -89   \n",
       "4        2     1.000000  ...              -80             -88            -87   \n",
       "..     ...          ...  ...              ...             ...            ...   \n",
       "654      1     2.666667  ...              -79             -90            -67   \n",
       "655      1     1.000000  ...              -49             -25             -7   \n",
       "656      1     1.000000  ...              -47             -47            -41   \n",
       "657      4     3.666667  ...               40              99             94   \n",
       "658      4     3.666667  ...               40              99             94   \n",
       "\n",
       "     LibMediaUse  ConMediaUse  Real_Threat  Symb_Threat  Evaluation  \\\n",
       "0       2.666667     1.000000         5.00     4.857143           0   \n",
       "1       2.000000     2.000000         5.00     5.000000           0   \n",
       "2       1.000000     1.000000         5.00     5.000000           2   \n",
       "3       4.666667     1.333333         4.25     4.428571           0   \n",
       "4       4.666667     3.666667         4.25     5.000000           0   \n",
       "..           ...          ...          ...          ...         ...   \n",
       "654     1.666667     1.666667         3.00     3.000000           3   \n",
       "655     2.666667     1.000000         3.75     4.714286           0   \n",
       "656     4.666667     4.666667         5.00     4.285714           0   \n",
       "657     2.000000     2.333333         2.50     3.000000           2   \n",
       "658     2.000000     2.333333         2.50     3.000000           2   \n",
       "\n",
       "     teamweight      caseid  \n",
       "0      0.505028  1231308943  \n",
       "1      0.852381  1232300315  \n",
       "2      1.320189  1232358697  \n",
       "3      0.519198  1232540961  \n",
       "4      1.154005  1232580601  \n",
       "..          ...         ...  \n",
       "654    1.182346  1259989749  \n",
       "655    0.660217  1260782541  \n",
       "656    1.027184  1260840787  \n",
       "657    1.433068  1261039231  \n",
       "658    1.433068  1261039231  \n",
       "\n",
       "[659 rows x 21 columns]"
      ]
     },
     "execution_count": 10,
     "metadata": {},
     "output_type": "execute_result"
    }
   ],
   "source": [
    "dataframe"
   ]
  },
  {
   "cell_type": "markdown",
   "id": "64c61054-da01-4a20-b6b0-ea7d18f736ec",
   "metadata": {},
   "source": [
    "#### **Empty figure with two axes**"
   ]
  },
  {
   "cell_type": "code",
   "execution_count": 20,
   "id": "c8c89bf0-5eac-4b4c-bad9-8d8231e27ee9",
   "metadata": {},
   "outputs": [
    {
     "data": {
      "image/png": "[encoded data removed]",
      "text/plain": [
       "<Figure size 1000x500 with 2 Axes>"
      ]
     },
     "metadata": {},
     "output_type": "display_data"
    }
   ],
   "source": [
    "fig1, ax1 = plt.subplots(1, 2, figsize = (10,5))\n",
    "ax1[0].set_title(\"Age Histogram\")\n",
    "ax1[1].set_title(\"Political Identity\")\n",
    "plt.show()"
   ]
  },
  {
   "cell_type": "markdown",
   "id": "4ef8b9dd-96c4-4004-8e12-f64e012bb4e6",
   "metadata": {},
   "source": [
    "#### **Bar plot of 'Evaluation'**"
   ]
  },
  {
   "cell_type": "markdown",
   "id": "6cd607e0-d652-481f-804f-9e906479067e",
   "metadata": {},
   "source": [
    "***Prepare data for frequency histogram***"
   ]
  },
  {
   "cell_type": "code",
   "execution_count": 23,
   "id": "6b589c31-e774-4158-b590-4b8dd6222661",
   "metadata": {},
   "outputs": [
    {
     "data": {
      "text/plain": [
       "Evaluation\n",
       "0    365\n",
       "1     48\n",
       "2    202\n",
       "3     44\n",
       "Name: caseid, dtype: int64"
      ]
     },
     "execution_count": 23,
     "metadata": {},
     "output_type": "execute_result"
    }
   ],
   "source": [
    "eval_freq = dataframe.groupby('Evaluation')['caseid'].count()\n",
    "eval_freq"
   ]
  },
  {
   "cell_type": "code",
   "execution_count": 24,
   "id": "b9adfff5-cc80-4979-97a3-0619deef7e61",
   "metadata": {},
   "outputs": [
    {
     "data": {
      "text/plain": [
       "Index([0, 1, 2, 3], dtype='int64', name='Evaluation')"
      ]
     },
     "execution_count": 24,
     "metadata": {},
     "output_type": "execute_result"
    }
   ],
   "source": [
    "eval_freq.index"
   ]
  },
  {
   "cell_type": "markdown",
   "id": "67921ded-ddab-41eb-92a3-37c93e48507a",
   "metadata": {},
   "source": [
    "***Plot histogram***"
   ]
  },
  {
   "cell_type": "code",
   "execution_count": 34,
   "id": "9e4c2501-7441-49a3-bd43-566fc6b69bd2",
   "metadata": {},
   "outputs": [
    {
     "data": {
      "image/png": "[encoded data removed]",
      "text/plain": [
       "<Figure size 640x480 with 1 Axes>"
      ]
     },
     "metadata": {},
     "output_type": "display_data"
    }
   ],
   "source": [
    "fig2, ax2 = plt.subplots()\n",
    "ax2.bar(x = eval_freq.index, height = eval_freq)\n",
    "ax2.set_xticks(eval_freq.index)\n",
    "ax2.set_title('Evaluation Frequency')\n",
    "plt.show()"
   ]
  },
  {
   "cell_type": "markdown",
   "id": "8e6f04bb-8d57-4b8c-b437-b7efbcf8cd6a",
   "metadata": {},
   "source": [
    "#### **Scatter plot of 'Conservative Media Use' and 'Immigrant Phobia'**"
   ]
  },
  {
   "cell_type": "code",
   "execution_count": 39,
   "id": "18bf4993-4e58-44dd-9c75-e1d4c449ec82",
   "metadata": {},
   "outputs": [
    {
     "data": {
      "image/png": "[encoded data removed]",
      "text/plain": [
       "<Figure size 640x480 with 1 Axes>"
      ]
     },
     "metadata": {},
     "output_type": "display_data"
    }
   ],
   "source": [
    "fig3, ax3 = plt.subplots()\n",
    "ax3.scatter(x = dataframe[\"ConMediaUse\"], y = dataframe[\"ImmiPhobia\"])\n",
    "ax3.set_xlabel('Conservative Media Use')\n",
    "ax3.set_ylabel('Immigrant Phobia')\n",
    "ax3.set_title('Correlation between Conservative Media Use and Immigrant Phobia')\n",
    "plt.show()"
   ]
  },
  {
   "cell_type": "code",
   "execution_count": null,
   "id": "3eeeed1d-8276-4cf9-8287-d937bac044f3",
   "metadata": {},
   "outputs": [],
   "source": []
  }
 ],
 "metadata": {
  "kernelspec": {
   "display_name": "Python 3 (ipykernel)",
   "language": "python",
   "name": "python3"
  },
  "language_info": {
   "codemirror_mode": {
    "name": "ipython",
    "version": 3
   },
   "file_extension": ".py",
   "mimetype": "text/x-python",
   "name": "python",
   "nbconvert_exporter": "python",
   "pygments_lexer": "ipython3",
   "version": "3.12.1"
  }
 },
 "nbformat": 4,
 "nbformat_minor": 5
}
