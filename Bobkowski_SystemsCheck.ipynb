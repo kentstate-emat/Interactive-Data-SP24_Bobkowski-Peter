{
 "cells": [
  {
   "cell_type": "markdown",
   "id": "e772f253-296e-4817-834c-b8ba7a65976a",
   "metadata": {},
   "source": [
    "## Markdown Practice "
   ]
  },
  {
   "cell_type": "markdown",
   "id": "69d4b4d7-b2ba-4e12-9166-cfa21ef035ff",
   "metadata": {},
   "source": [
    "### My personal learning objectives for this class"
   ]
  },
  {
   "cell_type": "markdown",
   "id": "5113bd27-ea3f-43c0-92eb-247f69c45b31",
   "metadata": {},
   "source": [
    "1. Become **fluent** in using python to open, manipualte, and save data files.  \n",
    "2. Use python to **describe** dataset characteristics.  \n",
    "3. Know all the ways to **clean, clean, clean** data in python.  \n",
    "4. Become a wiz at **plugging into** to some cool data sources.  \n",
    "4. Create a **visualization** (or more than one) that is unique and makes people say \"wow.\"  "
   ]
  },
  {
   "cell_type": "markdown",
   "id": "074ac403-5eec-4655-8f45-68b9c02ccce9",
   "metadata": {},
   "source": [
    "### An aspirational image for this class"
   ]
  },
  {
   "cell_type": "markdown",
   "id": "8dc14bbe-ce28-4e4e-91e4-e9cc9a3a179b",
   "metadata": {},
   "source": [
    "![A photo of a few hundred strings of fine lights.](https://images.unsplash.com/photo-1488229297570-58520851e868)"
   ]
  },
  {
   "cell_type": "markdown",
   "id": "d25cbe5d-e98a-46a4-98f2-ff5057c8f756",
   "metadata": {},
   "source": [
    "Source: *Sometimes you just have to look up* by Joshua Sortino on Unsplash (https://images.unsplash.com/photo-1488229297570-58520851e868)"
   ]
  },
  {
   "cell_type": "markdown",
   "id": "6eb2b8f6-1811-42a8-92fd-797ca791ca3f",
   "metadata": {},
   "source": [
    "## Syntax Examples"
   ]
  },
  {
   "cell_type": "markdown",
   "id": "3f169d48-89df-4be0-ab26-d4811ff830f7",
   "metadata": {},
   "source": [
    "**Variable assignment**"
   ]
  },
  {
   "cell_type": "code",
   "execution_count": 16,
   "id": "fc0e10ab-11e8-4fed-95d4-bf780e470756",
   "metadata": {},
   "outputs": [],
   "source": [
    "x = 5"
   ]
  },
  {
   "cell_type": "markdown",
   "id": "3c96faf9-0fbe-42a5-b1c4-1fecd105141f",
   "metadata": {},
   "source": [
    "**For loop**"
   ]
  },
  {
   "cell_type": "code",
   "execution_count": 17,
   "id": "b69aefb6-44cb-48c0-963a-d3f7ab32406d",
   "metadata": {},
   "outputs": [
    {
     "name": "stdout",
     "output_type": "stream",
     "text": [
      "1\n",
      "2\n",
      "3\n",
      "4\n",
      "5\n"
     ]
    }
   ],
   "source": [
    "for i in [1,2,3,4]:\n",
    "    print(i)\n",
    "\n",
    "for i in [x]:\n",
    "    print (i)"
   ]
  },
  {
   "cell_type": "markdown",
   "id": "ecb5741e-600e-4e24-b9da-ac559c23bbb9",
   "metadata": {},
   "source": [
    "**Function with a print statement**"
   ]
  },
  {
   "cell_type": "code",
   "execution_count": 18,
   "id": "79dd6a21-ca50-4d85-a35a-da69af6f5adc",
   "metadata": {},
   "outputs": [],
   "source": [
    "def say_hello(x):\n",
    "    print(\"hello \" + str(x))"
   ]
  },
  {
   "cell_type": "code",
   "execution_count": 19,
   "id": "0da0f7bd-987f-4a68-bdb5-5877a17b4d96",
   "metadata": {},
   "outputs": [
    {
     "name": "stdout",
     "output_type": "stream",
     "text": [
      "hello David\n"
     ]
    }
   ],
   "source": [
    "say_hello(\"David\")"
   ]
  },
  {
   "cell_type": "markdown",
   "id": "ddac4f0e-e94a-41c5-8a50-d98749056849",
   "metadata": {},
   "source": [
    "**Function with a return statement**"
   ]
  },
  {
   "cell_type": "code",
   "execution_count": 20,
   "id": "9d8dcf5b-9edb-4954-a92d-44c71d9e56b9",
   "metadata": {},
   "outputs": [],
   "source": [
    "def return_hello(x):\n",
    "    y = \"hello \" + x\n",
    "    return y"
   ]
  },
  {
   "cell_type": "code",
   "execution_count": 21,
   "id": "855a5fa1-3e57-435a-9579-e94972bc6985",
   "metadata": {},
   "outputs": [
    {
     "data": {
      "text/plain": [
       "'hello David'"
      ]
     },
     "execution_count": 21,
     "metadata": {},
     "output_type": "execute_result"
    }
   ],
   "source": [
    "return_hello(\"David\")"
   ]
  }
 ],
 "metadata": {
  "kernelspec": {
   "display_name": "Python 3 (ipykernel)",
   "language": "python",
   "name": "python3"
  },
  "language_info": {
   "codemirror_mode": {
    "name": "ipython",
    "version": 3
   },
   "file_extension": ".py",
   "mimetype": "text/x-python",
   "name": "python",
   "nbconvert_exporter": "python",
   "pygments_lexer": "ipython3",
   "version": "3.12.1"
  }
 },
 "nbformat": 4,
 "nbformat_minor": 5
}
