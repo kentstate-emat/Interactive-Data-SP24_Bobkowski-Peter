{
 "cells": [
  {
   "cell_type": "markdown",
   "id": "d978c675-5dda-48ad-86b8-5a789402796c",
   "metadata": {},
   "source": [
    "### **Import pandas as pd**"
   ]
  },
  {
   "cell_type": "code",
   "execution_count": 56,
   "id": "66ff151f-1466-4268-b82d-d32936b121e6",
   "metadata": {},
   "outputs": [],
   "source": [
    "import pandas as pd"
   ]
  },
  {
   "cell_type": "markdown",
   "id": "7a596ebf-f9dd-42c7-8a37-cca3e38e4274",
   "metadata": {},
   "source": [
    "### **Create a new DataFrame with three columns and three rows**"
   ]
  },
  {
   "cell_type": "code",
   "execution_count": 57,
   "id": "50cf1779-a0d9-403f-97b4-231b91cf72a3",
   "metadata": {},
   "outputs": [],
   "source": [
    "cars_JSON = {'year': [1997, 2009, 2018], 'make': ['Ford', 'Subaru', 'Chevy'], 'model': ['Ranger', 'Legacy', 'Silverado']}"
   ]
  },
  {
   "cell_type": "code",
   "execution_count": 58,
   "id": "3d7cb82d-5c63-48f2-830e-43aeace09393",
   "metadata": {},
   "outputs": [],
   "source": [
    "cars_dataset = pd.DataFrame(cars_JSON)"
   ]
  },
  {
   "cell_type": "code",
   "execution_count": 59,
   "id": "47b402f3-00cd-4aaf-ab6c-e4f899d068eb",
   "metadata": {},
   "outputs": [
    {
     "data": {
      "text/html": [
       "<div>\n",
       "<style scoped>\n",
       "    .dataframe tbody tr th:only-of-type {\n",
       "        vertical-align: middle;\n",
       "    }\n",
       "\n",
       "    .dataframe tbody tr th {\n",
       "        vertical-align: top;\n",
       "    }\n",
       "\n",
       "    .dataframe thead th {\n",
       "        text-align: right;\n",
       "    }\n",
       "</style>\n",
       "<table border=\"1\" class=\"dataframe\">\n",
       "  <thead>\n",
       "    <tr style=\"text-align: right;\">\n",
       "      <th></th>\n",
       "      <th>year</th>\n",
       "      <th>make</th>\n",
       "      <th>model</th>\n",
       "    </tr>\n",
       "  </thead>\n",
       "  <tbody>\n",
       "    <tr>\n",
       "      <th>0</th>\n",
       "      <td>1997</td>\n",
       "      <td>Ford</td>\n",
       "      <td>Ranger</td>\n",
       "    </tr>\n",
       "    <tr>\n",
       "      <th>1</th>\n",
       "      <td>2009</td>\n",
       "      <td>Subaru</td>\n",
       "      <td>Legacy</td>\n",
       "    </tr>\n",
       "    <tr>\n",
       "      <th>2</th>\n",
       "      <td>2018</td>\n",
       "      <td>Chevy</td>\n",
       "      <td>Silverado</td>\n",
       "    </tr>\n",
       "  </tbody>\n",
       "</table>\n",
       "</div>"
      ],
      "text/plain": [
       "   year    make      model\n",
       "0  1997    Ford     Ranger\n",
       "1  2009  Subaru     Legacy\n",
       "2  2018   Chevy  Silverado"
      ]
     },
     "execution_count": 59,
     "metadata": {},
     "output_type": "execute_result"
    }
   ],
   "source": [
    "cars_dataset"
   ]
  },
  {
   "cell_type": "markdown",
   "id": "ea447f4f-7b68-4744-b80d-4c622a6a0714",
   "metadata": {},
   "source": [
    "### **View the head of the DataFrame**"
   ]
  },
  {
   "cell_type": "code",
   "execution_count": 60,
   "id": "0e184927-a7e9-43f2-9ea8-aadb39a565fb",
   "metadata": {},
   "outputs": [
    {
     "data": {
      "text/plain": [
       "<bound method NDFrame.head of    year    make      model\n",
       "0  1997    Ford     Ranger\n",
       "1  2009  Subaru     Legacy\n",
       "2  2018   Chevy  Silverado>"
      ]
     },
     "execution_count": 60,
     "metadata": {},
     "output_type": "execute_result"
    }
   ],
   "source": [
    "cars_dataset.head"
   ]
  },
  {
   "cell_type": "markdown",
   "id": "da94f57c-2f94-45d9-90eb-e2c7d87cbd6c",
   "metadata": {},
   "source": [
    "### **View the index of the DataFrame**"
   ]
  },
  {
   "cell_type": "code",
   "execution_count": 61,
   "id": "7cef784f-fc63-4e95-82a5-9c507dbec11e",
   "metadata": {},
   "outputs": [
    {
     "data": {
      "text/plain": [
       "RangeIndex(start=0, stop=3, step=1)"
      ]
     },
     "execution_count": 61,
     "metadata": {},
     "output_type": "execute_result"
    }
   ],
   "source": [
    "cars_dataset.index"
   ]
  },
  {
   "cell_type": "markdown",
   "id": "ef4850c6-33f6-478c-a747-ef0ffdfb8732",
   "metadata": {},
   "source": [
    "### **Select and view the first column of the DataFrame**"
   ]
  },
  {
   "cell_type": "code",
   "execution_count": 62,
   "id": "bfe68c9f-77fa-48da-8a47-782f5e85ecbd",
   "metadata": {},
   "outputs": [],
   "source": [
    "year_column = cars_dataset[['year']]"
   ]
  },
  {
   "cell_type": "code",
   "execution_count": 63,
   "id": "4aa92fd8-e585-4b95-97b7-bb8ef1f780ee",
   "metadata": {},
   "outputs": [
    {
     "data": {
      "text/html": [
       "<div>\n",
       "<style scoped>\n",
       "    .dataframe tbody tr th:only-of-type {\n",
       "        vertical-align: middle;\n",
       "    }\n",
       "\n",
       "    .dataframe tbody tr th {\n",
       "        vertical-align: top;\n",
       "    }\n",
       "\n",
       "    .dataframe thead th {\n",
       "        text-align: right;\n",
       "    }\n",
       "</style>\n",
       "<table border=\"1\" class=\"dataframe\">\n",
       "  <thead>\n",
       "    <tr style=\"text-align: right;\">\n",
       "      <th></th>\n",
       "      <th>year</th>\n",
       "    </tr>\n",
       "  </thead>\n",
       "  <tbody>\n",
       "    <tr>\n",
       "      <th>0</th>\n",
       "      <td>1997</td>\n",
       "    </tr>\n",
       "    <tr>\n",
       "      <th>1</th>\n",
       "      <td>2009</td>\n",
       "    </tr>\n",
       "    <tr>\n",
       "      <th>2</th>\n",
       "      <td>2018</td>\n",
       "    </tr>\n",
       "  </tbody>\n",
       "</table>\n",
       "</div>"
      ],
      "text/plain": [
       "   year\n",
       "0  1997\n",
       "1  2009\n",
       "2  2018"
      ]
     },
     "execution_count": 63,
     "metadata": {},
     "output_type": "execute_result"
    }
   ],
   "source": [
    "year_column"
   ]
  },
  {
   "cell_type": "markdown",
   "id": "881a658b-cd7e-4762-aff1-c22087ed84c8",
   "metadata": {},
   "source": [
    "#### ***Once more, as a list***"
   ]
  },
  {
   "cell_type": "code",
   "execution_count": 64,
   "id": "007e93e4-e0e7-4ac2-8d70-67c51f01a035",
   "metadata": {},
   "outputs": [],
   "source": [
    "year_list = cars_dataset['year']"
   ]
  },
  {
   "cell_type": "code",
   "execution_count": 65,
   "id": "ac077cf3-14bb-41a7-984c-13e2384544f1",
   "metadata": {},
   "outputs": [
    {
     "data": {
      "text/plain": [
       "0    1997\n",
       "1    2009\n",
       "2    2018\n",
       "Name: year, dtype: int64"
      ]
     },
     "execution_count": 65,
     "metadata": {},
     "output_type": "execute_result"
    }
   ],
   "source": [
    "year_list"
   ]
  },
  {
   "cell_type": "markdown",
   "id": "4803fd9c-2495-401e-93e5-14f2cc3f01b3",
   "metadata": {},
   "source": [
    "### **Select and view the first row of the DataFrame**"
   ]
  },
  {
   "cell_type": "code",
   "execution_count": 66,
   "id": "629cc364-73a9-4e4f-af88-c8e81b799878",
   "metadata": {},
   "outputs": [],
   "source": [
    "obs1 = cars_dataset[:1]"
   ]
  },
  {
   "cell_type": "code",
   "execution_count": 67,
   "id": "f3fb91d0-19af-4652-8db7-04df71183c7b",
   "metadata": {},
   "outputs": [
    {
     "data": {
      "text/html": [
       "<div>\n",
       "<style scoped>\n",
       "    .dataframe tbody tr th:only-of-type {\n",
       "        vertical-align: middle;\n",
       "    }\n",
       "\n",
       "    .dataframe tbody tr th {\n",
       "        vertical-align: top;\n",
       "    }\n",
       "\n",
       "    .dataframe thead th {\n",
       "        text-align: right;\n",
       "    }\n",
       "</style>\n",
       "<table border=\"1\" class=\"dataframe\">\n",
       "  <thead>\n",
       "    <tr style=\"text-align: right;\">\n",
       "      <th></th>\n",
       "      <th>year</th>\n",
       "      <th>make</th>\n",
       "      <th>model</th>\n",
       "    </tr>\n",
       "  </thead>\n",
       "  <tbody>\n",
       "    <tr>\n",
       "      <th>0</th>\n",
       "      <td>1997</td>\n",
       "      <td>Ford</td>\n",
       "      <td>Ranger</td>\n",
       "    </tr>\n",
       "  </tbody>\n",
       "</table>\n",
       "</div>"
      ],
      "text/plain": [
       "   year  make   model\n",
       "0  1997  Ford  Ranger"
      ]
     },
     "execution_count": 67,
     "metadata": {},
     "output_type": "execute_result"
    }
   ],
   "source": [
    "obs1"
   ]
  },
  {
   "cell_type": "markdown",
   "id": "e1bfc3e9-db40-4193-bce2-b87c7478dae9",
   "metadata": {},
   "source": [
    "### **Write the DataFrame to a new CSV file saved in your assignment folder**"
   ]
  },
  {
   "cell_type": "code",
   "execution_count": 68,
   "id": "134cbbdf-f1c6-40c0-8a2f-324323037630",
   "metadata": {},
   "outputs": [],
   "source": [
    "cars_dataset.to_csv('cars_dataset.csv')"
   ]
  },
  {
   "cell_type": "code",
   "execution_count": 69,
   "id": "dda0a95d-98f8-434f-8280-0eb340597880",
   "metadata": {},
   "outputs": [
    {
     "name": "stdout",
     "output_type": "stream",
     "text": [
      "Bobkowski_SystemsCheck.ipynb     cces_example_data.csv\n",
      "Bobkowski_pandasChallenge.ipynb  in-class-1-29.ipynb\n",
      "Untitled.ipynb                   subset_cces_example_data.csv\n",
      "cars_dataset.csv\n"
     ]
    }
   ],
   "source": [
    "ls"
   ]
  },
  {
   "cell_type": "markdown",
   "id": "e44f598a-0c12-44f2-9d4e-fa32b620b8c0",
   "metadata": {},
   "source": [
    "### **Why are dynamic, interactive data visualizations useful when communicating data?**"
   ]
  },
  {
   "cell_type": "markdown",
   "id": "6025faa6-a77e-4a3d-a0cd-db902de248ec",
   "metadata": {},
   "source": [
    "Dynamic and interactive data visualizations allow a reader to customize their engagement with the data. A reader may choose to view the data only at the most superficial level, at a granular level, or somewhere in between. The customizability of a reader's experience with the data means that an interactive data visualization has the potential to engage a larger audience than a static visualization would, from those who otherwise would not pay attention to the data to those who are seeking detailed answers to questions the data addresses (Murray, 2017)."
   ]
  }
 ],
 "metadata": {
  "kernelspec": {
   "display_name": "Python 3 (ipykernel)",
   "language": "python",
   "name": "python3"
  },
  "language_info": {
   "codemirror_mode": {
    "name": "ipython",
    "version": 3
   },
   "file_extension": ".py",
   "mimetype": "text/x-python",
   "name": "python",
   "nbconvert_exporter": "python",
   "pygments_lexer": "ipython3",
   "version": "3.12.1"
  }
 },
 "nbformat": 4,
 "nbformat_minor": 5
}
