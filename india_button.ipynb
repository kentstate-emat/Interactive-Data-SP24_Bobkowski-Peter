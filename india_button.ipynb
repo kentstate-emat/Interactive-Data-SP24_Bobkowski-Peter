{
 "cells": [
  {
   "cell_type": "code",
   "execution_count": 1,
   "id": "a87ad5a9-fba4-4d83-a533-e73f7c6766b4",
   "metadata": {},
   "outputs": [],
   "source": [
    "import pandas as pd\n",
    "import plotly.express as px\n",
    "import plotly.graph_objects as go"
   ]
  },
  {
   "cell_type": "code",
   "execution_count": 2,
   "id": "3e69651c-12af-4d69-986a-75d106bd7b70",
   "metadata": {},
   "outputs": [],
   "source": [
    "cricket = pd.read_csv('cricket.csv')"
   ]
  },
  {
   "cell_type": "code",
   "execution_count": 3,
   "id": "c6f4a9f3-6c4e-4e88-bc07-e137ba17dd03",
   "metadata": {},
   "outputs": [
    {
     "data": {
      "text/html": [
       "<div>\n",
       "<style scoped>\n",
       "    .dataframe tbody tr th:only-of-type {\n",
       "        vertical-align: middle;\n",
       "    }\n",
       "\n",
       "    .dataframe tbody tr th {\n",
       "        vertical-align: top;\n",
       "    }\n",
       "\n",
       "    .dataframe thead th {\n",
       "        text-align: right;\n",
       "    }\n",
       "</style>\n",
       "<table border=\"1\" class=\"dataframe\">\n",
       "  <thead>\n",
       "    <tr style=\"text-align: right;\">\n",
       "      <th></th>\n",
       "      <th>ID</th>\n",
       "      <th>Player</th>\n",
       "      <th>Country</th>\n",
       "      <th>Last Year Played</th>\n",
       "      <th>Matches</th>\n",
       "      <th>Innings</th>\n",
       "      <th>No Outs</th>\n",
       "      <th>Runs</th>\n",
       "      <th>Average</th>\n",
       "      <th>Balls_Faced</th>\n",
       "      <th>Strike_Rate</th>\n",
       "    </tr>\n",
       "  </thead>\n",
       "  <tbody>\n",
       "    <tr>\n",
       "      <th>0</th>\n",
       "      <td>1</td>\n",
       "      <td>Shoaib Malik</td>\n",
       "      <td>PAK</td>\n",
       "      <td>2019</td>\n",
       "      <td>111</td>\n",
       "      <td>104</td>\n",
       "      <td>30</td>\n",
       "      <td>2263</td>\n",
       "      <td>30.58</td>\n",
       "      <td>1824</td>\n",
       "      <td>124.06</td>\n",
       "    </tr>\n",
       "    <tr>\n",
       "      <th>1</th>\n",
       "      <td>2</td>\n",
       "      <td>RG Sharma</td>\n",
       "      <td>INDIA</td>\n",
       "      <td>2019</td>\n",
       "      <td>104</td>\n",
       "      <td>96</td>\n",
       "      <td>14</td>\n",
       "      <td>2633</td>\n",
       "      <td>32.10</td>\n",
       "      <td>1905</td>\n",
       "      <td>138.21</td>\n",
       "    </tr>\n",
       "    <tr>\n",
       "      <th>2</th>\n",
       "      <td>3</td>\n",
       "      <td>Shahid Afridi</td>\n",
       "      <td>PAK</td>\n",
       "      <td>2018</td>\n",
       "      <td>99</td>\n",
       "      <td>91</td>\n",
       "      <td>12</td>\n",
       "      <td>1416</td>\n",
       "      <td>17.92</td>\n",
       "      <td>944</td>\n",
       "      <td>150.00</td>\n",
       "    </tr>\n",
       "    <tr>\n",
       "      <th>3</th>\n",
       "      <td>4</td>\n",
       "      <td>MS Dhoni</td>\n",
       "      <td>INDIA</td>\n",
       "      <td>2019</td>\n",
       "      <td>98</td>\n",
       "      <td>85</td>\n",
       "      <td>42</td>\n",
       "      <td>1617</td>\n",
       "      <td>37.60</td>\n",
       "      <td>1282</td>\n",
       "      <td>126.13</td>\n",
       "    </tr>\n",
       "    <tr>\n",
       "      <th>4</th>\n",
       "      <td>5</td>\n",
       "      <td>LRPL Taylor</td>\n",
       "      <td>NZ</td>\n",
       "      <td>2019</td>\n",
       "      <td>95</td>\n",
       "      <td>87</td>\n",
       "      <td>19</td>\n",
       "      <td>1743</td>\n",
       "      <td>25.63</td>\n",
       "      <td>1430</td>\n",
       "      <td>121.88</td>\n",
       "    </tr>\n",
       "    <tr>\n",
       "      <th>...</th>\n",
       "      <td>...</td>\n",
       "      <td>...</td>\n",
       "      <td>...</td>\n",
       "      <td>...</td>\n",
       "      <td>...</td>\n",
       "      <td>...</td>\n",
       "      <td>...</td>\n",
       "      <td>...</td>\n",
       "      <td>...</td>\n",
       "      <td>...</td>\n",
       "      <td>...</td>\n",
       "    </tr>\n",
       "    <tr>\n",
       "      <th>1105</th>\n",
       "      <td>1106</td>\n",
       "      <td>Adnan Mufti</td>\n",
       "      <td>UAE</td>\n",
       "      <td>2017</td>\n",
       "      <td>1</td>\n",
       "      <td>1</td>\n",
       "      <td>1</td>\n",
       "      <td>6</td>\n",
       "      <td>NaN</td>\n",
       "      <td>7</td>\n",
       "      <td>85.71</td>\n",
       "    </tr>\n",
       "    <tr>\n",
       "      <th>1106</th>\n",
       "      <td>1107</td>\n",
       "      <td>Muhammed Shanil</td>\n",
       "      <td>UAE</td>\n",
       "      <td>2016</td>\n",
       "      <td>1</td>\n",
       "      <td>1</td>\n",
       "      <td>1</td>\n",
       "      <td>1</td>\n",
       "      <td>NaN</td>\n",
       "      <td>3</td>\n",
       "      <td>33.33</td>\n",
       "    </tr>\n",
       "    <tr>\n",
       "      <th>1107</th>\n",
       "      <td>1108</td>\n",
       "      <td>DE Bernard</td>\n",
       "      <td>WI</td>\n",
       "      <td>2009</td>\n",
       "      <td>1</td>\n",
       "      <td>1</td>\n",
       "      <td>1</td>\n",
       "      <td>1</td>\n",
       "      <td>NaN</td>\n",
       "      <td>1</td>\n",
       "      <td>100.00</td>\n",
       "    </tr>\n",
       "    <tr>\n",
       "      <th>1108</th>\n",
       "      <td>1109</td>\n",
       "      <td>IDR Bradshaw</td>\n",
       "      <td>WI</td>\n",
       "      <td>2006</td>\n",
       "      <td>1</td>\n",
       "      <td>1</td>\n",
       "      <td>1</td>\n",
       "      <td>0</td>\n",
       "      <td>NaN</td>\n",
       "      <td>0</td>\n",
       "      <td>NaN</td>\n",
       "    </tr>\n",
       "    <tr>\n",
       "      <th>1109</th>\n",
       "      <td>1110</td>\n",
       "      <td>AJ Ireland</td>\n",
       "      <td>ZIM</td>\n",
       "      <td>2006</td>\n",
       "      <td>1</td>\n",
       "      <td>1</td>\n",
       "      <td>1</td>\n",
       "      <td>2</td>\n",
       "      <td>NaN</td>\n",
       "      <td>3</td>\n",
       "      <td>66.66</td>\n",
       "    </tr>\n",
       "  </tbody>\n",
       "</table>\n",
       "<p>1110 rows × 11 columns</p>\n",
       "</div>"
      ],
      "text/plain": [
       "        ID            Player Country  Last Year Played  Matches  Innings  \\\n",
       "0        1     Shoaib Malik      PAK              2019      111      104   \n",
       "1        2        RG Sharma    INDIA              2019      104       96   \n",
       "2        3    Shahid Afridi      PAK              2018       99       91   \n",
       "3        4         MS Dhoni    INDIA              2019       98       85   \n",
       "4        5      LRPL Taylor       NZ              2019       95       87   \n",
       "...    ...               ...     ...               ...      ...      ...   \n",
       "1105  1106      Adnan Mufti      UAE              2017        1        1   \n",
       "1106  1107  Muhammed Shanil      UAE              2016        1        1   \n",
       "1107  1108       DE Bernard       WI              2009        1        1   \n",
       "1108  1109     IDR Bradshaw       WI              2006        1        1   \n",
       "1109  1110       AJ Ireland      ZIM              2006        1        1   \n",
       "\n",
       "      No Outs  Runs  Average  Balls_Faced  Strike_Rate  \n",
       "0          30  2263    30.58         1824       124.06  \n",
       "1          14  2633    32.10         1905       138.21  \n",
       "2          12  1416    17.92          944       150.00  \n",
       "3          42  1617    37.60         1282       126.13  \n",
       "4          19  1743    25.63         1430       121.88  \n",
       "...       ...   ...      ...          ...          ...  \n",
       "1105        1     6      NaN            7        85.71  \n",
       "1106        1     1      NaN            3        33.33  \n",
       "1107        1     1      NaN            1       100.00  \n",
       "1108        1     0      NaN            0          NaN  \n",
       "1109        1     2      NaN            3        66.66  \n",
       "\n",
       "[1110 rows x 11 columns]"
      ]
     },
     "execution_count": 3,
     "metadata": {},
     "output_type": "execute_result"
    }
   ],
   "source": [
    "cricket"
   ]
  },
  {
   "cell_type": "code",
   "execution_count": 7,
   "id": "86e2a421-93c0-41cb-ae41-04592acfd5fe",
   "metadata": {},
   "outputs": [],
   "source": [
    "df_india = cricket[cricket['Country'] == 'INDIA']"
   ]
  },
  {
   "cell_type": "code",
   "execution_count": 8,
   "id": "9a51ba7b-63b3-434c-bf84-9ed1ad55ef13",
   "metadata": {},
   "outputs": [
    {
     "data": {
      "text/html": [
       "<div>\n",
       "<style scoped>\n",
       "    .dataframe tbody tr th:only-of-type {\n",
       "        vertical-align: middle;\n",
       "    }\n",
       "\n",
       "    .dataframe tbody tr th {\n",
       "        vertical-align: top;\n",
       "    }\n",
       "\n",
       "    .dataframe thead th {\n",
       "        text-align: right;\n",
       "    }\n",
       "</style>\n",
       "<table border=\"1\" class=\"dataframe\">\n",
       "  <thead>\n",
       "    <tr style=\"text-align: right;\">\n",
       "      <th></th>\n",
       "      <th>ID</th>\n",
       "      <th>Player</th>\n",
       "      <th>Country</th>\n",
       "      <th>Last Year Played</th>\n",
       "      <th>Matches</th>\n",
       "      <th>Innings</th>\n",
       "      <th>No Outs</th>\n",
       "      <th>Runs</th>\n",
       "      <th>Average</th>\n",
       "      <th>Balls_Faced</th>\n",
       "      <th>Strike_Rate</th>\n",
       "    </tr>\n",
       "  </thead>\n",
       "  <tbody>\n",
       "    <tr>\n",
       "      <th>1</th>\n",
       "      <td>2</td>\n",
       "      <td>RG Sharma</td>\n",
       "      <td>INDIA</td>\n",
       "      <td>2019</td>\n",
       "      <td>104</td>\n",
       "      <td>96</td>\n",
       "      <td>14</td>\n",
       "      <td>2633</td>\n",
       "      <td>32.10</td>\n",
       "      <td>1905</td>\n",
       "      <td>138.21</td>\n",
       "    </tr>\n",
       "    <tr>\n",
       "      <th>3</th>\n",
       "      <td>4</td>\n",
       "      <td>MS Dhoni</td>\n",
       "      <td>INDIA</td>\n",
       "      <td>2019</td>\n",
       "      <td>98</td>\n",
       "      <td>85</td>\n",
       "      <td>42</td>\n",
       "      <td>1617</td>\n",
       "      <td>37.60</td>\n",
       "      <td>1282</td>\n",
       "      <td>126.13</td>\n",
       "    </tr>\n",
       "    <tr>\n",
       "      <th>16</th>\n",
       "      <td>17</td>\n",
       "      <td>SK Raina</td>\n",
       "      <td>INDIA</td>\n",
       "      <td>2018</td>\n",
       "      <td>78</td>\n",
       "      <td>66</td>\n",
       "      <td>11</td>\n",
       "      <td>1605</td>\n",
       "      <td>29.18</td>\n",
       "      <td>1190</td>\n",
       "      <td>134.87</td>\n",
       "    </tr>\n",
       "    <tr>\n",
       "      <th>21</th>\n",
       "      <td>22</td>\n",
       "      <td>V Kohli</td>\n",
       "      <td>INDIA</td>\n",
       "      <td>2019</td>\n",
       "      <td>75</td>\n",
       "      <td>70</td>\n",
       "      <td>20</td>\n",
       "      <td>2633</td>\n",
       "      <td>52.66</td>\n",
       "      <td>1907</td>\n",
       "      <td>138.07</td>\n",
       "    </tr>\n",
       "    <tr>\n",
       "      <th>53</th>\n",
       "      <td>54</td>\n",
       "      <td>Yuvraj Singh</td>\n",
       "      <td>INDIA</td>\n",
       "      <td>2017</td>\n",
       "      <td>58</td>\n",
       "      <td>51</td>\n",
       "      <td>9</td>\n",
       "      <td>1177</td>\n",
       "      <td>28.02</td>\n",
       "      <td>863</td>\n",
       "      <td>136.38</td>\n",
       "    </tr>\n",
       "    <tr>\n",
       "      <th>...</th>\n",
       "      <td>...</td>\n",
       "      <td>...</td>\n",
       "      <td>...</td>\n",
       "      <td>...</td>\n",
       "      <td>...</td>\n",
       "      <td>...</td>\n",
       "      <td>...</td>\n",
       "      <td>...</td>\n",
       "      <td>...</td>\n",
       "      <td>...</td>\n",
       "      <td>...</td>\n",
       "    </tr>\n",
       "    <tr>\n",
       "      <th>1023</th>\n",
       "      <td>1024</td>\n",
       "      <td>R Dravid</td>\n",
       "      <td>INDIA</td>\n",
       "      <td>2011</td>\n",
       "      <td>1</td>\n",
       "      <td>1</td>\n",
       "      <td>0</td>\n",
       "      <td>31</td>\n",
       "      <td>31.00</td>\n",
       "      <td>21</td>\n",
       "      <td>147.61</td>\n",
       "    </tr>\n",
       "    <tr>\n",
       "      <th>1030</th>\n",
       "      <td>1031</td>\n",
       "      <td>SV Samson</td>\n",
       "      <td>INDIA</td>\n",
       "      <td>2015</td>\n",
       "      <td>1</td>\n",
       "      <td>1</td>\n",
       "      <td>0</td>\n",
       "      <td>19</td>\n",
       "      <td>19.00</td>\n",
       "      <td>24</td>\n",
       "      <td>79.16</td>\n",
       "    </tr>\n",
       "    <tr>\n",
       "      <th>1047</th>\n",
       "      <td>1048</td>\n",
       "      <td>SR Tendulkar</td>\n",
       "      <td>INDIA</td>\n",
       "      <td>2006</td>\n",
       "      <td>1</td>\n",
       "      <td>1</td>\n",
       "      <td>0</td>\n",
       "      <td>10</td>\n",
       "      <td>10.00</td>\n",
       "      <td>12</td>\n",
       "      <td>83.33</td>\n",
       "    </tr>\n",
       "    <tr>\n",
       "      <th>1061</th>\n",
       "      <td>1062</td>\n",
       "      <td>Parvez Rasool</td>\n",
       "      <td>INDIA</td>\n",
       "      <td>2017</td>\n",
       "      <td>1</td>\n",
       "      <td>1</td>\n",
       "      <td>0</td>\n",
       "      <td>5</td>\n",
       "      <td>5.00</td>\n",
       "      <td>6</td>\n",
       "      <td>83.33</td>\n",
       "    </tr>\n",
       "    <tr>\n",
       "      <th>1099</th>\n",
       "      <td>1100</td>\n",
       "      <td>R Dhawan</td>\n",
       "      <td>INDIA</td>\n",
       "      <td>2016</td>\n",
       "      <td>1</td>\n",
       "      <td>1</td>\n",
       "      <td>1</td>\n",
       "      <td>1</td>\n",
       "      <td>NaN</td>\n",
       "      <td>2</td>\n",
       "      <td>50.00</td>\n",
       "    </tr>\n",
       "  </tbody>\n",
       "</table>\n",
       "<p>65 rows × 11 columns</p>\n",
       "</div>"
      ],
      "text/plain": [
       "        ID          Player Country  Last Year Played  Matches  Innings  \\\n",
       "1        2      RG Sharma    INDIA              2019      104       96   \n",
       "3        4       MS Dhoni    INDIA              2019       98       85   \n",
       "16      17       SK Raina    INDIA              2018       78       66   \n",
       "21      22        V Kohli    INDIA              2019       75       70   \n",
       "53      54   Yuvraj Singh    INDIA              2017       58       51   \n",
       "...    ...             ...     ...               ...      ...      ...   \n",
       "1023  1024       R Dravid    INDIA              2011        1        1   \n",
       "1030  1031      SV Samson    INDIA              2015        1        1   \n",
       "1047  1048   SR Tendulkar    INDIA              2006        1        1   \n",
       "1061  1062  Parvez Rasool    INDIA              2017        1        1   \n",
       "1099  1100       R Dhawan    INDIA              2016        1        1   \n",
       "\n",
       "      No Outs  Runs  Average  Balls_Faced  Strike_Rate  \n",
       "1          14  2633    32.10         1905       138.21  \n",
       "3          42  1617    37.60         1282       126.13  \n",
       "16         11  1605    29.18         1190       134.87  \n",
       "21         20  2633    52.66         1907       138.07  \n",
       "53          9  1177    28.02          863       136.38  \n",
       "...       ...   ...      ...          ...          ...  \n",
       "1023        0    31    31.00           21       147.61  \n",
       "1030        0    19    19.00           24        79.16  \n",
       "1047        0    10    10.00           12        83.33  \n",
       "1061        0     5     5.00            6        83.33  \n",
       "1099        1     1      NaN            2        50.00  \n",
       "\n",
       "[65 rows x 11 columns]"
      ]
     },
     "execution_count": 8,
     "metadata": {},
     "output_type": "execute_result"
    }
   ],
   "source": [
    "df_india"
   ]
  },
  {
   "cell_type": "code",
   "execution_count": 9,
   "id": "c6908468-5c99-48c6-b3c0-bcbbdc595229",
   "metadata": {},
   "outputs": [
    {
     "data": {
      "application/vnd.plotly.v1+json": {
       "config": {
        "plotlyServerURL": "https://plot.ly"
       },
       "data": [
        {
         "customdata": [
          [
           30.58,
           "PAK"
          ],
          [
           32.1,
           "INDIA"
          ],
          [
           17.92,
           "PAK"
          ],
          [
           37.6,
           "INDIA"
          ],
          [
           25.63,
           "NZ"
          ],
          [
           20.6,
           "IRE"
          ],
          [
           24.46,
           "PAK"
          ],
          [
           29.88,
           "ENG"
          ],
          [
           26,
           "PAK"
          ],
          [
           20.07,
           "BDESH"
          ],
          [
           33.36,
           "NZ"
          ],
          [
           23.83,
           "BDESH"
          ],
          [
           38.68,
           "SA"
          ],
          [
           28.19,
           "SL"
          ],
          [
           23.85,
           "SL"
          ],
          [
           7.11,
           "SL"
          ],
          [
           29.18,
           "INDIA"
          ],
          [
           26.12,
           "SA"
          ],
          [
           21.73,
           "IRE"
          ],
          [
           30.57,
           "AUS"
          ],
          [
           23.74,
           "BDESH"
          ],
          [
           52.66,
           "INDIA"
          ],
          [
           23.04,
           "BDESH"
          ],
          [
           22.3,
           "AFG"
          ],
          [
           13.21,
           "IRE"
          ],
          [
           29.75,
           "SA"
          ],
          [
           29.67,
           "IRE"
          ],
          [
           27.05,
           "SL"
          ],
          [
           35.66,
           "NZ"
          ],
          [
           18.7,
           "WI"
          ],
          [
           16,
           "NL"
          ],
          [
           23,
           "WI"
          ],
          [
           17.26,
           "WI"
          ],
          [
           29.29,
           "WI"
          ],
          [
           26.8,
           "ENG"
          ],
          [
           25.96,
           "ZIM"
          ],
          [
           24.29,
           "WI"
          ],
          [
           20.83,
           "AFG"
          ],
          [
           12.22,
           "NZ"
          ],
          [
           31.22,
           "AFG"
          ],
          [
           8.27,
           "PAK"
          ],
          [
           11.5,
           "NZ"
          ],
          [
           21.88,
           "AFG"
          ],
          [
           35.02,
           "AUS"
          ],
          [
           28.34,
           "SCOT"
          ],
          [
           20.35,
           "IRE"
          ],
          [
           31.01,
           "ENG"
          ],
          [
           30.92,
           "NZ"
          ],
          [
           9.16,
           "PAK"
          ],
          [
           25.8,
           "PAK"
          ],
          [
           38.32,
           "AUS"
          ],
          [
           32.54,
           "WI"
          ],
          [
           29.24,
           "AUS"
          ],
          [
           28.02,
           "INDIA"
          ],
          [
           28,
           "PAK"
          ],
          [
           27.85,
           "INDIA"
          ],
          [
           25.66,
           "SCOT"
          ],
          [
           21,
           "PAK"
          ],
          [
           10.23,
           "SL"
          ],
          [
           31.35,
           "NZ"
          ],
          [
           30.6,
           "AFG"
          ],
          [
           11.52,
           "PAK"
          ],
          [
           31.4,
           "SL"
          ],
          [
           7.37,
           "ENG"
          ],
          [
           31.76,
           "SL"
          ],
          [
           19.36,
           "ZIM"
          ],
          [
           18.6,
           "SL"
          ],
          [
           13.46,
           "BDESH"
          ],
          [
           7.16,
           "WI"
          ],
          [
           28.05,
           "NL"
          ],
          [
           18.97,
           "ENG"
          ],
          [
           10.33,
           "WI"
          ],
          [
           21.18,
           "SA"
          ],
          [
           26.05,
           "SCOT"
          ],
          [
           24.14,
           "WI"
          ],
          [
           9.14,
           "ENG"
          ],
          [
           7.37,
           "PAK"
          ],
          [
           32.8,
           "AUS"
          ],
          [
           17.88,
           "WI"
          ],
          [
           30.75,
           "INDIA"
          ],
          [
           17.19,
           "BDESH"
          ],
          [
           16.46,
           "AFG"
          ],
          [
           11.64,
           "INDIA"
          ],
          [
           17.48,
           "AFG"
          ],
          [
           13.54,
           "AFG"
          ],
          [
           35.86,
           "SA"
          ],
          [
           33.6,
           "SA"
          ],
          [
           24.89,
           "BDESH"
          ],
          [
           7.33,
           "SA"
          ],
          [
           3.2,
           "SA"
          ],
          [
           26.7,
           "NL"
          ],
          [
           26.03,
           "SCOT"
          ],
          [
           22.67,
           "SL"
          ],
          [
           19.33,
           "NL"
          ],
          [
           15.42,
           "ENG"
          ],
          [
           5.75,
           "INDIA"
          ],
          [
           27.88,
           "SL"
          ],
          [
           22.82,
           "NL"
          ],
          [
           21.25,
           "WI"
          ],
          [
           13.66,
           "SCOT"
          ],
          [
           11.41,
           "NZ"
          ],
          [
           4,
           "INDIA"
          ],
          [
           14.9,
           "IRE"
          ],
          [
           14.76,
           "WI"
          ],
          [
           13.05,
           "PAK"
          ],
          [
           4.87,
           "NL"
          ],
          [
           28.5,
           "SA"
          ],
          [
           18.27,
           "SA"
          ],
          [
           16.31,
           "INDIA"
          ],
          [
           14.75,
           "NZ"
          ],
          [
           7.28,
           "ENG"
          ],
          [
           37.52,
           "PAK"
          ],
          [
           22.9,
           "AUS"
          ],
          [
           20.8,
           "ENG"
          ],
          [
           15.57,
           "NL"
          ],
          [
           15.47,
           "NZ"
          ],
          [
           2.66,
           "SL"
          ],
          [
           37.94,
           "AUS"
          ],
          [
           32.37,
           "SA"
          ],
          [
           30.84,
           "SA"
          ],
          [
           29.9,
           "SCOT"
          ],
          [
           28.44,
           "ENG"
          ],
          [
           24.87,
           "ZIM"
          ],
          [
           24.78,
           "ZIM"
          ],
          [
           20.13,
           "NZ"
          ],
          [
           19,
           "SA"
          ],
          [
           16.8,
           "UAE"
          ],
          [
           13.55,
           "PAK"
          ],
          [
           8.72,
           "NL"
          ],
          [
           37.93,
           "ENG"
          ],
          [
           27.41,
           "INDIA"
          ],
          [
           25.48,
           "IRE"
          ],
          [
           15.26,
           "IRE"
          ],
          [
           4.3,
           "BDESH"
          ],
          [
           50.17,
           "PAK"
          ],
          [
           27.47,
           "AUS"
          ],
          [
           26.24,
           "NL"
          ],
          [
           20.6,
           "NZ"
          ],
          [
           18.8,
           "ENG"
          ],
          [
           14.94,
           "AFG"
          ],
          [
           13.71,
           "UAE"
          ],
          [
           4,
           "INDIA"
          ],
          [
           25.59,
           "KENYA"
          ],
          [
           15.5,
           "SL"
          ],
          [
           10.6,
           "SCOT"
          ],
          [
           7.83,
           "ZIM"
          ],
          [
           43.76,
           "INDIA"
          ],
          [
           26.21,
           "ENG"
          ],
          [
           25.74,
           "UAE"
          ],
          [
           22.9,
           "PAK"
          ],
          [
           21.93,
           "WI"
          ],
          [
           21.21,
           "AUS"
          ],
          [
           18,
           "HKG"
          ],
          [
           17.47,
           "AUS"
          ],
          [
           16.61,
           "ENG"
          ],
          [
           12.81,
           "NZ"
          ],
          [
           7.55,
           "AFG"
          ],
          [
           4.8,
           "ENG"
          ],
          [
           4.1,
           "BDESH"
          ],
          [
           3.85,
           "AFG"
          ],
          [
           31.67,
           "SA"
          ],
          [
           24.7,
           "NL"
          ],
          [
           19.95,
           "NZ"
          ],
          [
           19.4,
           "ZIM"
          ],
          [
           18.18,
           "WI"
          ],
          [
           17.95,
           "AUS"
          ],
          [
           39.13,
           "INDIA"
          ],
          [
           35.72,
           "ENG"
          ],
          [
           33.48,
           "UAE"
          ],
          [
           33.25,
           "INDIA"
          ],
          [
           26.65,
           "ZIM"
          ],
          [
           23.21,
           "ENG"
          ],
          [
           20.68,
           "PAK"
          ],
          [
           18.03,
           "AFG"
          ],
          [
           13.53,
           "ZIM"
          ],
          [
           24.25,
           "NZ"
          ],
          [
           23.29,
           "SL"
          ],
          [
           21.4,
           "NZ"
          ],
          [
           18.5,
           "BDESH"
          ],
          [
           13.18,
           "PAK"
          ],
          [
           12.57,
           "UAE"
          ],
          [
           12,
           "SCOT"
          ],
          [
           10,
           "AFG"
          ],
          [
           9.33,
           "NL"
          ],
          [
           29.88,
           "NEPAL"
          ],
          [
           24.89,
           "AUS"
          ],
          [
           23.9,
           "KENYA"
          ],
          [
           20.75,
           "IRE"
          ],
          [
           17.92,
           "IRE"
          ],
          [
           14.65,
           "KENYA"
          ],
          [
           13.11,
           "WI"
          ],
          [
           12.2,
           "PAK"
          ],
          [
           11.95,
           "HKG"
          ],
          [
           10.9,
           "AUS"
          ],
          [
           8.25,
           "ZIM"
          ],
          [
           30.85,
           "WI"
          ],
          [
           23.85,
           "NL"
          ],
          [
           6,
           "NZ"
          ],
          [
           5.23,
           "ZIM"
          ],
          [
           15.23,
           "NEPAL"
          ],
          [
           13.83,
           "ENG"
          ],
          [
           13.63,
           "AUS"
          ],
          [
           13.5,
           "INDIA"
          ],
          [
           8.23,
           "KENYA"
          ],
          [
           3.5,
           "BDESH"
          ],
          [
           3,
           "AUS"
          ],
          [
           22.6,
           "SL"
          ],
          [
           21.23,
           "ENG"
          ],
          [
           17.7,
           "NL"
          ],
          [
           17.17,
           "NEPAL"
          ],
          [
           16.5,
           "IRE"
          ],
          [
           11.5,
           "AUS"
          ],
          [
           11.08,
           "PAK"
          ],
          [
           5.6,
           "INDIA"
          ],
          [
           4.4,
           "NZ"
          ],
          [
           3.4,
           "BDESH"
          ],
          [
           0.2,
           "SCOT"
          ],
          [
           27,
           "NL"
          ],
          [
           20.45,
           "INDIA"
          ],
          [
           20.44,
           "ZIM"
          ],
          [
           19.91,
           "AUS"
          ],
          [
           18.47,
           "HKG"
          ],
          [
           18.4,
           "IRE"
          ],
          [
           17.4,
           "ENG"
          ],
          [
           16.28,
           "SL"
          ],
          [
           16.16,
           "SL"
          ],
          [
           10.16,
           "AUS"
          ],
          [
           3,
           "IRE"
          ],
          [
           51,
           "KENYA"
          ],
          [
           35.05,
           "SA"
          ],
          [
           22.1,
           "PAK"
          ],
          [
           21.91,
           "ENG"
          ],
          [
           21.73,
           "PAK"
          ],
          [
           19.88,
           "BDESH"
          ],
          [
           18.38,
           "PAK"
          ],
          [
           17.86,
           "SA"
          ],
          [
           16.83,
           "AUS"
          ],
          [
           16,
           "IRE"
          ],
          [
           15.72,
           "NEPAL"
          ],
          [
           14.68,
           "ENG"
          ],
          [
           13.88,
           "AUS"
          ],
          [
           11.63,
           "AFG"
          ],
          [
           5,
           "AUS"
          ],
          [
           34.91,
           "SCOT"
          ],
          [
           28.33,
           "PAK"
          ],
          [
           27.05,
           "HKG"
          ],
          [
           24.57,
           "INDIA"
          ],
          [
           22.61,
           "HKG"
          ],
          [
           20.95,
           "NEPAL"
          ],
          [
           19.7,
           "SL"
          ],
          [
           17.68,
           "CAN"
          ],
          [
           17.63,
           "PAK"
          ],
          [
           14.45,
           "AUS"
          ],
          [
           12.33,
           "WI"
          ],
          [
           9.66,
           "KENYA"
          ],
          [
           9.33,
           "SL"
          ],
          [
           6.8,
           "HKG"
          ],
          [
           6.33,
           "WI"
          ],
          [
           20.73,
           "WI"
          ],
          [
           19.56,
           "BDESH"
          ],
          [
           19.5,
           "SL"
          ],
          [
           18.18,
           "SA"
          ],
          [
           15.46,
           "ENG"
          ],
          [
           14.77,
           "SA"
          ],
          [
           12.16,
           "SA"
          ],
          [
           12,
           "WI"
          ],
          [
           2,
           "SA"
          ],
          [
           44.41,
           "NL"
          ],
          [
           26.95,
           "SA"
          ],
          [
           24.94,
           "UAE"
          ],
          [
           23.05,
           "ZIM"
          ],
          [
           22.85,
           "NZ"
          ],
          [
           20.17,
           "WI"
          ],
          [
           19.6,
           "ZIM"
          ],
          [
           18.81,
           "SL"
          ],
          [
           18.15,
           "INDIA"
          ],
          [
           18.06,
           "UAE"
          ],
          [
           17.18,
           "SL"
          ],
          [
           16.66,
           "AFG"
          ],
          [
           14.11,
           "HKG"
          ],
          [
           7.85,
           "ZIM"
          ],
          [
           7.05,
           "KENYA"
          ],
          [
           6.12,
           "SL"
          ],
          [
           6,
           "ENG"
          ],
          [
           5,
           "WI"
          ],
          [
           null,
           "PAK"
          ],
          [
           24.26,
           "ZIM"
          ],
          [
           21.52,
           "SL"
          ],
          [
           17.21,
           "NZ"
          ],
          [
           16.6,
           "SCOT"
          ],
          [
           15.5,
           "SA"
          ],
          [
           13.68,
           "HKG"
          ],
          [
           13.66,
           "AUS"
          ],
          [
           13.18,
           "AFG"
          ],
          [
           12.8,
           "SCOT"
          ],
          [
           11.5,
           "SA"
          ],
          [
           5.5,
           "NL"
          ],
          [
           5,
           "ZIM"
          ],
          [
           2.75,
           "AUS"
          ],
          [
           2.5,
           "SA"
          ],
          [
           null,
           "ENG"
          ],
          [
           null,
           "NZ"
          ],
          [
           32.88,
           "AUS"
          ],
          [
           26.63,
           "AFG"
          ],
          [
           20.83,
           "INDIA"
          ],
          [
           20,
           "WI"
          ],
          [
           18.88,
           "HKG"
          ],
          [
           16.41,
           "WI"
          ],
          [
           15.61,
           "UAE"
          ],
          [
           15.28,
           "SL"
          ],
          [
           13.81,
           "PAK"
          ],
          [
           13.31,
           "KENYA"
          ],
          [
           13.14,
           "SA"
          ],
          [
           5,
           "WI"
          ],
          [
           4.2,
           "NZ"
          ],
          [
           24.72,
           "AFG"
          ],
          [
           21.88,
           "INDIA"
          ],
          [
           20,
           "INDIA"
          ],
          [
           19.9,
           "IRE"
          ],
          [
           18.58,
           "NZ"
          ],
          [
           18.25,
           "SCOT"
          ],
          [
           15.11,
           "AUS"
          ],
          [
           13.23,
           "WI"
          ],
          [
           12.16,
           "IRE"
          ],
          [
           9.66,
           "BDESH"
          ],
          [
           9,
           "AUS"
          ],
          [
           7.75,
           "SL"
          ],
          [
           5,
           "AUS"
          ],
          [
           5,
           "NZ"
          ],
          [
           2,
           "NL"
          ],
          [
           1,
           "ENG"
          ],
          [
           33.75,
           "ENG"
          ],
          [
           31,
           "CAN"
          ],
          [
           30.85,
           "NL"
          ],
          [
           28.85,
           "NL"
          ],
          [
           24.2,
           "INDIA"
          ],
          [
           24.2,
           "NZ"
          ],
          [
           22.92,
           "WI"
          ],
          [
           22.83,
           "IRE"
          ],
          [
           21.35,
           "PAK"
          ],
          [
           20.5,
           "NEPAL"
          ],
          [
           20.28,
           "WI"
          ],
          [
           19.4,
           "AUS"
          ],
          [
           16.81,
           "NZ"
          ],
          [
           15.75,
           "ENG"
          ],
          [
           14.38,
           "UAE"
          ],
          [
           13,
           "INDIA"
          ],
          [
           11.26,
           "IRE"
          ],
          [
           11.25,
           "HKG"
          ],
          [
           5.75,
           "NEPAL"
          ],
          [
           5.2,
           "KENYA"
          ],
          [
           5,
           "SL"
          ],
          [
           3.42,
           "NEPAL"
          ],
          [
           3.33,
           "UAE"
          ],
          [
           null,
           "ENG"
          ],
          [
           28.77,
           "ZIM"
          ],
          [
           28.64,
           "AUS"
          ],
          [
           26.16,
           "IRE"
          ],
          [
           24.78,
           "ENG"
          ],
          [
           23.84,
           "NEPAL"
          ],
          [
           18.9,
           "UAE"
          ],
          [
           15.54,
           "NZ"
          ],
          [
           15.2,
           "IRE"
          ],
          [
           12.33,
           "WI"
          ],
          [
           11,
           "AUS"
          ],
          [
           10.66,
           "ENG"
          ],
          [
           7.71,
           "SCOT"
          ],
          [
           6.5,
           "INDIA"
          ],
          [
           6,
           "CAN"
          ],
          [
           5.83,
           "UAE"
          ],
          [
           4.6,
           "BDESH"
          ],
          [
           2.66,
           "SL"
          ],
          [
           1.66,
           "NEPAL"
          ],
          [
           26.58,
           "AUS"
          ],
          [
           25.4,
           "ZIM"
          ],
          [
           24,
           "WI"
          ],
          [
           22,
           "KENYA"
          ],
          [
           21.63,
           "SL"
          ],
          [
           16.36,
           "PAK"
          ],
          [
           16.07,
           "SL"
          ],
          [
           15.57,
           "PAK"
          ],
          [
           14,
           "UAE"
          ],
          [
           13.46,
           "SL"
          ],
          [
           10.16,
           "KENYA"
          ],
          [
           6.75,
           "AUS"
          ],
          [
           6.33,
           "SA"
          ],
          [
           3,
           "ZIM"
          ],
          [
           0,
           "SA"
          ],
          [
           null,
           "AFG"
          ],
          [
           null,
           "PAK"
          ],
          [
           35.5,
           "HKG"
          ],
          [
           29.72,
           "SA"
          ],
          [
           28.75,
           "KENYA"
          ],
          [
           26.14,
           "AUS"
          ],
          [
           24,
           "PAK"
          ],
          [
           21.46,
           "NZ"
          ],
          [
           20.37,
           "NL"
          ],
          [
           18.5,
           "NZ"
          ],
          [
           18.21,
           "AUS"
          ],
          [
           18,
           "ENG"
          ],
          [
           17.6,
           "ZIM"
          ],
          [
           15.13,
           "KENYA"
          ],
          [
           13.75,
           "AUS"
          ],
          [
           10,
           "CAN"
          ],
          [
           7.66,
           "BMUDA"
          ],
          [
           7,
           "PAK"
          ],
          [
           4.5,
           "AUS"
          ],
          [
           48.14,
           "AUS"
          ],
          [
           32,
           "ENG"
          ],
          [
           28.53,
           "PAK"
          ],
          [
           26,
           "AFG"
          ],
          [
           25.88,
           "IRE"
          ],
          [
           24.84,
           "SA"
          ],
          [
           23,
           "ZIM"
          ],
          [
           22.6,
           "INDIA"
          ],
          [
           21.18,
           "NL"
          ],
          [
           20.33,
           "BDESH"
          ],
          [
           19.09,
           "PAK"
          ],
          [
           15.8,
           "SA"
          ],
          [
           15.77,
           "PAK"
          ],
          [
           15.37,
           "ENG"
          ],
          [
           13,
           "BDESH"
          ],
          [
           13,
           "IRE"
          ],
          [
           13,
           "IRE"
          ],
          [
           11.7,
           "BDESH"
          ],
          [
           11.25,
           "NL"
          ],
          [
           10.2,
           "IRE"
          ],
          [
           10,
           "SL"
          ],
          [
           9.15,
           "BDESH"
          ],
          [
           9,
           "SL"
          ],
          [
           8.7,
           "IRE"
          ],
          [
           8,
           "INDIA"
          ],
          [
           null,
           "AFG"
          ],
          [
           null,
           "INDIA"
          ],
          [
           58,
           "BDESH"
          ],
          [
           43.25,
           "AFG"
          ],
          [
           42.5,
           "WI"
          ],
          [
           40.7,
           "SCOT"
          ],
          [
           32.27,
           "BDESH"
          ],
          [
           24.9,
           "INDIA"
          ],
          [
           22.66,
           "AUS"
          ],
          [
           21.63,
           "WI"
          ],
          [
           21.54,
           "PAK"
          ],
          [
           21.45,
           "SA"
          ],
          [
           21,
           "PAK"
          ],
          [
           19.76,
           "SL"
          ],
          [
           18,
           "BDESH"
          ],
          [
           18,
           "BDESH"
          ],
          [
           17.91,
           "SL"
          ],
          [
           16.83,
           "HKG"
          ],
          [
           16.3,
           "NZ"
          ],
          [
           14.33,
           "ZIM"
          ],
          [
           13.14,
           "PAK"
          ],
          [
           12.7,
           "ZIM"
          ],
          [
           12.25,
           "CAN"
          ],
          [
           11.11,
           "ZIM"
          ],
          [
           10.44,
           "BDESH"
          ],
          [
           8,
           "BDESH"
          ],
          [
           3.6,
           "NL"
          ],
          [
           40.11,
           "CAN"
          ],
          [
           33.25,
           "CAN"
          ],
          [
           28.33,
           "ENG"
          ],
          [
           25,
           "SL"
          ],
          [
           21.5,
           "AFG"
          ],
          [
           21,
           "AUS"
          ],
          [
           20.1,
           "BMUDA"
          ],
          [
           19.83,
           "UAE"
          ],
          [
           14.45,
           "ZIM"
          ],
          [
           14,
           "AUS"
          ],
          [
           12.28,
           "SA"
          ],
          [
           11.54,
           "NZ"
          ],
          [
           11.25,
           "SCOT"
          ],
          [
           10.25,
           "AUS"
          ],
          [
           10,
           "ZIM"
          ],
          [
           9.22,
           "KENYA"
          ],
          [
           9,
           "SA"
          ],
          [
           8.33,
           "ZIM"
          ],
          [
           7,
           "IRE"
          ],
          [
           3,
           "NEPAL"
          ],
          [
           1,
           "AFG"
          ],
          [
           0.5,
           "SL"
          ],
          [
           null,
           "WI"
          ],
          [
           31.8,
           "AUS"
          ],
          [
           30.37,
           "NL"
          ],
          [
           29,
           "CAN"
          ],
          [
           28.42,
           "KENYA"
          ],
          [
           24.25,
           "NEPAL"
          ],
          [
           23.72,
           "BMUDA"
          ],
          [
           22.8,
           "BDESH"
          ],
          [
           22,
           "CAN"
          ],
          [
           21.87,
           "AUS"
          ],
          [
           18,
           "AUS"
          ],
          [
           17,
           "INDIA"
          ],
          [
           15.55,
           "NZ"
          ],
          [
           15.22,
           "SCOT"
          ],
          [
           15,
           "CAN"
          ],
          [
           14.33,
           "CAN"
          ],
          [
           14.25,
           "AUS"
          ],
          [
           13.36,
           "BMUDA"
          ],
          [
           12.16,
           "NZ"
          ],
          [
           11.11,
           "CAN"
          ],
          [
           10.85,
           "SCOT"
          ],
          [
           10.7,
           "BMUDA"
          ],
          [
           10.5,
           "NZ"
          ],
          [
           10.44,
           "SCOT"
          ],
          [
           10,
           "NEPAL"
          ],
          [
           9.71,
           "NL"
          ],
          [
           9.5,
           "KENYA"
          ],
          [
           9.14,
           "WI"
          ],
          [
           9,
           "SA"
          ],
          [
           8.88,
           "BMUDA"
          ],
          [
           8,
           "BMUDA"
          ],
          [
           7.9,
           "NEPAL"
          ],
          [
           7.75,
           "CAN"
          ],
          [
           7.62,
           "NZ"
          ],
          [
           7.5,
           "HKG"
          ],
          [
           4.5,
           "IRE"
          ],
          [
           3,
           "NZ"
          ],
          [
           2.33,
           "SL"
          ],
          [
           null,
           "PAK"
          ],
          [
           null,
           "UAE"
          ],
          [
           null,
           "WI"
          ],
          [
           null,
           "ZIM"
          ],
          [
           32.5,
           "UAE"
          ],
          [
           32.11,
           "NL"
          ],
          [
           30.14,
           "HKG"
          ],
          [
           27,
           "KENYA"
          ],
          [
           21.16,
           "ENG"
          ],
          [
           20,
           "INDIA"
          ],
          [
           19.2,
           "PAK"
          ],
          [
           18.57,
           "HKG"
          ],
          [
           17.66,
           "SCOT"
          ],
          [
           17.25,
           "BMUDA"
          ],
          [
           15.28,
           "IRE"
          ],
          [
           15,
           "SL"
          ],
          [
           14.8,
           "SL"
          ],
          [
           14.44,
           "BDESH"
          ],
          [
           14.25,
           "BDESH"
          ],
          [
           13.75,
           "HKG"
          ],
          [
           13.2,
           "UAE"
          ],
          [
           11.6,
           "PAK"
          ],
          [
           11.5,
           "ENG"
          ],
          [
           11.33,
           "BDESH"
          ],
          [
           11.33,
           "SCOT"
          ],
          [
           10.75,
           "NZ"
          ],
          [
           8.66,
           "KENYA"
          ],
          [
           8.6,
           "KENYA"
          ],
          [
           8.11,
           "BMUDA"
          ],
          [
           7.6,
           "ZIM"
          ],
          [
           7.25,
           "ZIM"
          ],
          [
           7,
           "UAE"
          ],
          [
           5,
           "SA"
          ],
          [
           4,
           "SL"
          ],
          [
           4,
           "WI"
          ],
          [
           2.33,
           "INDIA"
          ],
          [
           0,
           "INDIA"
          ],
          [
           null,
           "INDIA"
          ],
          [
           null,
           "INDIA"
          ],
          [
           null,
           "PAK"
          ],
          [
           null,
           "PAK"
          ],
          [
           57.25,
           "ENG"
          ],
          [
           51.33,
           "AUS"
          ],
          [
           43,
           "WI"
          ],
          [
           40.57,
           "CAN"
          ],
          [
           32.5,
           "NZ"
          ],
          [
           31.75,
           "SA"
          ],
          [
           31.62,
           "ZIM"
          ],
          [
           28.33,
           "SCOT"
          ],
          [
           26.77,
           "AUS"
          ],
          [
           26.25,
           "SA"
          ],
          [
           25.25,
           "INDIA"
          ],
          [
           25,
           "AUS"
          ],
          [
           22.28,
           "SA"
          ],
          [
           22,
           "INDIA"
          ],
          [
           20.33,
           "INDIA"
          ],
          [
           19.5,
           "BDESH"
          ],
          [
           19.33,
           "NZ"
          ],
          [
           19,
           "SA"
          ],
          [
           18.77,
           "INDIA"
          ],
          [
           18,
           "WI"
          ],
          [
           17.88,
           "SA"
          ],
          [
           17.25,
           "SCOT"
          ],
          [
           16.16,
           "NL"
          ],
          [
           16.16,
           "NZ"
          ],
          [
           15.4,
           "HKG"
          ],
          [
           14.75,
           "BDESH"
          ],
          [
           13,
           "AUS"
          ],
          [
           11.5,
           "AUS"
          ],
          [
           11.5,
           "PAK"
          ],
          [
           11,
           "IRE"
          ],
          [
           10.77,
           "UAE"
          ],
          [
           10.75,
           "BDESH"
          ],
          [
           10,
           "NEPAL"
          ],
          [
           8.14,
           "NEPAL"
          ],
          [
           6.25,
           "SCOT"
          ],
          [
           4.33,
           "NEPAL"
          ],
          [
           4,
           "IRE"
          ],
          [
           4,
           "SA"
          ],
          [
           1,
           "CAN"
          ],
          [
           null,
           "AUS"
          ],
          [
           null,
           "INDIA"
          ],
          [
           null,
           "PAK"
          ],
          [
           null,
           "SA"
          ],
          [
           null,
           "ZIM"
          ],
          [
           50.75,
           "SA"
          ],
          [
           37.5,
           "SA"
          ],
          [
           31.16,
           "NZ"
          ],
          [
           30.33,
           "AFG"
          ],
          [
           30.33,
           "ENG"
          ],
          [
           26.85,
           "ENG"
          ],
          [
           25.5,
           "NL"
          ],
          [
           25.25,
           "CAN"
          ],
          [
           21.57,
           "NZ"
          ],
          [
           19,
           "SCOT"
          ],
          [
           17,
           "HKG"
          ],
          [
           16.33,
           "NL"
          ],
          [
           16.2,
           "BMUDA"
          ],
          [
           15.75,
           "SA"
          ],
          [
           15.33,
           "SA"
          ],
          [
           15,
           "SCOT"
          ],
          [
           14,
           "NEPAL"
          ],
          [
           13.87,
           "IRE"
          ],
          [
           13.75,
           "SL"
          ],
          [
           13.66,
           "CAN"
          ],
          [
           12,
           "SL"
          ],
          [
           11.85,
           "BDESH"
          ],
          [
           11.66,
           "SCOT"
          ],
          [
           11.6,
           "SCOT"
          ],
          [
           11.5,
           "ZIM"
          ],
          [
           11,
           "PAK"
          ],
          [
           11,
           "WI"
          ],
          [
           10.42,
           "CAN"
          ],
          [
           9.5,
           "HKG"
          ],
          [
           9.33,
           "AFG"
          ],
          [
           8.57,
           "ZIM"
          ],
          [
           8.5,
           "WI"
          ],
          [
           8.25,
           "SL"
          ],
          [
           7.5,
           "HKG"
          ],
          [
           6.66,
           "SL"
          ],
          [
           5,
           "KENYA"
          ],
          [
           5,
           "SA"
          ],
          [
           4.66,
           "KENYA"
          ],
          [
           3.5,
           "BDESH"
          ],
          [
           3.5,
           "IRE"
          ],
          [
           3.33,
           "NZ"
          ],
          [
           3,
           "IRE"
          ],
          [
           2.33,
           "NL"
          ],
          [
           1.66,
           "UAE"
          ],
          [
           1,
           "NZ"
          ],
          [
           null,
           "INDIA"
          ],
          [
           null,
           "PAK"
          ],
          [
           53,
           "CAN"
          ],
          [
           46.33,
           "AUS"
          ],
          [
           32.42,
           "AFG"
          ],
          [
           25.42,
           "BDESH"
          ],
          [
           23,
           "ENG"
          ],
          [
           22.71,
           "BDESH"
          ],
          [
           21,
           "NZ"
          ],
          [
           21,
           "SA"
          ],
          [
           18.83,
           "UAE"
          ],
          [
           18,
           "IRE"
          ],
          [
           16.5,
           "CAN"
          ],
          [
           16.16,
           "CAN"
          ],
          [
           16,
           "WI"
          ],
          [
           13.85,
           "SL"
          ],
          [
           12.66,
           "ENG"
          ],
          [
           12.25,
           "CAN"
          ],
          [
           12.25,
           "SA"
          ],
          [
           11.4,
           "BDESH"
          ],
          [
           10.85,
           "PAK"
          ],
          [
           10,
           "AUS"
          ],
          [
           8.5,
           "WI"
          ],
          [
           6.85,
           "ZIM"
          ],
          [
           6.6,
           "HKG"
          ],
          [
           6.4,
           "AUS"
          ],
          [
           6,
           "SA"
          ],
          [
           4.5,
           "BDESH"
          ],
          [
           4.5,
           "ZIM"
          ],
          [
           4,
           "AUS"
          ],
          [
           4,
           "SL"
          ],
          [
           3.5,
           "NL"
          ],
          [
           3.5,
           "SA"
          ],
          [
           2,
           "INDIA"
          ],
          [
           2,
           "KENYA"
          ],
          [
           2,
           "SCOT"
          ],
          [
           1,
           "AUS"
          ],
          [
           0,
           "INDIA"
          ],
          [
           null,
           "CAN"
          ],
          [
           null,
           "ENG"
          ],
          [
           null,
           "PAK"
          ],
          [
           75,
           "PAK"
          ],
          [
           33.83,
           "WI"
          ],
          [
           33,
           "SL"
          ],
          [
           32,
           "INDIA"
          ],
          [
           32,
           "PAK"
          ],
          [
           30,
           "SCOT"
          ],
          [
           25,
           "SA"
          ],
          [
           21.6,
           "NL"
          ],
          [
           20.2,
           "NEPAL"
          ],
          [
           20,
           "BDESH"
          ],
          [
           19.5,
           "WI"
          ],
          [
           18.5,
           "NZ"
          ],
          [
           17.5,
           "UAE"
          ],
          [
           17,
           "ENG"
          ],
          [
           16.33,
           "ZIM"
          ],
          [
           15.33,
           "SCOT"
          ],
          [
           15,
           "NL"
          ],
          [
           13.33,
           "HKG"
          ],
          [
           13.33,
           "UAE"
          ],
          [
           12.8,
           "NL"
          ],
          [
           11.8,
           "SL"
          ],
          [
           11.25,
           "AUS"
          ],
          [
           10.6,
           "WI"
          ],
          [
           10.5,
           "INDIA"
          ],
          [
           10,
           "NZ"
          ],
          [
           9.5,
           "AUS"
          ],
          [
           8.66,
           "NEPAL"
          ],
          [
           8.5,
           "NL"
          ],
          [
           8.4,
           "BMUDA"
          ],
          [
           5.5,
           "IRE"
          ],
          [
           4.75,
           "UAE"
          ],
          [
           4,
           "BDESH"
          ],
          [
           3.5,
           "UAE"
          ],
          [
           2.25,
           "KENYA"
          ],
          [
           2,
           "SCOT"
          ],
          [
           2,
           "SL"
          ],
          [
           1,
           "NEPAL"
          ],
          [
           1,
           "ZIM"
          ],
          [
           0,
           "KENYA"
          ],
          [
           null,
           "ENG"
          ],
          [
           null,
           "INDIA"
          ],
          [
           null,
           "NZ"
          ],
          [
           null,
           "SA"
          ],
          [
           null,
           "WI"
          ],
          [
           49,
           "SL"
          ],
          [
           45,
           "ZIM"
          ],
          [
           32.75,
           "CAN"
          ],
          [
           32.75,
           "SL"
          ],
          [
           25,
           "CAN"
          ],
          [
           23.5,
           "BMUDA"
          ],
          [
           22,
           "NZ"
          ],
          [
           21,
           "IRE"
          ],
          [
           20.4,
           "ENG"
          ],
          [
           20,
           "UAE"
          ],
          [
           19.8,
           "AUS"
          ],
          [
           17.5,
           "BDESH"
          ],
          [
           16.33,
           "SL"
          ],
          [
           16,
           "WI"
          ],
          [
           16,
           "ZIM"
          ],
          [
           14,
           "PAK"
          ],
          [
           12.66,
           "NZ"
          ],
          [
           12.33,
           "ENG"
          ],
          [
           11.8,
           "NZ"
          ],
          [
           11.66,
           "ENG"
          ],
          [
           11.5,
           "BMUDA"
          ],
          [
           11.33,
           "PAK"
          ],
          [
           11.2,
           "NZ"
          ],
          [
           10.5,
           "UAE"
          ],
          [
           10.25,
           "CAN"
          ],
          [
           10.2,
           "BDESH"
          ],
          [
           10,
           "HKG"
          ],
          [
           9.5,
           "NZ"
          ],
          [
           8.8,
           "CAN"
          ],
          [
           8.5,
           "KENYA"
          ],
          [
           8.33,
           "NZ"
          ],
          [
           7.5,
           "WI"
          ],
          [
           7,
           "BDESH"
          ],
          [
           7,
           "ENG"
          ],
          [
           7,
           "HKG"
          ],
          [
           7,
           "SCOT"
          ],
          [
           6.25,
           "CAN"
          ],
          [
           5.4,
           "SL"
          ],
          [
           5,
           "ZIM"
          ],
          [
           4.75,
           "NZ"
          ],
          [
           4,
           "AUS"
          ],
          [
           3.66,
           "IRE"
          ],
          [
           3.25,
           "SL"
          ],
          [
           3,
           "UAE"
          ],
          [
           1.2,
           "NZ"
          ],
          [
           1,
           "ENG"
          ],
          [
           0,
           "ENG"
          ],
          [
           0,
           "HKG"
          ],
          [
           0,
           "SA"
          ],
          [
           null,
           "BMUDA"
          ],
          [
           null,
           "ENG"
          ],
          [
           null,
           "INDIA"
          ],
          [
           null,
           "PAK"
          ],
          [
           null,
           "PAK"
          ],
          [
           null,
           "SCOT"
          ],
          [
           null,
           "WI"
          ],
          [
           35,
           "SCOT"
          ],
          [
           30,
           "AUS"
          ],
          [
           28.25,
           "ENG"
          ],
          [
           27.75,
           "NZ"
          ],
          [
           24.66,
           "NZ"
          ],
          [
           24,
           "ENG"
          ],
          [
           18.5,
           "KENYA"
          ],
          [
           18.25,
           "ENG"
          ],
          [
           18,
           "PAK"
          ],
          [
           16.75,
           "UAE"
          ],
          [
           16.5,
           "SL"
          ],
          [
           16.25,
           "PAK"
          ],
          [
           15.25,
           "ENG"
          ],
          [
           15,
           "CAN"
          ],
          [
           14,
           "BDESH"
          ],
          [
           13,
           "NL"
          ],
          [
           13,
           "NZ"
          ],
          [
           12.66,
           "SCOT"
          ],
          [
           11,
           "AFG"
          ],
          [
           10.66,
           "CAN"
          ],
          [
           10.33,
           "AUS"
          ],
          [
           9.75,
           "CAN"
          ],
          [
           9.33,
           "UAE"
          ],
          [
           9,
           "CAN"
          ],
          [
           8.33,
           "CAN"
          ],
          [
           8.25,
           "NEPAL"
          ],
          [
           7.5,
           "INDIA"
          ],
          [
           7,
           "AFG"
          ],
          [
           7,
           "NL"
          ],
          [
           6,
           "HKG"
          ],
          [
           6,
           "IRE"
          ],
          [
           6,
           "IRE"
          ],
          [
           6,
           "SL"
          ],
          [
           5.66,
           "WI"
          ],
          [
           5,
           "AUS"
          ],
          [
           5,
           "PAK"
          ],
          [
           3.5,
           "NEPAL"
          ],
          [
           3.33,
           "CAN"
          ],
          [
           2.75,
           "CAN"
          ],
          [
           2,
           "KENYA"
          ],
          [
           1.5,
           "UAE"
          ],
          [
           1.25,
           "HKG"
          ],
          [
           1,
           "AFG"
          ],
          [
           1,
           "NL"
          ],
          [
           1,
           "SCOT"
          ],
          [
           0,
           "NL"
          ],
          [
           0,
           "NL"
          ],
          [
           null,
           "AUS"
          ],
          [
           null,
           "BDESH"
          ],
          [
           null,
           "ENG"
          ],
          [
           null,
           "ENG"
          ],
          [
           null,
           "NEPAL"
          ],
          [
           null,
           "SCOT"
          ],
          [
           null,
           "ZIM"
          ],
          [
           82,
           "BDESH"
          ],
          [
           55.33,
           "ENG"
          ],
          [
           54,
           "SL"
          ],
          [
           48.5,
           "SL"
          ],
          [
           47.66,
           "AUS"
          ],
          [
           47.66,
           "BDESH"
          ],
          [
           43.5,
           "INDIA"
          ],
          [
           43,
           "KENYA"
          ],
          [
           41,
           "ZIM"
          ],
          [
           34.5,
           "AUS"
          ],
          [
           25.33,
           "ENG"
          ],
          [
           24.5,
           "BMUDA"
          ],
          [
           24.33,
           "UAE"
          ],
          [
           22,
           "PAK"
          ],
          [
           22,
           "UAE"
          ],
          [
           20,
           "ENG"
          ],
          [
           18.66,
           "ENG"
          ],
          [
           18,
           "CAN"
          ],
          [
           18,
           "UAE"
          ],
          [
           17.5,
           "INDIA"
          ],
          [
           17,
           "NZ"
          ],
          [
           16.66,
           "PAK"
          ],
          [
           15,
           "INDIA"
          ],
          [
           14,
           "SCOT"
          ],
          [
           13.33,
           "PAK"
          ],
          [
           13.33,
           "SL"
          ],
          [
           13,
           "PAK"
          ],
          [
           13,
           "UAE"
          ],
          [
           12.66,
           "ZIM"
          ],
          [
           12,
           "HKG"
          ],
          [
           11.33,
           "BMUDA"
          ],
          [
           11,
           "NZ"
          ],
          [
           10.66,
           "CAN"
          ],
          [
           10.5,
           "UAE"
          ],
          [
           10.33,
           "BDESH"
          ],
          [
           10,
           "KENYA"
          ],
          [
           9,
           "BDESH"
          ],
          [
           9,
           "CAN"
          ],
          [
           8,
           "BMUDA"
          ],
          [
           7.66,
           "PAK"
          ],
          [
           7,
           "ENG"
          ],
          [
           7,
           "NZ"
          ],
          [
           7,
           "ZIM"
          ],
          [
           6,
           "SL"
          ],
          [
           5.66,
           "WI"
          ],
          [
           5.33,
           "AUS"
          ],
          [
           5,
           "NZ"
          ],
          [
           5,
           "SA"
          ],
          [
           4.66,
           "AFG"
          ],
          [
           4.33,
           "BMUDA"
          ],
          [
           4.33,
           "BMUDA"
          ],
          [
           4,
           "NZ"
          ],
          [
           4,
           "SL"
          ],
          [
           4,
           "UAE"
          ],
          [
           4,
           "UAE"
          ],
          [
           3.66,
           "PAK"
          ],
          [
           3.5,
           "NEPAL"
          ],
          [
           3.33,
           "WI"
          ],
          [
           3,
           "AFG"
          ],
          [
           3,
           "AUS"
          ],
          [
           3,
           "BMUDA"
          ],
          [
           3,
           "NL"
          ],
          [
           2,
           "NZ"
          ],
          [
           2,
           "NZ"
          ],
          [
           2,
           "UAE"
          ],
          [
           2,
           "ZIM"
          ],
          [
           2,
           "ZIM"
          ],
          [
           1.5,
           "BDESH"
          ],
          [
           1.5,
           "SL"
          ],
          [
           1,
           "AFG"
          ],
          [
           1,
           "IRE"
          ],
          [
           1,
           "NL"
          ],
          [
           1,
           "SL"
          ],
          [
           0.5,
           "SL"
          ],
          [
           0,
           "CAN"
          ],
          [
           0,
           "INDIA"
          ],
          [
           0,
           "SCOT"
          ],
          [
           0,
           "SL"
          ],
          [
           null,
           "AUS"
          ],
          [
           null,
           "AUS"
          ],
          [
           null,
           "BMUDA"
          ],
          [
           null,
           "BMUDA"
          ],
          [
           null,
           "CAN"
          ],
          [
           null,
           "ENG"
          ],
          [
           null,
           "NL"
          ],
          [
           null,
           "NZ"
          ],
          [
           null,
           "SA"
          ],
          [
           null,
           "WI"
          ],
          [
           76,
           "SA"
          ],
          [
           68,
           "WI"
          ],
          [
           45,
           "NZ"
          ],
          [
           38.5,
           "CAN"
          ],
          [
           33,
           "AUS"
          ],
          [
           33,
           "ENG"
          ],
          [
           30,
           "ENG"
          ],
          [
           28.5,
           "SA"
          ],
          [
           25.5,
           "CAN"
          ],
          [
           24.5,
           "IRE"
          ],
          [
           23,
           "NL"
          ],
          [
           19.5,
           "HKG"
          ],
          [
           19,
           "NL"
          ],
          [
           19,
           "SL"
          ],
          [
           18,
           "INDIA"
          ],
          [
           17.5,
           "SA"
          ],
          [
           16.5,
           "SL"
          ],
          [
           16,
           "BDESH"
          ],
          [
           16,
           "UAE"
          ],
          [
           16,
           "WI"
          ],
          [
           15,
           "KENYA"
          ],
          [
           13.5,
           "ENG"
          ],
          [
           13.5,
           "WI"
          ],
          [
           13,
           "SA"
          ],
          [
           12,
           "PAK"
          ],
          [
           11.5,
           "WI"
          ],
          [
           11,
           "SA"
          ],
          [
           11,
           "SL"
          ],
          [
           11,
           "UAE"
          ],
          [
           11,
           "WI"
          ],
          [
           10.5,
           "PAK"
          ],
          [
           10.5,
           "SL"
          ],
          [
           10,
           "BMUDA"
          ],
          [
           10,
           "CAN"
          ],
          [
           9.5,
           "SL"
          ],
          [
           9,
           "SA"
          ],
          [
           8,
           "BDESH"
          ],
          [
           8,
           "ENG"
          ],
          [
           7.5,
           "SA"
          ],
          [
           7,
           "SA"
          ],
          [
           6,
           "INDIA"
          ],
          [
           6,
           "WI"
          ],
          [
           5.5,
           "NEPAL"
          ],
          [
           5.5,
           "SL"
          ],
          [
           5.5,
           "WI"
          ],
          [
           5,
           "AUS"
          ],
          [
           5,
           "SL"
          ],
          [
           4.5,
           "BMUDA"
          ],
          [
           4,
           "AUS"
          ],
          [
           4,
           "CAN"
          ],
          [
           4,
           "NEPAL"
          ],
          [
           2,
           "SCOT"
          ],
          [
           1.5,
           "NZ"
          ],
          [
           1,
           "ENG"
          ],
          [
           1,
           "IRE"
          ],
          [
           1,
           "SCOT"
          ],
          [
           0,
           "AUS"
          ],
          [
           0,
           "BMUDA"
          ],
          [
           0,
           "NZ"
          ],
          [
           0,
           "NZ"
          ],
          [
           0,
           "PAK"
          ],
          [
           0,
           "SL"
          ],
          [
           0,
           "WI"
          ],
          [
           null,
           "AFG"
          ],
          [
           null,
           "AFG"
          ],
          [
           null,
           "AUS"
          ],
          [
           null,
           "AUS"
          ],
          [
           null,
           "AUS"
          ],
          [
           null,
           "AUS"
          ],
          [
           null,
           "AUS"
          ],
          [
           null,
           "BDESH"
          ],
          [
           null,
           "CAN"
          ],
          [
           null,
           "HKG"
          ],
          [
           null,
           "INDIA"
          ],
          [
           null,
           "INDIA"
          ],
          [
           null,
           "PAK"
          ],
          [
           null,
           "PAK"
          ],
          [
           null,
           "SA"
          ],
          [
           null,
           "SA"
          ],
          [
           null,
           "SA"
          ],
          [
           null,
           "SCOT"
          ],
          [
           null,
           "SCOT"
          ],
          [
           null,
           "SL"
          ],
          [
           null,
           "SL"
          ],
          [
           null,
           "SL"
          ],
          [
           null,
           "SL"
          ],
          [
           null,
           "ZIM"
          ],
          [
           null,
           "ZIM"
          ],
          [
           null,
           "ZIM"
          ],
          [
           43,
           "INDIA"
          ],
          [
           38,
           "INDIA"
          ],
          [
           31,
           "INDIA"
          ],
          [
           26,
           "WI"
          ],
          [
           25,
           "BDESH"
          ],
          [
           24,
           "AUS"
          ],
          [
           22,
           "WI"
          ],
          [
           21,
           "BDESH"
          ],
          [
           20,
           "AUS"
          ],
          [
           19,
           "INDIA"
          ],
          [
           18,
           "NZ"
          ],
          [
           18,
           "PAK"
          ],
          [
           16,
           "AUS"
          ],
          [
           15,
           "AFG"
          ],
          [
           15,
           "AUS"
          ],
          [
           15,
           "NL"
          ],
          [
           14,
           "ENG"
          ],
          [
           13,
           "BDESH"
          ],
          [
           13,
           "ENG"
          ],
          [
           13,
           "NZ"
          ],
          [
           12,
           "AFG"
          ],
          [
           12,
           "WI"
          ],
          [
           11,
           "BDESH"
          ],
          [
           11,
           "CAN"
          ],
          [
           11,
           "UAE"
          ],
          [
           10,
           "BDESH"
          ],
          [
           10,
           "INDIA"
          ],
          [
           10,
           "WI"
          ],
          [
           10,
           "WI"
          ],
          [
           9,
           "AFG"
          ],
          [
           9,
           "ENG"
          ],
          [
           9,
           "SCOT"
          ],
          [
           9,
           "WI"
          ],
          [
           8,
           "PAK"
          ],
          [
           8,
           "SA"
          ],
          [
           8,
           "ZIM"
          ],
          [
           7,
           "ENG"
          ],
          [
           7,
           "ENG"
          ],
          [
           7,
           "SL"
          ],
          [
           6,
           "AUS"
          ],
          [
           5,
           "INDIA"
          ],
          [
           5,
           "PAK"
          ],
          [
           5,
           "SA"
          ],
          [
           5,
           "WI"
          ],
          [
           4,
           "BDESH"
          ],
          [
           4,
           "ENG"
          ],
          [
           4,
           "IRE"
          ],
          [
           3,
           "SA"
          ],
          [
           3,
           "WI"
          ],
          [
           2,
           "ENG"
          ],
          [
           2,
           "HKG"
          ],
          [
           2,
           "NEPAL"
          ],
          [
           2,
           "SL"
          ],
          [
           1,
           "BDESH"
          ],
          [
           1,
           "BMUDA"
          ],
          [
           1,
           "ENG"
          ],
          [
           1,
           "KENYA"
          ],
          [
           1,
           "KENYA"
          ],
          [
           1,
           "SA"
          ],
          [
           1,
           "ZIM"
          ],
          [
           0,
           "BMUDA"
          ],
          [
           0,
           "CAN"
          ],
          [
           0,
           "SA"
          ],
          [
           0,
           "SA"
          ],
          [
           0,
           "UAE"
          ],
          [
           0,
           "WI"
          ],
          [
           0,
           "WI"
          ],
          [
           null,
           "AFG"
          ],
          [
           null,
           "AUS"
          ],
          [
           null,
           "AUS"
          ],
          [
           null,
           "BDESH"
          ],
          [
           null,
           "BDESH"
          ],
          [
           null,
           "CAN"
          ],
          [
           null,
           "CAN"
          ],
          [
           null,
           "ENG"
          ],
          [
           null,
           "ENG"
          ],
          [
           null,
           "ENG"
          ],
          [
           null,
           "HKG"
          ],
          [
           null,
           "INDIA"
          ],
          [
           null,
           "IRE"
          ],
          [
           null,
           "NZ"
          ],
          [
           null,
           "PAK"
          ],
          [
           null,
           "SA"
          ],
          [
           null,
           "SL"
          ],
          [
           null,
           "UAE"
          ],
          [
           null,
           "UAE"
          ],
          [
           null,
           "WI"
          ],
          [
           null,
           "WI"
          ],
          [
           null,
           "ZIM"
          ]
         ],
         "hovertemplate": "<b>%{hovertext}</b><br><br>Innings=%{x}<br>Runs=%{y}<br>Average=%{customdata[0]}<br>Country=%{customdata[1]}<extra></extra>",
         "hovertext": [
          "Shoaib Malik ",
          "RG Sharma ",
          "Shahid Afridi ",
          "MS Dhoni ",
          "LRPL Taylor ",
          "KJ O'Brien ",
          "Mohammad Hafeez ",
          "EJG Morgan ",
          "Umar Akmal ",
          "Mushfiqur Rahim ",
          "MJ Guptill ",
          "Mahmudullah ",
          "JP Duminy ",
          "TM Dilshan ",
          "NLTC Perera ",
          "SL Malinga ",
          "SK Raina ",
          "AB de Villiers ",
          "GC Wilson ",
          "DA Warner ",
          "Shakib Al Hasan ",
          "V Kohli ",
          "Tamim Iqbal ",
          "Mohammad Nabi ",
          "GH Dockrell ",
          "DA Miller ",
          "PR Stirling ",
          "AD Mathews ",
          "BB McCullum ",
          "D Ramdin ",
          "PM Seelaar ",
          "KA Pollard ",
          "DJG Sammy ",
          "MN Samuels ",
          "JC Buttler ",
          "H Masakadza ",
          "DJ Bravo ",
          "Asghar Afghan ",
          "TG Southee ",
          "Mohammad Shahzad ",
          "Saeed Ajmal ",
          "NL McCullum ",
          "Samiullah Shinwari ",
          "GJ Maxwell ",
          "RD Berrington ",
          "WTS Porterfield ",
          "AD Hales ",
          "C Munro ",
          "Umar Gul ",
          "Ahmed Shehzad ",
          "AJ Finch ",
          "CH Gayle ",
          "SR Watson ",
          "Yuvraj Singh ",
          "Sarfaraz Ahmed ",
          "S Dhawan ",
          "KJ Coetzer ",
          "Kamran Akmal ",
          "KMDN Kulasekara ",
          "KS Williamson ",
          "Najibullah Zadran ",
          "Sohail Tanvir ",
          "KC Sangakkara ",
          "SCJ Broad ",
          "DPMD Jayawardene ",
          "E Chigumbura ",
          "LD Chandimal ",
          "Mashrafe Mortaza ",
          "S Badree ",
          "BN Cooper ",
          "LJ Wright ",
          "SP Narine ",
          "JA Morkel ",
          "CS MacLeod ",
          "LMP Simmons ",
          "WB Rankin ",
          "Mohammad Amir ",
          "CL White ",
          "AD Russell ",
          "R Ashwin ",
          "Soumya Sarkar ",
          "Shafiqullah ",
          "RA Jadeja ",
          "Gulbadin Naib ",
          "Rashid Khan ",
          "F du Plessis ",
          "HM Amla ",
          "Sabbir Rahman ",
          "M Morkel ",
          "DW Steyn ",
          "RE van der Merwe ",
          "MH Cross ",
          "CK Kapugedera ",
          "PW Borren ",
          "CJ Jordan ",
          "B Kumar ",
          "MDKJ Perera ",
          "W Barresi ",
          "ADS Fletcher ",
          "SM Sharif ",
          "KD Mills ",
          "JJ Bumrah ",
          "SR Thompson ",
          "CR Brathwaite ",
          "Imad Wasim ",
          "PA van Meekeren ",
          "WD Parnell ",
          "J Botha ",
          "HH Pandya ",
          "IS Sodhi ",
          "AU Rashid ",
          "MisbahNAulNAHaq ",
          "DJ Hussey ",
          "GP Swann ",
          "T van der Gugten ",
          "MJ Santner ",
          "BAW Mendis ",
          "MEK Hussey ",
          "F Behardien ",
          "Q de Kock ",
          "HG Munsey ",
          "RS Bopara ",
          "SC Williams ",
          "BRM Taylor ",
          "JEC Franklin ",
          "Imran Tahir ",
          "Rohan Mustafa ",
          "Shadab Khan ",
          "Mudassar Bukhari ",
          "KP Pietersen ",
          "G Gambhir ",
          "A Balbirnie ",
          "AR Cusack ",
          "Mustafizur Rahman ",
          "Babar Azam ",
          "SPD Smith ",
          "MP O'Dowd ",
          "JDP Oram ",
          "PD Collingwood ",
          "Karim Sadiq ",
          "Ahmed Raza ",
          "YS Chahal ",
          "CO Obuya ",
          "MD Shanaka ",
          "MRJ Watt ",
          "P Utseya ",
          "KL Rahul ",
          "JM Bairstow ",
          "Muhammad Usman ",
          "Fakhar Zaman ",
          "J Charles ",
          "MJ Clarke ",
          "Nizakat Khan ",
          "BJ Haddin ",
          "TT Bresnan ",
          "DL Vettori ",
          "Dawlat Zadran ",
          "JW Dernbach ",
          "Abdur Razzak ",
          "Shapoor Zadran ",
          "GC Smith ",
          "SJ Myburgh ",
          "C de Grandhomme ",
          "CJ Chibhabha ",
          "DR Smith ",
          "L Ronchi ",
          "MK Pandey ",
          "JE Root ",
          "Shaiman Anwar ",
          "KD Karthik ",
          "MN Waller ",
          "JJ Roy ",
          "Abdul Razzaq ",
          "Nawroz Mangal ",
          "Sikandar Raza ",
          "CJ Anderson ",
          "ST Jayasuriya ",
          "SB Styris ",
          "Nasir Hossain ",
          "Wahab Riaz ",
          "Mohammad Naveed ",
          "MA Leask ",
          "Amir Hamza ",
          "Ahsan Malik ",
          "P Khadka ",
          "GJ Bailey ",
          "RR Patel ",
          "DT Johnston ",
          "NJ O'Brien ",
          "AA Obanda ",
          "JE Taylor ",
          "Hasan Ali ",
          "Aizaz Khan ",
          "MG Johnson ",
          "CB Mpofu ",
          "E Lewis ",
          "SA Edwards ",
          "MJ McClenaghan ",
          "AG Cremer ",
          "Sompal Kami ",
          "DJ Willey ",
          "NM CoulterNANile ",
          "Harbhajan Singh ",
          "SO Ngoche ",
          "AlNAAmin Hossain ",
          "MA Starc ",
          "I Udana ",
          "MJ Lumb ",
          "TP Visee ",
          "B Bhandari ",
          "JF Mooney ",
          "A Zampa ",
          "Faheem Ashraf ",
          "A Nehra ",
          "TA Boult ",
          "Rubel Hossain ",
          "AC Evans ",
          "MR Swart ",
          "RR Pant ",
          "V Sibanda ",
          "MS Wade ",
          "KD Shah ",
          "MC Sorensen ",
          "SW Billings ",
          "WU Tharanga ",
          "HDRL Thirimanne ",
          "AJ Tye ",
          "CA Young ",
          "HA Varaiya ",
          "JH Kallis ",
          "Younis Khan ",
          "C Kieswetter ",
          "Imran Nazir ",
          "Liton Das ",
          "Asif Ali ",
          "MV Boucher ",
          "B Lee ",
          "SW Poynter ",
          "Karan KC ",
          "MM Ali ",
          "AT Carey ",
          "Mirwais Ashraf ",
          "PJ Cummins ",
          "PL Mommsen ",
          "Salman Butt ",
          "Babar Hayat ",
          "IK Pathan ",
          "MS Chapman ",
          "G Malla ",
          "BKG Mendis ",
          "Rizwan Cheema ",
          "Fawad Alam ",
          "JP Faulkner ",
          "SJ Benn ",
          "NN Odhiambo ",
          "SMSM Senanayake ",
          "Nadeem Ahmed ",
          "KOK Williams ",
          "R Powell ",
          "Mohammad Ashraful ",
          "N Dickwella ",
          "HH Gibbs ",
          "BA Stokes ",
          "CH Morris ",
          "AL Phehlukwayo ",
          "R Rampaul ",
          "LL Tsotsobe ",
          "RN ten Doeschate ",
          "RR Hendricks ",
          "Rameez Shahzad ",
          "CR Ervine ",
          "JD Ryder ",
          "S Chanderpaul ",
          "R Mutumbami ",
          "BMAJ Mendis ",
          "YK Pathan ",
          "Amjad Javed ",
          "TAM Siriwardana ",
          "Hamid Hassan ",
          "Waqas Barkat ",
          "KM Jarvis ",
          "MA Ouma ",
          "A Dananjaya ",
          "LE Plunkett ",
          "SS Cottrell ",
          "Mohammad Irfan ",
          "PJ Moor ",
          "MD Gunathilaka ",
          "RJ Nicol ",
          "JH Davey ",
          "RJ Peterson ",
          "Tanwir Afzal ",
          "AC Agar ",
          "Karim Janat ",
          "RM Haq ",
          "KJ Abbott ",
          "FJ Klaassen ",
          "TL Chatara ",
          "SW Tait ",
          "K Rabada ",
          "ST Finn ",
          "AF Milne ",
          "DJM Short ",
          "Noor Ali Zadran ",
          "AM Rahane ",
          "DM Bravo ",
          "Anshuman Rath ",
          "SO Hetmyer ",
          "Mohammad Shahzad ",
          "S Prasanna ",
          "Sohaib Maqsood ",
          "RG Aga ",
          "D Wiese ",
          "FH Edwards ",
          "SE Bond ",
          "Usman Ghani ",
          "V Sehwag ",
          "Kuldeep Yadav ",
          "AD Poynter ",
          "TL Seifert ",
          "CD Wallace ",
          "MP Stoinis ",
          "CAK Walton ",
          "AR McBrine ",
          "Taskin Ahmed ",
          "B Stanlake ",
          "PVD Chameera ",
          "NW Bracken ",
          "IG Butler ",
          "BD Glover ",
          "JM Anderson ",
          "EC Joyce ",
          "NR Kumar ",
          "MJG Rippon ",
          "TLW Cooper ",
          "KH Pandya ",
          "DAJ Bracewell ",
          "RR Sarwan ",
          "AR White ",
          "Nasir Jamshed ",
          "DS Airee ",
          "KMA Paul ",
          "CA Lynn ",
          "JDS Neesham ",
          "SR Patel ",
          "SP Patil ",
          "Washington Sundar ",
          "Simi Singh ",
          "Haseeb Amjad ",
          "S Lamichhane ",
          "E Otieno ",
          "CRD Fernando ",
          "B Regmi ",
          "Zahoor Khan ",
          "RJ Sidebottom ",
          "T Taibu ",
          "RT Ponting ",
          "GJ Delany ",
          "OA Shah ",
          "S Vesawkar ",
          "Ghulam Shabber ",
          "GD Elliott ",
          "MR Adair ",
          "JO Holder ",
          "DP Nannes ",
          "JC Tredwell ",
          "GD Drummond ",
          "Z Khan ",
          "HS Baidwan ",
          "Sultan Ahmed ",
          "Shafiul Islam ",
          "HMRKB Herath ",
          "A Bohara ",
          "TM Head ",
          "RP Burl ",
          "N Pooran ",
          "IA Karim ",
          "J Mubarak ",
          "Mohammad Rizwan ",
          "GSNFG Jayasuriya ",
          "Anwar Ali ",
          "Mohammad Boota ",
          "LPC Silva ",
          "NM Odhiambo ",
          "DT Christian ",
          "AM Phangiso ",
          "RW Price ",
          "T Shamsi ",
          "Mujeeb Ur Rahman ",
          "Usman Shinwari ",
          "Ehsan Khan ",
          "RR Rossouw ",
          "SO Tikolo ",
          "BJ Hodge ",
          "Sharjeel Khan ",
          "TC Bruce ",
          "TN de Grooth ",
          "RM Hira ",
          "SE Marsh ",
          "TK Curran ",
          "N Madziva ",
          "T Mishra ",
          "GB Hogg ",
          "Hamza Tariq ",
          "RJ Trott ",
          "Shoaib Akhtar ",
          "KW Richardson ",
          "A Symonds ",
          "MH Yardy ",
          "Hussain Talat ",
          "Izatullah Dawlatzai ",
          "HT Tector ",
          "LE Bosman ",
          "T Panyangara ",
          "SS Iyer ",
          "ES Szwarczynski ",
          "Mosaddek Hossain ",
          "Haris Sohail ",
          "JL Ontong ",
          "Umar Amin ",
          "AD Mascarenhas ",
          "Ziaur Rahman ",
          "AC Botha ",
          "TJ Murtagh ",
          "Mohammad Mithun ",
          "DLS van Bunge ",
          "LJ Tucker ",
          "N Pradeep ",
          "Imrul Kayes ",
          "PADLR Sandakan ",
          "SC Getkate ",
          "I Sharma ",
          "Fareed Ahmad ",
          "KK Ahmed ",
          "Abu Hider ",
          "Hazratullah Zazai ",
          "AR Nurse ",
          "MW Machan ",
          "Anamul Haque ",
          "RV Uthappa ",
          "AC Gilchrist ",
          "SD Hope ",
          "Khalid Latif ",
          "RE Levi ",
          "Mohammad Sami ",
          "DM de Silva ",
          "Mohammad Saifuddin ",
          "Nazmul Islam ",
          "EMDY Munaweera ",
          "JJ Atkinson ",
          "TWM Latham ",
          "CT Mutombodzi ",
          "Yasir Arafat ",
          "CK Coventry ",
          "Junaid Siddiqui ",
          "T Maruma ",
          "Mehidy Hasan Miraz ",
          "Farhad Reza ",
          "S Snater ",
          "NS Dhaliwal ",
          "Ravinderpal Singh ",
          "JM Vince ",
          "DAS Gunaratne ",
          "Najeeb Tarakai ",
          "JR Hopes ",
          "KS Leverock ",
          "Ashfaq Ahmed ",
          "RW Chakabva ",
          "BR McDermott ",
          "SM Pollock ",
          "PG Fulton ",
          "GM Hamilton ",
          "TD Paine ",
          "TS Chisoro ",
          "JK Kamande ",
          "R McLaren ",
          "WP Masakadza ",
          "PKD Chase ",
          "LN Rajbanshi ",
          "Aftab Alam ",
          "M Muralitharan ",
          "K Santokie ",
          "MC Henriques ",
          "CN Ackermann ",
          "D Heyliger ",
          "DM Gondaria ",
          "Aarif Sheikh ",
          "DMW Rawlins ",
          "Aftab Ahmed ",
          "H Patel ",
          "MR Marsh ",
          "XJ Doherty ",
          "AR Patel ",
          "GD Phillips ",
          "DF Watts ",
          "N Dutta ",
          "Saad Bin Zafar ",
          "AJ Turner ",
          "O Bascome ",
          "NT Broom ",
          "S Dhaniram ",
          "NFI McCallum ",
          "OGL Bascome ",
          "MR Gillespie ",
          "JH Stander ",
          "RK Paudel ",
          "Sikander Zulfiqar ",
          "TM Odoyo ",
          "FA Allen ",
          "BE Hendricks ",
          "DAP Darrell ",
          "GH O'Brien ",
          "PS Airee ",
          "H Osinde ",
          "PD McGlashan ",
          "K Christie ",
          "JB Little ",
          "JS Patel ",
          "RAS Lakmal ",
          "Mohammad Asif ",
          "Imran Haider ",
          "KAJ Roach ",
          "BV Vitori ",
          "DDP D'Silva ",
          "AN Kervezee ",
          "Haroon Arshad ",
          "DO Obuya ",
          "MJ Prior ",
          "S Sreesanth ",
          "Asad Shafiq ",
          "SS McKechnie ",
          "RR Watson ",
          "AC Douglas ",
          "GJ Thompson ",
          "JDF Vandersay ",
          "WIA Fernando ",
          "Naeem Islam ",
          "Sohag Gazi ",
          "C Carter ",
          "Waheed Ahmed ",
          "Shahzaib Hasan ",
          "JL Denly ",
          "Arafat Sunny ",
          "JD Nel ",
          "GJ Hopkins ",
          "LN Oluoch ",
          "DI Allan ",
          "TS Fray ",
          "S Matsikenyeri ",
          "DT Tiripano ",
          "Qadeer Ahmed ",
          "M Ntini ",
          "CAK Rajitha ",
          "O Thomas ",
          "P Kumar ",
          "A Mishra ",
          "RP Singh ",
          "DL Chahar ",
          "Raza Hasan ",
          "Shaheen Shah Afridi ",
          "DJ Malan ",
          "ML Hayden ",
          "NO Miller ",
          "A Bagai ",
          "SC Kuggeleijn ",
          "HE van der Dussen ",
          "SF Mire ",
          "RML Taylor ",
          "UT Khawaja ",
          "CA Ingram ",
          "V Shankar ",
          "PM Nevill ",
          "H Klaasen ",
          "AB Dinda ",
          "KM Jadhav ",
          "Nurul Hasan ",
          "L Vincent ",
          "CJ Dala ",
          "M Vijay ",
          "JN Mohammed ",
          "H Davids ",
          "TB Sole ",
          "AJ Staal ",
          "DJ Mitchell ",
          "Shahid Wasif ",
          "Ariful Haque ",
          "JA Richardson ",
          "JW Hastings ",
          "Bilawal Bhatti ",
          "WK McCallan ",
          "Muhammad Kaleem ",
          "Shamsur Rahman ",
          "Sagar Pun ",
          "P Sarraf ",
          "G Goudie ",
          "SP Gauchan ",
          "PC Connell ",
          "CK Langeveldt ",
          "GDR Eranga ",
          "DE Bollinger ",
          "R Vinay Kumar ",
          "Junaid Khan ",
          "J Theron ",
          "T Muzarabani ",
          "JM Kemp ",
          "MN van Wyk ",
          "CD McMillan ",
          "Raees Ahmadzai ",
          "CR Woakes ",
          "IR Bell ",
          "TGJ Gruijters ",
          "R Gunasekera ",
          "HD Rutherford ",
          "NS Poonia ",
          "Waqas Khan ",
          "BFW de Leede ",
          "MO Jones ",
          "JT Smuts ",
          "JJ van der Wath ",
          "OJ Hairs ",
          "SP Khakurel ",
          "JNK Shannon ",
          "PWH de Silva ",
          "AS Hansra ",
          "ML Udawatte ",
          "Afif Hossain ",
          "CD de Lange ",
          "CJO Smith ",
          "KM Dabengwa ",
          "Abdur Rehman ",
          "N Deonarine ",
          "RA Thomas ",
          "Irfan Ahmed ",
          "Sharafuddin Ashraf ",
          "LM Jongwe ",
          "K Pierre ",
          "MF Maharoof ",
          "Nasrulla Rana ",
          "JRMVB Sanjaya ",
          "AO Suji ",
          "D Paterson ",
          "PJ Ongondo ",
          "Syed Rasel ",
          "DC Delany ",
          "SHA Rance ",
          "J Mulder ",
          "LV van Beek ",
          "Junaid Siddique ",
          "LH Ferguson ",
          "MM Sharma ",
          "Rumman Raees ",
          "Usman Limbada ",
          "AC Voges ",
          "Rahmanullah Gurbaz ",
          "Nazimuddin ",
          "IJL Trott ",
          "Junaid Siddique ",
          "AJ Redmond ",
          "M Mosehle ",
          "Chirag Suri ",
          "TE Kane ",
          "Abraash Khan ",
          "AM Samad ",
          "RS Morton ",
          "S Samarawickrama ",
          "A Flintoff ",
          "U Bhatti ",
          "HG Kuhn ",
          "Alok Kapali ",
          "Imran Farhat ",
          "BCJ Cutting ",
          "D Bishoo ",
          "C Zhuwao ",
          "Simandeep Singh ",
          "SNJ O'Keefe ",
          "L Ngidi ",
          "Elias Sunny ",
          "SW Masakadza ",
          "CJ Boyce ",
          "S Randiv ",
          "E Schiferli ",
          "VD Philander ",
          "UT Yadav ",
          "JO Ngoche ",
          "NM Carter ",
          "BW Hilfenhaus ",
          "PP Chawla ",
          "JOA Gordon ",
          "DR Briggs ",
          "Zulfiqar Babar ",
          "Iftikhar Ahmed ",
          "DS Smith ",
          "WPUJC Vaas ",
          "S Dube ",
          "Mukhtar Ahmed ",
          "DE Budge ",
          "RK Kleinveldt ",
          "B Zuiderent ",
          "S Jora ",
          "Mominul Haque ",
          "CD Barnwell ",
          "BM Wheeler ",
          "Abdul Shakoor ",
          "LA Dawson ",
          "TK Musakanda ",
          "MM Iqbal ",
          "J Smits ",
          "Ahsan Abbasi ",
          "Faizan Asif ",
          "DJ Reekers ",
          "AK Perera ",
          "NJ Maddinson ",
          "BA King ",
          "AT Rayudu ",
          "MJ Henry ",
          "CJ McKay ",
          "RP Magar ",
          "Saqib Zulfiqar ",
          "DC Stovell ",
          "BJ McCarthy ",
          "Fahad Tariq ",
          "Shahadat Hossain ",
          "Saqlain Haider ",
          "JS Kundi ",
          "JAR Blain ",
          "T Thushara ",
          "S Bhari ",
          "B Muzarabani ",
          "P Kerai ",
          "RJW Topley ",
          "PP Ojha ",
          "CS Martin ",
          "D Pretorius ",
          "TL Best ",
          "CU Jayasinghe ",
          "T Munyonga ",
          "GEF Barnett ",
          "PBB Rajapaksa ",
          "NR Kirton ",
          "JJ Tucker ",
          "SP Fleming ",
          "NG Jones ",
          "SM Davies ",
          "CP Rizwan ",
          "BR Dunk ",
          "Shuvagata Hom ",
          "K Weeraratne ",
          "DP Hyatt ",
          "GA Lamb ",
          "Awais Zia ",
          "AK Kitchen ",
          "JS Foster ",
          "DR Flynn ",
          "SM Curran ",
          "DL Brangman ",
          "Hammad Azam ",
          "JM How ",
          "Amjad Ali ",
          "K Jethi ",
          "Raqibul Hasan ",
          "Mohammad Ghazanfar ",
          "BJ Watling ",
          "JM Davison ",
          "LN Onyango ",
          "AM Ellis ",
          "WW Hinds ",
          "Abul Hasan ",
          "L Gregory ",
          "Tanveer Ahmed ",
          "SJS Smith ",
          "RazaNAurNARehman ",
          "SS Pathirana ",
          "N M'shangwe ",
          "HM Nicholls ",
          "JM Muirhead ",
          "RM West ",
          "SHT Kandamby ",
          "AM Guruge ",
          "DG Brownlie ",
          "SD Parry ",
          "TS Mills ",
          "Ehsan Nawaz ",
          "L Sipamla ",
          "S Smith ",
          "MA Wood ",
          "NA Saini ",
          "Sohail Khan ",
          "Aizaz Cheema ",
          "BTJ Wheal ",
          "DBL Powell ",
          "D Murphy ",
          "DR Martyn ",
          "DL Maddy ",
          "AP Devcich ",
          "NJ Astle ",
          "CP Schofield ",
          "KO Otieno ",
          "AJ Strauss ",
          "NavedNAulNAHasan ",
          "Zawar Farid ",
          "PHKD Mendis ",
          "Shoaib Khan jnr ",
          "AN Cook ",
          "E Katchay ",
          "Aminul Islam ",
          "HC Overdijk ",
          "AR Adams ",
          "R Flannigan ",
          "Ismat Ullah ",
          "WD Balaji Rao ",
          "TR Birt ",
          "RR David ",
          "Amjad Khan ",
          "Khurram Chohan ",
          "RA Bhatti ",
          "I Pandey ",
          "AB Agarkar ",
          "NaveenNAulNAHaq ",
          "PRP Boissevain ",
          "Raag Kapur ",
          "J Anderson ",
          "R Strydom ",
          "HMCM Bandara ",
          "RR Emrit ",
          "SA Abbott ",
          "Mohammad Hasnain ",
          "NB Budayair ",
          "ZE Surkari ",
          "AA Mulla ",
          "SR Bhudia ",
          "Amir Hayat ",
          "A Bhagwat ",
          "Sayed Shirzad ",
          "VJ Kingma ",
          "I Wardlaw ",
          "AF Buurman ",
          "HJC Mol ",
          "JL Pattinson ",
          "Nazmul Hossain ",
          "PR Brown ",
          "SI Mahmood ",
          "JK Mukhiya ",
          "CB Sole ",
          "T Mupariwa ",
          "Muhammad Awais ",
          "ME Trescothick ",
          "SMA Priyanjan ",
          "BOP Fernando ",
          "M Klinger ",
          "Mohammad Naim ",
          "Mandeep Singh ",
          "AR Gandhi ",
          "B Mavuta ",
          "SM Katich ",
          "VS Solanki ",
          "SD Outerbridge ",
          "Khurram Khan ",
          "Saad Nasim ",
          "Umair Ali ",
          "JWM Dalrymple ",
          "T Banton ",
          "S Thuraisingam ",
          "Mohammed Qasim ",
          "STR Binny ",
          "TA Blundell ",
          "Mohammad Yousuf ",
          "MK Tiwary ",
          "CM Wright ",
          "Sahibzada Farhan ",
          "KDK Vithanage ",
          "Rafatullah Mohmand ",
          "Usman Mushtaq ",
          "F Mutizwa ",
          "RJ Campbell ",
          "OL Pitcher ",
          "PJ Ingram ",
          "TG Gordon ",
          "Kamran Shazad ",
          "Jahurul Islam ",
          "RL Bhudia ",
          "Nadif Chowdhury ",
          "Mohammad Iqbal ",
          "OO Bascome ",
          "Zulqarnain Haider ",
          "S Mahmood ",
          "JAH Marshall ",
          "BB Chari ",
          "RMS Eranga ",
          "SE Rutherford ",
          "CJ Ferguson ",
          "DR Tuffey ",
          "VB van Jaarsveld ",
          "Ibrahim Zadran ",
          "J Edness ",
          "CR Foggo ",
          "HJH Marshall ",
          "CBRLS Kumara ",
          "Farhan Ahmed ",
          "Mohammad Tauqir ",
          "Khurram Manzoor ",
          "Kushal Malla ",
          "CS Baugh ",
          "Javed Ahmadi ",
          "NM Hauritz ",
          "JJ Celestine ",
          "TS Braat ",
          "TD Astle ",
          "MJ Mason ",
          "Zaheer Maqsood ",
          "GB Brent ",
          "A Ndlovu ",
          "Abu Jayed ",
          "ST de Silva ",
          "M Nasim Baras ",
          "RD McCann ",
          "MBS Jonkman ",
          "G Wijekoon ",
          "MDK Perera ",
          "MS Aulakh ",
          "MM Patel ",
          "GI Maiden ",
          "MA Aponso ",
          "RJ Harris ",
          "SM Harwood ",
          "SKW Kelly ",
          "JE Pitcher ",
          "Zahid Hussain ",
          "A Shahzad ",
          "Mohammad Kashif ",
          "BM Tickner ",
          "R Telemachus ",
          "GE Mathurin ",
          "T Bavuma ",
          "TM Dowlin ",
          "GH Worker ",
          "SA Wijeyeratne ",
          "PSP Handscomb ",
          "GO Jones ",
          "P Mustard ",
          "C Jonker ",
          "IS Billcliff ",
          "DA Rankin ",
          "C Floyd ",
          "Munir Dar ",
          "RI Ahmed ",
          "RLB Rambukwella ",
          "PA Patel ",
          "JN Malan ",
          "RJMGM Rupasinghe ",
          "Mehrab Hossain jnr ",
          "EHSN Silva ",
          "SE Findlay ",
          "RN Patel ",
          "MP Vaughan ",
          "NE Bonner ",
          "TB de Bruyn ",
          "Rameez Raja ",
          "AB Barath ",
          "AJ Hall ",
          "PC de Silva ",
          "V Shetty ",
          "OC McCoy ",
          "ImamNAulNAHaq ",
          "LD Madushanka ",
          "DL Hemp ",
          "S Jyoti ",
          "HGJM Kulatunga ",
          "AK Markram ",
          "Najmul Hossain Shanto ",
          "LS Livingstone ",
          "GL Cloete ",
          "AN Petersen ",
          "NV Ojha ",
          "OF Smith ",
          "AK Mandal ",
          "KS Lokuarachchi ",
          "JD Campbell ",
          "GD McGrath ",
          "MS Atapattu ",
          "IH Romaine ",
          "NJ Reardon ",
          "AS Dean ",
          "A Karn ",
          "RT Lyons ",
          "CL Cairns ",
          "J Lewis ",
          "JP Bray ",
          "DR Brown ",
          "AA Noffke ",
          "M Simmons ",
          "AJ McKay ",
          "MS Sinclair ",
          "Shakeel Ansar ",
          "M Bhanuka ",
          "DO Christian ",
          "Dawlat Ahmadzai ",
          "Yamin Ahmadzai ",
          "NM Lyon ",
          "Fawad Ahmed ",
          "MS Kasprowicz ",
          "PM Siddle ",
          "JD Wildermuth ",
          "Taijul Islam ",
          "S Keshvani ",
          "A Mehmood ",
          "DS Kulkarni ",
          "Sandeep Sharma ",
          "Aamer Yamin ",
          "Yasir Shah ",
          "ND McKenzie ",
          "J Louw ",
          "A Nel ",
          "RAJ Smith ",
          "GA Rogers ",
          "LHD Dilhara ",
          "B Fernando ",
          "UWMBCA Welegedara ",
          "PDRL Perera ",
          "J Nyumbu ",
          "KO Meth ",
          "EC Rainsford ",
          "S Badrinath ",
          "D Mongia ",
          "R Dravid ",
          "D Ganga ",
          "Shahriar Nafees ",
          "JN Gillespie ",
          "FL Reifer ",
          "Rony Talukdar ",
          "MJ North ",
          "SV Samson ",
          "JW Wilson ",
          "Nauman Anwar ",
          "BJ Rohrer ",
          "Shabir Noori ",
          "LA Pomersbach ",
          "Vikramjit Singh ",
          "SG Borthwick ",
          "Mohammad Rafique ",
          "CMW Read ",
          "PA Hitchcock ",
          "Fazal Niazai ",
          "KOA Powell ",
          "Mahedi Hasan ",
          "H Thaker ",
          "Fayyaz Ahmed ",
          "Zakir Hasan ",
          "SR Tendulkar ",
          "BA Parchment ",
          "ACL Richards ",
          "Afsar Zazai ",
          "BM Duckett ",
          "FRJ Coleman ",
          "WKD Perkins ",
          "Khushdil Shah ",
          "GH Bodi ",
          "AM Blignaut ",
          "MA Carberry ",
          "JN Snape ",
          "RP Arnold ",
          "PJ Hughes ",
          "Parvez Rasool ",
          "Mohammad Salman ",
          "AG Prince ",
          "AM McCarthy ",
          "Nazmus Sadat ",
          "GJ Batty ",
          "SP Terry ",
          "GJP Kruger ",
          "MC Bascombe ",
          "A Khan ",
          "Najeeb Amar ",
          "A Bhattarai ",
          "MVT Fernando ",
          "Dhiman Ghosh ",
          "TE Tucker ",
          "MS Panesar ",
          "JS Jesani ",
          "EB Ringera ",
          "HH Dippenaar ",
          "ML Nkala ",
          "KC Hodsoll ",
          "Mohammad Qazi ",
          "T Henderson ",
          "M Zondeki ",
          "L Sreekumar ",
          "RN Lewis ",
          "DM Richards ",
          "Hashmatullah Shahidi ",
          "MJ Swepson ",
          "CT Bancroft ",
          "Muktar Ali ",
          "Sohrawordi Shuvo ",
          "PA Desai ",
          "MR Montfort ",
          "PA Nixon ",
          "RWT Key ",
          "RJ Kirtley ",
          "Anas Khan ",
          "R Dhawan ",
          "GE Kidd ",
          "EP Thompson ",
          "InzamamNAulNAHaq ",
          "JA Rudolph ",
          "KMC Bandara ",
          "Adnan Mufti ",
          "Muhammed Shanil ",
          "DE Bernard ",
          "IDR Bradshaw ",
          "AJ Ireland "
         ],
         "legendgroup": "",
         "marker": {
          "color": "#636efa",
          "symbol": "circle"
         },
         "mode": "markers",
         "name": "",
         "showlegend": false,
         "type": "scattergl",
         "x": [
          104,
          96,
          91,
          85,
          87,
          83,
          86,
          84,
          79,
          76,
          80,
          76,
          75,
          79,
          70,
          30,
          66,
          75,
          65,
          76,
          76,
          70,
          75,
          70,
          33,
          62,
          71,
          57,
          70,
          50,
          40,
          58,
          52,
          65,
          58,
          66,
          59,
          60,
          30,
          65,
          23,
          41,
          55,
          54,
          54,
          59,
          60,
          57,
          27,
          59,
          58,
          54,
          56,
          51,
          41,
          57,
          56,
          53,
          30,
          55,
          48,
          25,
          53,
          26,
          55,
          53,
          47,
          39,
          16,
          48,
          45,
          23,
          38,
          47,
          48,
          15,
          14,
          44,
          39,
          11,
          46,
          42,
          22,
          37,
          22,
          44,
          44,
          43,
          8,
          10,
          29,
          35,
          38,
          38,
          25,
          9,
          42,
          41,
          40,
          18,
          19,
          6,
          30,
          27,
          29,
          9,
          13,
          20,
          25,
          7,
          15,
          34,
          36,
          16,
          11,
          27,
          8,
          30,
          30,
          38,
          36,
          35,
          38,
          38,
          31,
          4,
          37,
          14,
          26,
          36,
          36,
          33,
          21,
          15,
          36,
          28,
          35,
          30,
          33,
          36,
          14,
          3,
          33,
          35,
          11,
          21,
          31,
          29,
          32,
          33,
          33,
          28,
          32,
          29,
          22,
          22,
          17,
          7,
          20,
          13,
          33,
          32,
          31,
          32,
          32,
          26,
          27,
          30,
          32,
          26,
          31,
          32,
          29,
          32,
          30,
          24,
          30,
          29,
          24,
          17,
          24,
          22,
          9,
          8,
          29,
          26,
          26,
          19,
          28,
          28,
          15,
          10,
          27,
          17,
          10,
          28,
          22,
          8,
          19,
          19,
          19,
          15,
          13,
          18,
          6,
          6,
          19,
          27,
          27,
          23,
          23,
          6,
          18,
          5,
          8,
          14,
          6,
          25,
          24,
          26,
          17,
          22,
          11,
          23,
          26,
          20,
          11,
          7,
          12,
          23,
          23,
          25,
          24,
          25,
          24,
          21,
          12,
          21,
          16,
          22,
          13,
          19,
          11,
          19,
          23,
          24,
          14,
          23,
          23,
          24,
          24,
          17,
          18,
          7,
          20,
          12,
          9,
          7,
          18,
          23,
          22,
          23,
          20,
          13,
          11,
          6,
          3,
          22,
          22,
          21,
          21,
          21,
          22,
          19,
          15,
          18,
          18,
          19,
          9,
          20,
          12,
          19,
          12,
          11,
          7,
          4,
          19,
          21,
          19,
          10,
          12,
          18,
          7,
          13,
          12,
          6,
          7,
          3,
          6,
          4,
          3,
          8,
          20,
          20,
          20,
          18,
          19,
          18,
          20,
          20,
          18,
          18,
          11,
          4,
          8,
          19,
          18,
          2,
          14,
          18,
          14,
          14,
          17,
          11,
          6,
          2,
          10,
          6,
          6,
          4,
          4,
          15,
          16,
          11,
          17,
          9,
          10,
          16,
          12,
          18,
          16,
          12,
          16,
          15,
          14,
          13,
          5,
          17,
          10,
          8,
          8,
          7,
          11,
          5,
          1,
          15,
          16,
          15,
          15,
          16,
          14,
          15,
          14,
          11,
          5,
          6,
          7,
          4,
          11,
          9,
          6,
          6,
          5,
          15,
          13,
          16,
          16,
          15,
          13,
          14,
          11,
          12,
          15,
          8,
          7,
          3,
          9,
          3,
          3,
          3,
          10,
          14,
          15,
          11,
          15,
          15,
          13,
          3,
          15,
          6,
          10,
          15,
          4,
          11,
          10,
          6,
          2,
          11,
          8,
          14,
          3,
          12,
          14,
          5,
          13,
          12,
          13,
          13,
          10,
          9,
          13,
          12,
          11,
          5,
          10,
          12,
          11,
          6,
          13,
          4,
          12,
          3,
          1,
          1,
          5,
          13,
          8,
          13,
          13,
          12,
          13,
          11,
          13,
          13,
          4,
          13,
          9,
          4,
          13,
          12,
          10,
          12,
          11,
          12,
          7,
          13,
          11,
          9,
          6,
          11,
          10,
          12,
          12,
          12,
          7,
          12,
          12,
          12,
          10,
          9,
          12,
          8,
          9,
          6,
          9,
          4,
          6,
          5,
          2,
          5,
          2,
          1,
          8,
          11,
          7,
          9,
          10,
          11,
          11,
          11,
          11,
          4,
          7,
          10,
          9,
          3,
          4,
          7,
          11,
          7,
          9,
          7,
          11,
          6,
          11,
          10,
          8,
          10,
          9,
          3,
          10,
          6,
          11,
          6,
          9,
          4,
          6,
          4,
          6,
          3,
          2,
          1,
          2,
          8,
          10,
          10,
          10,
          8,
          3,
          10,
          10,
          9,
          9,
          8,
          7,
          10,
          10,
          7,
          5,
          9,
          10,
          9,
          6,
          5,
          8,
          6,
          10,
          10,
          10,
          6,
          4,
          4,
          4,
          4,
          3,
          1,
          2,
          2,
          4,
          1,
          9,
          9,
          5,
          9,
          5,
          8,
          8,
          6,
          9,
          9,
          4,
          5,
          9,
          2,
          6,
          8,
          9,
          4,
          9,
          8,
          9,
          6,
          8,
          9,
          8,
          8,
          3,
          6,
          4,
          3,
          9,
          8,
          9,
          8,
          6,
          5,
          3,
          3,
          1,
          2,
          1,
          2,
          3,
          1,
          7,
          7,
          7,
          6,
          7,
          8,
          5,
          8,
          7,
          7,
          7,
          7,
          7,
          8,
          4,
          8,
          8,
          8,
          7,
          8,
          8,
          7,
          3,
          6,
          7,
          5,
          7,
          8,
          8,
          4,
          7,
          4,
          5,
          4,
          5,
          5,
          2,
          6,
          3,
          2,
          3,
          4,
          4,
          4,
          1,
          2,
          1,
          3,
          5,
          7,
          7,
          7,
          7,
          6,
          6,
          7,
          3,
          4,
          6,
          7,
          7,
          7,
          7,
          6,
          7,
          7,
          5,
          4,
          7,
          7,
          5,
          2,
          4,
          5,
          2,
          2,
          3,
          4,
          1,
          3,
          2,
          3,
          1,
          2,
          1,
          3,
          6,
          6,
          2,
          4,
          6,
          4,
          3,
          6,
          6,
          4,
          6,
          4,
          4,
          2,
          6,
          3,
          2,
          6,
          6,
          5,
          5,
          4,
          5,
          5,
          2,
          4,
          6,
          4,
          6,
          3,
          5,
          5,
          5,
          4,
          3,
          2,
          3,
          3,
          1,
          1,
          1,
          1,
          2,
          1,
          3,
          3,
          5,
          5,
          5,
          5,
          5,
          4,
          5,
          4,
          5,
          4,
          5,
          5,
          4,
          5,
          4,
          5,
          5,
          3,
          4,
          4,
          5,
          5,
          5,
          5,
          2,
          4,
          5,
          4,
          5,
          5,
          2,
          3,
          2,
          4,
          4,
          5,
          2,
          4,
          2,
          4,
          4,
          3,
          5,
          1,
          1,
          1,
          1,
          3,
          2,
          1,
          1,
          1,
          2,
          1,
          4,
          4,
          4,
          4,
          4,
          4,
          4,
          4,
          2,
          4,
          4,
          4,
          4,
          3,
          3,
          1,
          2,
          4,
          4,
          4,
          3,
          4,
          3,
          4,
          4,
          4,
          2,
          2,
          2,
          3,
          2,
          2,
          3,
          3,
          1,
          3,
          3,
          3,
          4,
          3,
          2,
          4,
          1,
          2,
          1,
          2,
          1,
          2,
          2,
          1,
          2,
          1,
          1,
          2,
          3,
          3,
          3,
          3,
          3,
          3,
          3,
          3,
          3,
          2,
          3,
          3,
          3,
          2,
          3,
          3,
          3,
          2,
          3,
          2,
          2,
          3,
          1,
          1,
          3,
          3,
          3,
          2,
          3,
          3,
          3,
          3,
          3,
          2,
          3,
          3,
          3,
          3,
          3,
          3,
          2,
          2,
          3,
          1,
          3,
          3,
          2,
          3,
          3,
          3,
          3,
          3,
          1,
          1,
          2,
          3,
          2,
          3,
          2,
          2,
          3,
          2,
          2,
          1,
          1,
          1,
          1,
          2,
          2,
          1,
          1,
          1,
          2,
          2,
          1,
          1,
          1,
          1,
          1,
          1,
          2,
          1,
          2,
          1,
          1,
          1,
          1,
          2,
          2,
          2,
          2,
          2,
          2,
          2,
          2,
          2,
          2,
          2,
          2,
          2,
          2,
          1,
          2,
          2,
          2,
          2,
          2,
          2,
          2,
          2,
          2,
          2,
          2,
          2,
          1,
          2,
          2,
          2,
          2,
          2,
          2,
          2,
          2,
          2,
          2,
          2,
          2,
          2,
          2,
          1,
          2,
          2,
          2,
          1,
          1,
          2,
          1,
          2,
          1,
          2,
          2,
          2,
          2,
          1,
          1,
          1,
          1,
          2,
          1,
          1,
          1,
          1,
          1,
          1,
          1,
          1,
          1,
          1,
          1,
          1,
          1,
          1,
          1,
          1,
          1,
          1,
          1,
          1,
          1,
          2,
          1,
          1,
          1,
          2,
          2,
          1,
          1,
          1,
          1,
          1,
          1,
          1,
          1,
          1,
          1,
          1,
          1,
          1,
          1,
          1,
          1,
          1,
          1,
          1,
          1,
          1,
          1,
          1,
          1,
          1,
          1,
          1,
          1,
          1,
          1,
          1,
          1,
          1,
          1,
          1,
          1,
          1,
          1,
          1,
          1,
          1,
          1,
          1,
          1,
          1,
          1,
          1,
          1,
          1,
          1,
          1,
          1,
          1,
          1,
          1,
          1,
          1,
          1,
          1,
          1,
          1,
          1,
          1,
          1,
          1,
          1,
          1,
          1,
          1,
          1,
          1,
          1,
          1,
          1,
          1,
          1,
          1,
          1,
          1,
          1,
          1,
          1,
          1,
          1,
          1,
          1,
          1,
          1,
          1,
          1,
          1
         ],
         "xaxis": "x",
         "y": [
          2263,
          2633,
          1416,
          1617,
          1743,
          1504,
          1908,
          2002,
          1690,
          1265,
          2436,
          1430,
          1934,
          1889,
          1169,
          128,
          1605,
          1672,
          1239,
          2079,
          1567,
          2633,
          1613,
          1316,
          251,
          1309,
          1929,
          1055,
          2140,
          636,
          464,
          1058,
          587,
          1611,
          1260,
          1662,
          1142,
          1167,
          220,
          1936,
          91,
          299,
          985,
          1576,
          1247,
          1079,
          1644,
          1546,
          165,
          1471,
          1878,
          1627,
          1462,
          1177,
          812,
          1504,
          1386,
          987,
          215,
          1505,
          918,
          196,
          1382,
          118,
          1493,
          852,
          800,
          377,
          43,
          1094,
          759,
          155,
          572,
          1042,
          990,
          64,
          59,
          984,
          465,
          123,
          791,
          494,
          163,
          472,
          149,
          1363,
          1277,
          946,
          22,
          16,
          454,
          755,
          703,
          638,
          216,
          23,
          1171,
          799,
          765,
          123,
          137,
          8,
          328,
          310,
          261,
          39,
          114,
          201,
          310,
          59,
          51,
          788,
          756,
          104,
          109,
          263,
          8,
          721,
          518,
          1018,
          987,
          711,
          821,
          818,
          463,
          19,
          605,
          122,
          157,
          1176,
          932,
          790,
          229,
          43,
          1405,
          577,
          866,
          474,
          583,
          538,
          96,
          4,
          691,
          434,
          53,
          94,
          1138,
          603,
          695,
          756,
          724,
          488,
          576,
          402,
          216,
          205,
          68,
          24,
          41,
          27,
          982,
          741,
          479,
          621,
          582,
          359,
          587,
          893,
          971,
          399,
          613,
          743,
          393,
          505,
          406,
          485,
          629,
          578,
          370,
          145,
          176,
          240,
          40,
          28,
          777,
          473,
          526,
          249,
          466,
          381,
          118,
          61,
          239,
          109,
          33,
          833,
          334,
          24,
          68,
          198,
          166,
          150,
          108,
          107,
          7,
          12,
          226,
          552,
          478,
          292,
          231,
          23,
          133,
          28,
          22,
          17,
          1,
          621,
          409,
          511,
          239,
          351,
          92,
          348,
          407,
          291,
          61,
          6,
          51,
          666,
          442,
          526,
          500,
          497,
          331,
          268,
          101,
          240,
          173,
          235,
          125,
          128,
          35,
          419,
          595,
          541,
          172,
          475,
          482,
          473,
          389,
          194,
          159,
          37,
          174,
          56,
          34,
          19,
          311,
          450,
          429,
          400,
          232,
          133,
          73,
          12,
          2,
          533,
          593,
          449,
          461,
          457,
          343,
          294,
          207,
          236,
          271,
          275,
          50,
          254,
          55,
          127,
          49,
          42,
          15,
          4,
          364,
          452,
          327,
          83,
          124,
          219,
          82,
          145,
          64,
          23,
          33,
          15,
          11,
          5,
          14,
          21,
          592,
          506,
          375,
          340,
          321,
          279,
          281,
          214,
          221,
          213,
          92,
          10,
          21,
          445,
          394,
          20,
          219,
          316,
          146,
          136,
          225,
          73,
          29,
          9,
          31,
          15,
          5,
          2,
          1,
          405,
          434,
          216,
          404,
          121,
          121,
          298,
          137,
          363,
          287,
          142,
          291,
          185,
          189,
          187,
          26,
          169,
          45,
          23,
          26,
          25,
          24,
          10,
          5,
          259,
          401,
          314,
          347,
          310,
          208,
          171,
          152,
          111,
          22,
          32,
          54,
          13,
          54,
          35,
          23,
          8,
          5,
          319,
          254,
          312,
          286,
          238,
          180,
          225,
          109,
          112,
          175,
          61,
          27,
          19,
          15,
          0,
          8,
          2,
          142,
          327,
          345,
          183,
          360,
          279,
          163,
          37,
          255,
          36,
          88,
          227,
          55,
          100,
          46,
          21,
          9,
          337,
          96,
          371,
          26,
          233,
          323,
          23,
          226,
          233,
          183,
          210,
          158,
          142,
          123,
          117,
          130,
          26,
          117,
          90,
          102,
          10,
          119,
          18,
          87,
          8,
          24,
          1,
          58,
          519,
          85,
          407,
          355,
          249,
          272,
          238,
          237,
          236,
          21,
          257,
          108,
          18,
          215,
          202,
          163,
          129,
          92,
          127,
          49,
          100,
          94,
          72,
          18,
          361,
          266,
          340,
          225,
          258,
          105,
          201,
          238,
          159,
          98,
          86,
          127,
          90,
          82,
          40,
          83,
          9,
          25,
          7,
          3,
          2,
          1,
          0,
          159,
          243,
          58,
          199,
          194,
          261,
          228,
          220,
          175,
          18,
          68,
          140,
          137,
          15,
          43,
          57,
          147,
          73,
          100,
          76,
          107,
          21,
          94,
          80,
          68,
          95,
          64,
          18,
          80,
          32,
          87,
          31,
          61,
          15,
          18,
          9,
          7,
          9,
          4,
          3,
          8,
          130,
          289,
          211,
          216,
          127,
          20,
          192,
          130,
          159,
          138,
          107,
          15,
          148,
          130,
          57,
          55,
          66,
          116,
          92,
          34,
          34,
          86,
          26,
          86,
          73,
          76,
          29,
          7,
          10,
          8,
          8,
          7,
          0,
          3,
          1,
          18,
          0,
          458,
          308,
          43,
          284,
          65,
          254,
          253,
          85,
          241,
          210,
          101,
          25,
          156,
          22,
          122,
          78,
          174,
          19,
          169,
          90,
          161,
          69,
          97,
          97,
          77,
          59,
          13,
          46,
          23,
          11,
          97,
          86,
          90,
          57,
          25,
          13,
          4,
          4,
          1,
          1,
          2,
          3,
          32,
          0,
          203,
          225,
          187,
          91,
          91,
          188,
          51,
          202,
          151,
          95,
          68,
          98,
          81,
          126,
          46,
          105,
          112,
          111,
          55,
          82,
          96,
          83,
          35,
          58,
          46,
          22,
          55,
          73,
          76,
          28,
          60,
          17,
          33,
          15,
          20,
          15,
          5,
          28,
          7,
          7,
          10,
          6,
          7,
          5,
          1,
          3,
          0,
          53,
          139,
          227,
          178,
          138,
          159,
          126,
          105,
          113,
          36,
          66,
          97,
          96,
          97,
          76,
          49,
          49,
          57,
          76,
          40,
          17,
          48,
          33,
          32,
          6,
          9,
          18,
          4,
          8,
          7,
          14,
          2,
          4,
          4,
          2,
          0,
          3,
          0,
          27,
          150,
          203,
          33,
          64,
          192,
          60,
          25,
          108,
          101,
          60,
          78,
          37,
          35,
          17,
          98,
          46,
          15,
          80,
          80,
          64,
          59,
          45,
          53,
          42,
          10,
          19,
          52,
          34,
          42,
          11,
          19,
          8,
          14,
          9,
          4,
          4,
          1,
          1,
          0,
          1,
          10,
          5,
          87,
          17,
          49,
          45,
          131,
          131,
          75,
          94,
          110,
          42,
          102,
          80,
          99,
          35,
          49,
          64,
          32,
          70,
          38,
          37,
          59,
          35,
          23,
          34,
          56,
          42,
          41,
          51,
          10,
          38,
          44,
          17,
          25,
          30,
          14,
          21,
          7,
          21,
          25,
          27,
          5,
          19,
          4,
          11,
          13,
          3,
          6,
          1,
          0,
          0,
          0,
          14,
          10,
          0,
          1,
          0,
          2,
          1,
          35,
          120,
          113,
          111,
          74,
          24,
          74,
          73,
          18,
          67,
          66,
          65,
          61,
          15,
          14,
          13,
          13,
          38,
          44,
          32,
          31,
          39,
          28,
          18,
          25,
          33,
          15,
          7,
          7,
          12,
          12,
          6,
          12,
          17,
          5,
          5,
          7,
          10,
          11,
          4,
          3,
          5,
          1,
          1,
          1,
          0,
          0,
          5,
          3,
          4,
          1,
          0,
          4,
          5,
          82,
          166,
          54,
          97,
          143,
          143,
          87,
          86,
          41,
          69,
          76,
          49,
          73,
          44,
          22,
          60,
          56,
          18,
          36,
          35,
          17,
          50,
          15,
          14,
          40,
          40,
          39,
          13,
          38,
          36,
          34,
          22,
          32,
          21,
          31,
          20,
          27,
          27,
          24,
          23,
          7,
          14,
          21,
          6,
          17,
          16,
          5,
          15,
          14,
          13,
          13,
          12,
          4,
          4,
          4,
          11,
          7,
          10,
          6,
          6,
          9,
          6,
          4,
          2,
          2,
          2,
          2,
          3,
          3,
          1,
          1,
          1,
          1,
          1,
          0,
          0,
          0,
          0,
          2,
          0,
          13,
          5,
          3,
          0,
          0,
          5,
          5,
          4,
          76,
          68,
          90,
          77,
          33,
          33,
          60,
          57,
          51,
          49,
          23,
          39,
          38,
          19,
          36,
          35,
          33,
          16,
          16,
          32,
          15,
          27,
          27,
          26,
          24,
          23,
          11,
          22,
          11,
          11,
          21,
          21,
          20,
          10,
          19,
          18,
          16,
          16,
          15,
          14,
          12,
          6,
          11,
          11,
          11,
          5,
          5,
          9,
          4,
          8,
          4,
          4,
          3,
          1,
          2,
          1,
          0,
          0,
          0,
          0,
          0,
          0,
          0,
          2,
          1,
          4,
          3,
          3,
          1,
          1,
          0,
          0,
          0,
          1,
          1,
          15,
          11,
          7,
          1,
          0,
          9,
          7,
          18,
          8,
          2,
          0,
          7,
          6,
          1,
          43,
          38,
          31,
          26,
          25,
          24,
          22,
          21,
          20,
          19,
          18,
          18,
          16,
          15,
          15,
          15,
          14,
          13,
          13,
          13,
          12,
          12,
          11,
          11,
          11,
          10,
          10,
          10,
          10,
          9,
          9,
          9,
          9,
          8,
          8,
          8,
          7,
          7,
          7,
          6,
          5,
          5,
          5,
          5,
          4,
          4,
          4,
          3,
          3,
          2,
          2,
          2,
          2,
          1,
          1,
          1,
          1,
          1,
          1,
          1,
          0,
          0,
          0,
          0,
          0,
          0,
          0,
          1,
          3,
          0,
          19,
          1,
          4,
          1,
          31,
          10,
          2,
          21,
          1,
          1,
          1,
          11,
          6,
          2,
          6,
          1,
          1,
          0,
          2
         ],
         "yaxis": "y"
        }
       ],
       "layout": {
        "autosize": true,
        "legend": {
         "tracegroupgap": 0
        },
        "template": {
         "data": {
          "bar": [
           {
            "error_x": {
             "color": "#2a3f5f"
            },
            "error_y": {
             "color": "#2a3f5f"
            },
            "marker": {
             "line": {
              "color": "#E5ECF6",
              "width": 0.5
             },
             "pattern": {
              "fillmode": "overlay",
              "size": 10,
              "solidity": 0.2
             }
            },
            "type": "bar"
           }
          ],
          "barpolar": [
           {
            "marker": {
             "line": {
              "color": "#E5ECF6",
              "width": 0.5
             },
             "pattern": {
              "fillmode": "overlay",
              "size": 10,
              "solidity": 0.2
             }
            },
            "type": "barpolar"
           }
          ],
          "carpet": [
           {
            "aaxis": {
             "endlinecolor": "#2a3f5f",
             "gridcolor": "white",
             "linecolor": "white",
             "minorgridcolor": "white",
             "startlinecolor": "#2a3f5f"
            },
            "baxis": {
             "endlinecolor": "#2a3f5f",
             "gridcolor": "white",
             "linecolor": "white",
             "minorgridcolor": "white",
             "startlinecolor": "#2a3f5f"
            },
            "type": "carpet"
           }
          ],
          "choropleth": [
           {
            "colorbar": {
             "outlinewidth": 0,
             "ticks": ""
            },
            "type": "choropleth"
           }
          ],
          "contour": [
           {
            "colorbar": {
             "outlinewidth": 0,
             "ticks": ""
            },
            "colorscale": [
             [
              0,
              "#0d0887"
             ],
             [
              0.1111111111111111,
              "#46039f"
             ],
             [
              0.2222222222222222,
              "#7201a8"
             ],
             [
              0.3333333333333333,
              "#9c179e"
             ],
             [
              0.4444444444444444,
              "#bd3786"
             ],
             [
              0.5555555555555556,
              "#d8576b"
             ],
             [
              0.6666666666666666,
              "#ed7953"
             ],
             [
              0.7777777777777778,
              "#fb9f3a"
             ],
             [
              0.8888888888888888,
              "#fdca26"
             ],
             [
              1,
              "#f0f921"
             ]
            ],
            "type": "contour"
           }
          ],
          "contourcarpet": [
           {
            "colorbar": {
             "outlinewidth": 0,
             "ticks": ""
            },
            "type": "contourcarpet"
           }
          ],
          "heatmap": [
           {
            "colorbar": {
             "outlinewidth": 0,
             "ticks": ""
            },
            "colorscale": [
             [
              0,
              "#0d0887"
             ],
             [
              0.1111111111111111,
              "#46039f"
             ],
             [
              0.2222222222222222,
              "#7201a8"
             ],
             [
              0.3333333333333333,
              "#9c179e"
             ],
             [
              0.4444444444444444,
              "#bd3786"
             ],
             [
              0.5555555555555556,
              "#d8576b"
             ],
             [
              0.6666666666666666,
              "#ed7953"
             ],
             [
              0.7777777777777778,
              "#fb9f3a"
             ],
             [
              0.8888888888888888,
              "#fdca26"
             ],
             [
              1,
              "#f0f921"
             ]
            ],
            "type": "heatmap"
           }
          ],
          "heatmapgl": [
           {
            "colorbar": {
             "outlinewidth": 0,
             "ticks": ""
            },
            "colorscale": [
             [
              0,
              "#0d0887"
             ],
             [
              0.1111111111111111,
              "#46039f"
             ],
             [
              0.2222222222222222,
              "#7201a8"
             ],
             [
              0.3333333333333333,
              "#9c179e"
             ],
             [
              0.4444444444444444,
              "#bd3786"
             ],
             [
              0.5555555555555556,
              "#d8576b"
             ],
             [
              0.6666666666666666,
              "#ed7953"
             ],
             [
              0.7777777777777778,
              "#fb9f3a"
             ],
             [
              0.8888888888888888,
              "#fdca26"
             ],
             [
              1,
              "#f0f921"
             ]
            ],
            "type": "heatmapgl"
           }
          ],
          "histogram": [
           {
            "marker": {
             "pattern": {
              "fillmode": "overlay",
              "size": 10,
              "solidity": 0.2
             }
            },
            "type": "histogram"
           }
          ],
          "histogram2d": [
           {
            "colorbar": {
             "outlinewidth": 0,
             "ticks": ""
            },
            "colorscale": [
             [
              0,
              "#0d0887"
             ],
             [
              0.1111111111111111,
              "#46039f"
             ],
             [
              0.2222222222222222,
              "#7201a8"
             ],
             [
              0.3333333333333333,
              "#9c179e"
             ],
             [
              0.4444444444444444,
              "#bd3786"
             ],
             [
              0.5555555555555556,
              "#d8576b"
             ],
             [
              0.6666666666666666,
              "#ed7953"
             ],
             [
              0.7777777777777778,
              "#fb9f3a"
             ],
             [
              0.8888888888888888,
              "#fdca26"
             ],
             [
              1,
              "#f0f921"
             ]
            ],
            "type": "histogram2d"
           }
          ],
          "histogram2dcontour": [
           {
            "colorbar": {
             "outlinewidth": 0,
             "ticks": ""
            },
            "colorscale": [
             [
              0,
              "#0d0887"
             ],
             [
              0.1111111111111111,
              "#46039f"
             ],
             [
              0.2222222222222222,
              "#7201a8"
             ],
             [
              0.3333333333333333,
              "#9c179e"
             ],
             [
              0.4444444444444444,
              "#bd3786"
             ],
             [
              0.5555555555555556,
              "#d8576b"
             ],
             [
              0.6666666666666666,
              "#ed7953"
             ],
             [
              0.7777777777777778,
              "#fb9f3a"
             ],
             [
              0.8888888888888888,
              "#fdca26"
             ],
             [
              1,
              "#f0f921"
             ]
            ],
            "type": "histogram2dcontour"
           }
          ],
          "mesh3d": [
           {
            "colorbar": {
             "outlinewidth": 0,
             "ticks": ""
            },
            "type": "mesh3d"
           }
          ],
          "parcoords": [
           {
            "line": {
             "colorbar": {
              "outlinewidth": 0,
              "ticks": ""
             }
            },
            "type": "parcoords"
           }
          ],
          "pie": [
           {
            "automargin": true,
            "type": "pie"
           }
          ],
          "scatter": [
           {
            "fillpattern": {
             "fillmode": "overlay",
             "size": 10,
             "solidity": 0.2
            },
            "type": "scatter"
           }
          ],
          "scatter3d": [
           {
            "line": {
             "colorbar": {
              "outlinewidth": 0,
              "ticks": ""
             }
            },
            "marker": {
             "colorbar": {
              "outlinewidth": 0,
              "ticks": ""
             }
            },
            "type": "scatter3d"
           }
          ],
          "scattercarpet": [
           {
            "marker": {
             "colorbar": {
              "outlinewidth": 0,
              "ticks": ""
             }
            },
            "type": "scattercarpet"
           }
          ],
          "scattergeo": [
           {
            "marker": {
             "colorbar": {
              "outlinewidth": 0,
              "ticks": ""
             }
            },
            "type": "scattergeo"
           }
          ],
          "scattergl": [
           {
            "marker": {
             "colorbar": {
              "outlinewidth": 0,
              "ticks": ""
             }
            },
            "type": "scattergl"
           }
          ],
          "scattermapbox": [
           {
            "marker": {
             "colorbar": {
              "outlinewidth": 0,
              "ticks": ""
             }
            },
            "type": "scattermapbox"
           }
          ],
          "scatterpolar": [
           {
            "marker": {
             "colorbar": {
              "outlinewidth": 0,
              "ticks": ""
             }
            },
            "type": "scatterpolar"
           }
          ],
          "scatterpolargl": [
           {
            "marker": {
             "colorbar": {
              "outlinewidth": 0,
              "ticks": ""
             }
            },
            "type": "scatterpolargl"
           }
          ],
          "scatterternary": [
           {
            "marker": {
             "colorbar": {
              "outlinewidth": 0,
              "ticks": ""
             }
            },
            "type": "scatterternary"
           }
          ],
          "surface": [
           {
            "colorbar": {
             "outlinewidth": 0,
             "ticks": ""
            },
            "colorscale": [
             [
              0,
              "#0d0887"
             ],
             [
              0.1111111111111111,
              "#46039f"
             ],
             [
              0.2222222222222222,
              "#7201a8"
             ],
             [
              0.3333333333333333,
              "#9c179e"
             ],
             [
              0.4444444444444444,
              "#bd3786"
             ],
             [
              0.5555555555555556,
              "#d8576b"
             ],
             [
              0.6666666666666666,
              "#ed7953"
             ],
             [
              0.7777777777777778,
              "#fb9f3a"
             ],
             [
              0.8888888888888888,
              "#fdca26"
             ],
             [
              1,
              "#f0f921"
             ]
            ],
            "type": "surface"
           }
          ],
          "table": [
           {
            "cells": {
             "fill": {
              "color": "#EBF0F8"
             },
             "line": {
              "color": "white"
             }
            },
            "header": {
             "fill": {
              "color": "#C8D4E3"
             },
             "line": {
              "color": "white"
             }
            },
            "type": "table"
           }
          ]
         },
         "layout": {
          "annotationdefaults": {
           "arrowcolor": "#2a3f5f",
           "arrowhead": 0,
           "arrowwidth": 1
          },
          "autotypenumbers": "strict",
          "coloraxis": {
           "colorbar": {
            "outlinewidth": 0,
            "ticks": ""
           }
          },
          "colorscale": {
           "diverging": [
            [
             0,
             "#8e0152"
            ],
            [
             0.1,
             "#c51b7d"
            ],
            [
             0.2,
             "#de77ae"
            ],
            [
             0.3,
             "#f1b6da"
            ],
            [
             0.4,
             "#fde0ef"
            ],
            [
             0.5,
             "#f7f7f7"
            ],
            [
             0.6,
             "#e6f5d0"
            ],
            [
             0.7,
             "#b8e186"
            ],
            [
             0.8,
             "#7fbc41"
            ],
            [
             0.9,
             "#4d9221"
            ],
            [
             1,
             "#276419"
            ]
           ],
           "sequential": [
            [
             0,
             "#0d0887"
            ],
            [
             0.1111111111111111,
             "#46039f"
            ],
            [
             0.2222222222222222,
             "#7201a8"
            ],
            [
             0.3333333333333333,
             "#9c179e"
            ],
            [
             0.4444444444444444,
             "#bd3786"
            ],
            [
             0.5555555555555556,
             "#d8576b"
            ],
            [
             0.6666666666666666,
             "#ed7953"
            ],
            [
             0.7777777777777778,
             "#fb9f3a"
            ],
            [
             0.8888888888888888,
             "#fdca26"
            ],
            [
             1,
             "#f0f921"
            ]
           ],
           "sequentialminus": [
            [
             0,
             "#0d0887"
            ],
            [
             0.1111111111111111,
             "#46039f"
            ],
            [
             0.2222222222222222,
             "#7201a8"
            ],
            [
             0.3333333333333333,
             "#9c179e"
            ],
            [
             0.4444444444444444,
             "#bd3786"
            ],
            [
             0.5555555555555556,
             "#d8576b"
            ],
            [
             0.6666666666666666,
             "#ed7953"
            ],
            [
             0.7777777777777778,
             "#fb9f3a"
            ],
            [
             0.8888888888888888,
             "#fdca26"
            ],
            [
             1,
             "#f0f921"
            ]
           ]
          },
          "colorway": [
           "#636efa",
           "#EF553B",
           "#00cc96",
           "#ab63fa",
           "#FFA15A",
           "#19d3f3",
           "#FF6692",
           "#B6E880",
           "#FF97FF",
           "#FECB52"
          ],
          "font": {
           "color": "#2a3f5f"
          },
          "geo": {
           "bgcolor": "white",
           "lakecolor": "white",
           "landcolor": "#E5ECF6",
           "showlakes": true,
           "showland": true,
           "subunitcolor": "white"
          },
          "hoverlabel": {
           "align": "left"
          },
          "hovermode": "closest",
          "mapbox": {
           "style": "light"
          },
          "paper_bgcolor": "white",
          "plot_bgcolor": "#E5ECF6",
          "polar": {
           "angularaxis": {
            "gridcolor": "white",
            "linecolor": "white",
            "ticks": ""
           },
           "bgcolor": "#E5ECF6",
           "radialaxis": {
            "gridcolor": "white",
            "linecolor": "white",
            "ticks": ""
           }
          },
          "scene": {
           "xaxis": {
            "backgroundcolor": "#E5ECF6",
            "gridcolor": "white",
            "gridwidth": 2,
            "linecolor": "white",
            "showbackground": true,
            "ticks": "",
            "zerolinecolor": "white"
           },
           "yaxis": {
            "backgroundcolor": "#E5ECF6",
            "gridcolor": "white",
            "gridwidth": 2,
            "linecolor": "white",
            "showbackground": true,
            "ticks": "",
            "zerolinecolor": "white"
           },
           "zaxis": {
            "backgroundcolor": "#E5ECF6",
            "gridcolor": "white",
            "gridwidth": 2,
            "linecolor": "white",
            "showbackground": true,
            "ticks": "",
            "zerolinecolor": "white"
           }
          },
          "shapedefaults": {
           "line": {
            "color": "#2a3f5f"
           }
          },
          "ternary": {
           "aaxis": {
            "gridcolor": "white",
            "linecolor": "white",
            "ticks": ""
           },
           "baxis": {
            "gridcolor": "white",
            "linecolor": "white",
            "ticks": ""
           },
           "bgcolor": "#E5ECF6",
           "caxis": {
            "gridcolor": "white",
            "linecolor": "white",
            "ticks": ""
           }
          },
          "title": {
           "x": 0.05
          },
          "xaxis": {
           "automargin": true,
           "gridcolor": "white",
           "linecolor": "white",
           "ticks": "",
           "title": {
            "standoff": 15
           },
           "zerolinecolor": "white",
           "zerolinewidth": 2
          },
          "yaxis": {
           "automargin": true,
           "gridcolor": "white",
           "linecolor": "white",
           "ticks": "",
           "title": {
            "standoff": 15
           },
           "zerolinecolor": "white",
           "zerolinewidth": 2
          }
         }
        },
        "title": {
         "text": "Cricket Player Statistics"
        },
        "updatemenus": [
         {
          "active": 0,
          "buttons": [
           {
            "args": [
             {
              "x": [
               [
                104,
                96,
                91,
                85,
                87,
                83,
                86,
                84,
                79,
                76,
                80,
                76,
                75,
                79,
                70,
                30,
                66,
                75,
                65,
                76,
                76,
                70,
                75,
                70,
                33,
                62,
                71,
                57,
                70,
                50,
                40,
                58,
                52,
                65,
                58,
                66,
                59,
                60,
                30,
                65,
                23,
                41,
                55,
                54,
                54,
                59,
                60,
                57,
                27,
                59,
                58,
                54,
                56,
                51,
                41,
                57,
                56,
                53,
                30,
                55,
                48,
                25,
                53,
                26,
                55,
                53,
                47,
                39,
                16,
                48,
                45,
                23,
                38,
                47,
                48,
                15,
                14,
                44,
                39,
                11,
                46,
                42,
                22,
                37,
                22,
                44,
                44,
                43,
                8,
                10,
                29,
                35,
                38,
                38,
                25,
                9,
                42,
                41,
                40,
                18,
                19,
                6,
                30,
                27,
                29,
                9,
                13,
                20,
                25,
                7,
                15,
                34,
                36,
                16,
                11,
                27,
                8,
                30,
                30,
                38,
                36,
                35,
                38,
                38,
                31,
                4,
                37,
                14,
                26,
                36,
                36,
                33,
                21,
                15,
                36,
                28,
                35,
                30,
                33,
                36,
                14,
                3,
                33,
                35,
                11,
                21,
                31,
                29,
                32,
                33,
                33,
                28,
                32,
                29,
                22,
                22,
                17,
                7,
                20,
                13,
                33,
                32,
                31,
                32,
                32,
                26,
                27,
                30,
                32,
                26,
                31,
                32,
                29,
                32,
                30,
                24,
                30,
                29,
                24,
                17,
                24,
                22,
                9,
                8,
                29,
                26,
                26,
                19,
                28,
                28,
                15,
                10,
                27,
                17,
                10,
                28,
                22,
                8,
                19,
                19,
                19,
                15,
                13,
                18,
                6,
                6,
                19,
                27,
                27,
                23,
                23,
                6,
                18,
                5,
                8,
                14,
                6,
                25,
                24,
                26,
                17,
                22,
                11,
                23,
                26,
                20,
                11,
                7,
                12,
                23,
                23,
                25,
                24,
                25,
                24,
                21,
                12,
                21,
                16,
                22,
                13,
                19,
                11,
                19,
                23,
                24,
                14,
                23,
                23,
                24,
                24,
                17,
                18,
                7,
                20,
                12,
                9,
                7,
                18,
                23,
                22,
                23,
                20,
                13,
                11,
                6,
                3,
                22,
                22,
                21,
                21,
                21,
                22,
                19,
                15,
                18,
                18,
                19,
                9,
                20,
                12,
                19,
                12,
                11,
                7,
                4,
                19,
                21,
                19,
                10,
                12,
                18,
                7,
                13,
                12,
                6,
                7,
                3,
                6,
                4,
                3,
                8,
                20,
                20,
                20,
                18,
                19,
                18,
                20,
                20,
                18,
                18,
                11,
                4,
                8,
                19,
                18,
                2,
                14,
                18,
                14,
                14,
                17,
                11,
                6,
                2,
                10,
                6,
                6,
                4,
                4,
                15,
                16,
                11,
                17,
                9,
                10,
                16,
                12,
                18,
                16,
                12,
                16,
                15,
                14,
                13,
                5,
                17,
                10,
                8,
                8,
                7,
                11,
                5,
                1,
                15,
                16,
                15,
                15,
                16,
                14,
                15,
                14,
                11,
                5,
                6,
                7,
                4,
                11,
                9,
                6,
                6,
                5,
                15,
                13,
                16,
                16,
                15,
                13,
                14,
                11,
                12,
                15,
                8,
                7,
                3,
                9,
                3,
                3,
                3,
                10,
                14,
                15,
                11,
                15,
                15,
                13,
                3,
                15,
                6,
                10,
                15,
                4,
                11,
                10,
                6,
                2,
                11,
                8,
                14,
                3,
                12,
                14,
                5,
                13,
                12,
                13,
                13,
                10,
                9,
                13,
                12,
                11,
                5,
                10,
                12,
                11,
                6,
                13,
                4,
                12,
                3,
                1,
                1,
                5,
                13,
                8,
                13,
                13,
                12,
                13,
                11,
                13,
                13,
                4,
                13,
                9,
                4,
                13,
                12,
                10,
                12,
                11,
                12,
                7,
                13,
                11,
                9,
                6,
                11,
                10,
                12,
                12,
                12,
                7,
                12,
                12,
                12,
                10,
                9,
                12,
                8,
                9,
                6,
                9,
                4,
                6,
                5,
                2,
                5,
                2,
                1,
                8,
                11,
                7,
                9,
                10,
                11,
                11,
                11,
                11,
                4,
                7,
                10,
                9,
                3,
                4,
                7,
                11,
                7,
                9,
                7,
                11,
                6,
                11,
                10,
                8,
                10,
                9,
                3,
                10,
                6,
                11,
                6,
                9,
                4,
                6,
                4,
                6,
                3,
                2,
                1,
                2,
                8,
                10,
                10,
                10,
                8,
                3,
                10,
                10,
                9,
                9,
                8,
                7,
                10,
                10,
                7,
                5,
                9,
                10,
                9,
                6,
                5,
                8,
                6,
                10,
                10,
                10,
                6,
                4,
                4,
                4,
                4,
                3,
                1,
                2,
                2,
                4,
                1,
                9,
                9,
                5,
                9,
                5,
                8,
                8,
                6,
                9,
                9,
                4,
                5,
                9,
                2,
                6,
                8,
                9,
                4,
                9,
                8,
                9,
                6,
                8,
                9,
                8,
                8,
                3,
                6,
                4,
                3,
                9,
                8,
                9,
                8,
                6,
                5,
                3,
                3,
                1,
                2,
                1,
                2,
                3,
                1,
                7,
                7,
                7,
                6,
                7,
                8,
                5,
                8,
                7,
                7,
                7,
                7,
                7,
                8,
                4,
                8,
                8,
                8,
                7,
                8,
                8,
                7,
                3,
                6,
                7,
                5,
                7,
                8,
                8,
                4,
                7,
                4,
                5,
                4,
                5,
                5,
                2,
                6,
                3,
                2,
                3,
                4,
                4,
                4,
                1,
                2,
                1,
                3,
                5,
                7,
                7,
                7,
                7,
                6,
                6,
                7,
                3,
                4,
                6,
                7,
                7,
                7,
                7,
                6,
                7,
                7,
                5,
                4,
                7,
                7,
                5,
                2,
                4,
                5,
                2,
                2,
                3,
                4,
                1,
                3,
                2,
                3,
                1,
                2,
                1,
                3,
                6,
                6,
                2,
                4,
                6,
                4,
                3,
                6,
                6,
                4,
                6,
                4,
                4,
                2,
                6,
                3,
                2,
                6,
                6,
                5,
                5,
                4,
                5,
                5,
                2,
                4,
                6,
                4,
                6,
                3,
                5,
                5,
                5,
                4,
                3,
                2,
                3,
                3,
                1,
                1,
                1,
                1,
                2,
                1,
                3,
                3,
                5,
                5,
                5,
                5,
                5,
                4,
                5,
                4,
                5,
                4,
                5,
                5,
                4,
                5,
                4,
                5,
                5,
                3,
                4,
                4,
                5,
                5,
                5,
                5,
                2,
                4,
                5,
                4,
                5,
                5,
                2,
                3,
                2,
                4,
                4,
                5,
                2,
                4,
                2,
                4,
                4,
                3,
                5,
                1,
                1,
                1,
                1,
                3,
                2,
                1,
                1,
                1,
                2,
                1,
                4,
                4,
                4,
                4,
                4,
                4,
                4,
                4,
                2,
                4,
                4,
                4,
                4,
                3,
                3,
                1,
                2,
                4,
                4,
                4,
                3,
                4,
                3,
                4,
                4,
                4,
                2,
                2,
                2,
                3,
                2,
                2,
                3,
                3,
                1,
                3,
                3,
                3,
                4,
                3,
                2,
                4,
                1,
                2,
                1,
                2,
                1,
                2,
                2,
                1,
                2,
                1,
                1,
                2,
                3,
                3,
                3,
                3,
                3,
                3,
                3,
                3,
                3,
                2,
                3,
                3,
                3,
                2,
                3,
                3,
                3,
                2,
                3,
                2,
                2,
                3,
                1,
                1,
                3,
                3,
                3,
                2,
                3,
                3,
                3,
                3,
                3,
                2,
                3,
                3,
                3,
                3,
                3,
                3,
                2,
                2,
                3,
                1,
                3,
                3,
                2,
                3,
                3,
                3,
                3,
                3,
                1,
                1,
                2,
                3,
                2,
                3,
                2,
                2,
                3,
                2,
                2,
                1,
                1,
                1,
                1,
                2,
                2,
                1,
                1,
                1,
                2,
                2,
                1,
                1,
                1,
                1,
                1,
                1,
                2,
                1,
                2,
                1,
                1,
                1,
                1,
                2,
                2,
                2,
                2,
                2,
                2,
                2,
                2,
                2,
                2,
                2,
                2,
                2,
                2,
                1,
                2,
                2,
                2,
                2,
                2,
                2,
                2,
                2,
                2,
                2,
                2,
                2,
                1,
                2,
                2,
                2,
                2,
                2,
                2,
                2,
                2,
                2,
                2,
                2,
                2,
                2,
                2,
                1,
                2,
                2,
                2,
                1,
                1,
                2,
                1,
                2,
                1,
                2,
                2,
                2,
                2,
                1,
                1,
                1,
                1,
                2,
                1,
                1,
                1,
                1,
                1,
                1,
                1,
                1,
                1,
                1,
                1,
                1,
                1,
                1,
                1,
                1,
                1,
                1,
                1,
                1,
                1,
                2,
                1,
                1,
                1,
                2,
                2,
                1,
                1,
                1,
                1,
                1,
                1,
                1,
                1,
                1,
                1,
                1,
                1,
                1,
                1,
                1,
                1,
                1,
                1,
                1,
                1,
                1,
                1,
                1,
                1,
                1,
                1,
                1,
                1,
                1,
                1,
                1,
                1,
                1,
                1,
                1,
                1,
                1,
                1,
                1,
                1,
                1,
                1,
                1,
                1,
                1,
                1,
                1,
                1,
                1,
                1,
                1,
                1,
                1,
                1,
                1,
                1,
                1,
                1,
                1,
                1,
                1,
                1,
                1,
                1,
                1,
                1,
                1,
                1,
                1,
                1,
                1,
                1,
                1,
                1,
                1,
                1,
                1,
                1,
                1,
                1,
                1,
                1,
                1,
                1,
                1,
                1,
                1,
                1,
                1,
                1,
                1
               ]
              ]
             },
             {
              "y": [
               [
                2263,
                2633,
                1416,
                1617,
                1743,
                1504,
                1908,
                2002,
                1690,
                1265,
                2436,
                1430,
                1934,
                1889,
                1169,
                128,
                1605,
                1672,
                1239,
                2079,
                1567,
                2633,
                1613,
                1316,
                251,
                1309,
                1929,
                1055,
                2140,
                636,
                464,
                1058,
                587,
                1611,
                1260,
                1662,
                1142,
                1167,
                220,
                1936,
                91,
                299,
                985,
                1576,
                1247,
                1079,
                1644,
                1546,
                165,
                1471,
                1878,
                1627,
                1462,
                1177,
                812,
                1504,
                1386,
                987,
                215,
                1505,
                918,
                196,
                1382,
                118,
                1493,
                852,
                800,
                377,
                43,
                1094,
                759,
                155,
                572,
                1042,
                990,
                64,
                59,
                984,
                465,
                123,
                791,
                494,
                163,
                472,
                149,
                1363,
                1277,
                946,
                22,
                16,
                454,
                755,
                703,
                638,
                216,
                23,
                1171,
                799,
                765,
                123,
                137,
                8,
                328,
                310,
                261,
                39,
                114,
                201,
                310,
                59,
                51,
                788,
                756,
                104,
                109,
                263,
                8,
                721,
                518,
                1018,
                987,
                711,
                821,
                818,
                463,
                19,
                605,
                122,
                157,
                1176,
                932,
                790,
                229,
                43,
                1405,
                577,
                866,
                474,
                583,
                538,
                96,
                4,
                691,
                434,
                53,
                94,
                1138,
                603,
                695,
                756,
                724,
                488,
                576,
                402,
                216,
                205,
                68,
                24,
                41,
                27,
                982,
                741,
                479,
                621,
                582,
                359,
                587,
                893,
                971,
                399,
                613,
                743,
                393,
                505,
                406,
                485,
                629,
                578,
                370,
                145,
                176,
                240,
                40,
                28,
                777,
                473,
                526,
                249,
                466,
                381,
                118,
                61,
                239,
                109,
                33,
                833,
                334,
                24,
                68,
                198,
                166,
                150,
                108,
                107,
                7,
                12,
                226,
                552,
                478,
                292,
                231,
                23,
                133,
                28,
                22,
                17,
                1,
                621,
                409,
                511,
                239,
                351,
                92,
                348,
                407,
                291,
                61,
                6,
                51,
                666,
                442,
                526,
                500,
                497,
                331,
                268,
                101,
                240,
                173,
                235,
                125,
                128,
                35,
                419,
                595,
                541,
                172,
                475,
                482,
                473,
                389,
                194,
                159,
                37,
                174,
                56,
                34,
                19,
                311,
                450,
                429,
                400,
                232,
                133,
                73,
                12,
                2,
                533,
                593,
                449,
                461,
                457,
                343,
                294,
                207,
                236,
                271,
                275,
                50,
                254,
                55,
                127,
                49,
                42,
                15,
                4,
                364,
                452,
                327,
                83,
                124,
                219,
                82,
                145,
                64,
                23,
                33,
                15,
                11,
                5,
                14,
                21,
                592,
                506,
                375,
                340,
                321,
                279,
                281,
                214,
                221,
                213,
                92,
                10,
                21,
                445,
                394,
                20,
                219,
                316,
                146,
                136,
                225,
                73,
                29,
                9,
                31,
                15,
                5,
                2,
                1,
                405,
                434,
                216,
                404,
                121,
                121,
                298,
                137,
                363,
                287,
                142,
                291,
                185,
                189,
                187,
                26,
                169,
                45,
                23,
                26,
                25,
                24,
                10,
                5,
                259,
                401,
                314,
                347,
                310,
                208,
                171,
                152,
                111,
                22,
                32,
                54,
                13,
                54,
                35,
                23,
                8,
                5,
                319,
                254,
                312,
                286,
                238,
                180,
                225,
                109,
                112,
                175,
                61,
                27,
                19,
                15,
                0,
                8,
                2,
                142,
                327,
                345,
                183,
                360,
                279,
                163,
                37,
                255,
                36,
                88,
                227,
                55,
                100,
                46,
                21,
                9,
                337,
                96,
                371,
                26,
                233,
                323,
                23,
                226,
                233,
                183,
                210,
                158,
                142,
                123,
                117,
                130,
                26,
                117,
                90,
                102,
                10,
                119,
                18,
                87,
                8,
                24,
                1,
                58,
                519,
                85,
                407,
                355,
                249,
                272,
                238,
                237,
                236,
                21,
                257,
                108,
                18,
                215,
                202,
                163,
                129,
                92,
                127,
                49,
                100,
                94,
                72,
                18,
                361,
                266,
                340,
                225,
                258,
                105,
                201,
                238,
                159,
                98,
                86,
                127,
                90,
                82,
                40,
                83,
                9,
                25,
                7,
                3,
                2,
                1,
                0,
                159,
                243,
                58,
                199,
                194,
                261,
                228,
                220,
                175,
                18,
                68,
                140,
                137,
                15,
                43,
                57,
                147,
                73,
                100,
                76,
                107,
                21,
                94,
                80,
                68,
                95,
                64,
                18,
                80,
                32,
                87,
                31,
                61,
                15,
                18,
                9,
                7,
                9,
                4,
                3,
                8,
                130,
                289,
                211,
                216,
                127,
                20,
                192,
                130,
                159,
                138,
                107,
                15,
                148,
                130,
                57,
                55,
                66,
                116,
                92,
                34,
                34,
                86,
                26,
                86,
                73,
                76,
                29,
                7,
                10,
                8,
                8,
                7,
                0,
                3,
                1,
                18,
                0,
                458,
                308,
                43,
                284,
                65,
                254,
                253,
                85,
                241,
                210,
                101,
                25,
                156,
                22,
                122,
                78,
                174,
                19,
                169,
                90,
                161,
                69,
                97,
                97,
                77,
                59,
                13,
                46,
                23,
                11,
                97,
                86,
                90,
                57,
                25,
                13,
                4,
                4,
                1,
                1,
                2,
                3,
                32,
                0,
                203,
                225,
                187,
                91,
                91,
                188,
                51,
                202,
                151,
                95,
                68,
                98,
                81,
                126,
                46,
                105,
                112,
                111,
                55,
                82,
                96,
                83,
                35,
                58,
                46,
                22,
                55,
                73,
                76,
                28,
                60,
                17,
                33,
                15,
                20,
                15,
                5,
                28,
                7,
                7,
                10,
                6,
                7,
                5,
                1,
                3,
                0,
                53,
                139,
                227,
                178,
                138,
                159,
                126,
                105,
                113,
                36,
                66,
                97,
                96,
                97,
                76,
                49,
                49,
                57,
                76,
                40,
                17,
                48,
                33,
                32,
                6,
                9,
                18,
                4,
                8,
                7,
                14,
                2,
                4,
                4,
                2,
                0,
                3,
                0,
                27,
                150,
                203,
                33,
                64,
                192,
                60,
                25,
                108,
                101,
                60,
                78,
                37,
                35,
                17,
                98,
                46,
                15,
                80,
                80,
                64,
                59,
                45,
                53,
                42,
                10,
                19,
                52,
                34,
                42,
                11,
                19,
                8,
                14,
                9,
                4,
                4,
                1,
                1,
                0,
                1,
                10,
                5,
                87,
                17,
                49,
                45,
                131,
                131,
                75,
                94,
                110,
                42,
                102,
                80,
                99,
                35,
                49,
                64,
                32,
                70,
                38,
                37,
                59,
                35,
                23,
                34,
                56,
                42,
                41,
                51,
                10,
                38,
                44,
                17,
                25,
                30,
                14,
                21,
                7,
                21,
                25,
                27,
                5,
                19,
                4,
                11,
                13,
                3,
                6,
                1,
                0,
                0,
                0,
                14,
                10,
                0,
                1,
                0,
                2,
                1,
                35,
                120,
                113,
                111,
                74,
                24,
                74,
                73,
                18,
                67,
                66,
                65,
                61,
                15,
                14,
                13,
                13,
                38,
                44,
                32,
                31,
                39,
                28,
                18,
                25,
                33,
                15,
                7,
                7,
                12,
                12,
                6,
                12,
                17,
                5,
                5,
                7,
                10,
                11,
                4,
                3,
                5,
                1,
                1,
                1,
                0,
                0,
                5,
                3,
                4,
                1,
                0,
                4,
                5,
                82,
                166,
                54,
                97,
                143,
                143,
                87,
                86,
                41,
                69,
                76,
                49,
                73,
                44,
                22,
                60,
                56,
                18,
                36,
                35,
                17,
                50,
                15,
                14,
                40,
                40,
                39,
                13,
                38,
                36,
                34,
                22,
                32,
                21,
                31,
                20,
                27,
                27,
                24,
                23,
                7,
                14,
                21,
                6,
                17,
                16,
                5,
                15,
                14,
                13,
                13,
                12,
                4,
                4,
                4,
                11,
                7,
                10,
                6,
                6,
                9,
                6,
                4,
                2,
                2,
                2,
                2,
                3,
                3,
                1,
                1,
                1,
                1,
                1,
                0,
                0,
                0,
                0,
                2,
                0,
                13,
                5,
                3,
                0,
                0,
                5,
                5,
                4,
                76,
                68,
                90,
                77,
                33,
                33,
                60,
                57,
                51,
                49,
                23,
                39,
                38,
                19,
                36,
                35,
                33,
                16,
                16,
                32,
                15,
                27,
                27,
                26,
                24,
                23,
                11,
                22,
                11,
                11,
                21,
                21,
                20,
                10,
                19,
                18,
                16,
                16,
                15,
                14,
                12,
                6,
                11,
                11,
                11,
                5,
                5,
                9,
                4,
                8,
                4,
                4,
                3,
                1,
                2,
                1,
                0,
                0,
                0,
                0,
                0,
                0,
                0,
                2,
                1,
                4,
                3,
                3,
                1,
                1,
                0,
                0,
                0,
                1,
                1,
                15,
                11,
                7,
                1,
                0,
                9,
                7,
                18,
                8,
                2,
                0,
                7,
                6,
                1,
                43,
                38,
                31,
                26,
                25,
                24,
                22,
                21,
                20,
                19,
                18,
                18,
                16,
                15,
                15,
                15,
                14,
                13,
                13,
                13,
                12,
                12,
                11,
                11,
                11,
                10,
                10,
                10,
                10,
                9,
                9,
                9,
                9,
                8,
                8,
                8,
                7,
                7,
                7,
                6,
                5,
                5,
                5,
                5,
                4,
                4,
                4,
                3,
                3,
                2,
                2,
                2,
                2,
                1,
                1,
                1,
                1,
                1,
                1,
                1,
                0,
                0,
                0,
                0,
                0,
                0,
                0,
                1,
                3,
                0,
                19,
                1,
                4,
                1,
                31,
                10,
                2,
                21,
                1,
                1,
                1,
                11,
                6,
                2,
                6,
                1,
                1,
                0,
                2
               ]
              ]
             }
            ],
            "label": "All Teams",
            "method": "update"
           },
           {
            "args": [
             {
              "x": [
               [
                96,
                85,
                66,
                70,
                51,
                57,
                11,
                22,
                9,
                6,
                25,
                36,
                3,
                31,
                27,
                26,
                13,
                5,
                24,
                14,
                18,
                20,
                18,
                2,
                9,
                5,
                4,
                13,
                3,
                1,
                12,
                7,
                3,
                3,
                1,
                2,
                2,
                4,
                2,
                6,
                9,
                1,
                2,
                1,
                1,
                4,
                5,
                1,
                1,
                2,
                3,
                2,
                1,
                1,
                2,
                2,
                1,
                1,
                1,
                1,
                1,
                1,
                1,
                1,
                1
               ]
              ]
             },
             {
              "y": [
               [
                2633,
                1617,
                1605,
                2633,
                1177,
                1504,
                123,
                163,
                23,
                8,
                310,
                932,
                4,
                1138,
                587,
                399,
                108,
                28,
                409,
                172,
                236,
                375,
                394,
                20,
                121,
                26,
                13,
                226,
                8,
                1,
                249,
                68,
                20,
                7,
                0,
                3,
                1,
                101,
                22,
                122,
                169,
                2,
                3,
                2,
                0,
                64,
                42,
                10,
                0,
                15,
                87,
                35,
                15,
                0,
                36,
                12,
                1,
                1,
                43,
                38,
                31,
                19,
                10,
                5,
                1
               ]
              ]
             }
            ],
            "label": "India",
            "method": "update"
           }
          ],
          "direction": "left",
          "pad": {
           "r": 10,
           "t": 10
          },
          "showactive": true,
          "type": "buttons",
          "x": 0.1,
          "xanchor": "left",
          "y": 1,
          "yanchor": "top"
         }
        ],
        "xaxis": {
         "anchor": "y",
         "autorange": true,
         "domain": [
          0,
          1
         ],
         "range": [
          -5.224347724347725,
          110.22434772434772
         ],
         "title": {
          "text": "Innings"
         },
         "type": "linear"
        },
        "y": [
         [
          2263,
          2633,
          1416,
          1617,
          1743,
          1504,
          1908,
          2002,
          1690,
          1265,
          2436,
          1430,
          1934,
          1889,
          1169,
          128,
          1605,
          1672,
          1239,
          2079,
          1567,
          2633,
          1613,
          1316,
          251,
          1309,
          1929,
          1055,
          2140,
          636,
          464,
          1058,
          587,
          1611,
          1260,
          1662,
          1142,
          1167,
          220,
          1936,
          91,
          299,
          985,
          1576,
          1247,
          1079,
          1644,
          1546,
          165,
          1471,
          1878,
          1627,
          1462,
          1177,
          812,
          1504,
          1386,
          987,
          215,
          1505,
          918,
          196,
          1382,
          118,
          1493,
          852,
          800,
          377,
          43,
          1094,
          759,
          155,
          572,
          1042,
          990,
          64,
          59,
          984,
          465,
          123,
          791,
          494,
          163,
          472,
          149,
          1363,
          1277,
          946,
          22,
          16,
          454,
          755,
          703,
          638,
          216,
          23,
          1171,
          799,
          765,
          123,
          137,
          8,
          328,
          310,
          261,
          39,
          114,
          201,
          310,
          59,
          51,
          788,
          756,
          104,
          109,
          263,
          8,
          721,
          518,
          1018,
          987,
          711,
          821,
          818,
          463,
          19,
          605,
          122,
          157,
          1176,
          932,
          790,
          229,
          43,
          1405,
          577,
          866,
          474,
          583,
          538,
          96,
          4,
          691,
          434,
          53,
          94,
          1138,
          603,
          695,
          756,
          724,
          488,
          576,
          402,
          216,
          205,
          68,
          24,
          41,
          27,
          982,
          741,
          479,
          621,
          582,
          359,
          587,
          893,
          971,
          399,
          613,
          743,
          393,
          505,
          406,
          485,
          629,
          578,
          370,
          145,
          176,
          240,
          40,
          28,
          777,
          473,
          526,
          249,
          466,
          381,
          118,
          61,
          239,
          109,
          33,
          833,
          334,
          24,
          68,
          198,
          166,
          150,
          108,
          107,
          7,
          12,
          226,
          552,
          478,
          292,
          231,
          23,
          133,
          28,
          22,
          17,
          1,
          621,
          409,
          511,
          239,
          351,
          92,
          348,
          407,
          291,
          61,
          6,
          51,
          666,
          442,
          526,
          500,
          497,
          331,
          268,
          101,
          240,
          173,
          235,
          125,
          128,
          35,
          419,
          595,
          541,
          172,
          475,
          482,
          473,
          389,
          194,
          159,
          37,
          174,
          56,
          34,
          19,
          311,
          450,
          429,
          400,
          232,
          133,
          73,
          12,
          2,
          533,
          593,
          449,
          461,
          457,
          343,
          294,
          207,
          236,
          271,
          275,
          50,
          254,
          55,
          127,
          49,
          42,
          15,
          4,
          364,
          452,
          327,
          83,
          124,
          219,
          82,
          145,
          64,
          23,
          33,
          15,
          11,
          5,
          14,
          21,
          592,
          506,
          375,
          340,
          321,
          279,
          281,
          214,
          221,
          213,
          92,
          10,
          21,
          445,
          394,
          20,
          219,
          316,
          146,
          136,
          225,
          73,
          29,
          9,
          31,
          15,
          5,
          2,
          1,
          405,
          434,
          216,
          404,
          121,
          121,
          298,
          137,
          363,
          287,
          142,
          291,
          185,
          189,
          187,
          26,
          169,
          45,
          23,
          26,
          25,
          24,
          10,
          5,
          259,
          401,
          314,
          347,
          310,
          208,
          171,
          152,
          111,
          22,
          32,
          54,
          13,
          54,
          35,
          23,
          8,
          5,
          319,
          254,
          312,
          286,
          238,
          180,
          225,
          109,
          112,
          175,
          61,
          27,
          19,
          15,
          0,
          8,
          2,
          142,
          327,
          345,
          183,
          360,
          279,
          163,
          37,
          255,
          36,
          88,
          227,
          55,
          100,
          46,
          21,
          9,
          337,
          96,
          371,
          26,
          233,
          323,
          23,
          226,
          233,
          183,
          210,
          158,
          142,
          123,
          117,
          130,
          26,
          117,
          90,
          102,
          10,
          119,
          18,
          87,
          8,
          24,
          1,
          58,
          519,
          85,
          407,
          355,
          249,
          272,
          238,
          237,
          236,
          21,
          257,
          108,
          18,
          215,
          202,
          163,
          129,
          92,
          127,
          49,
          100,
          94,
          72,
          18,
          361,
          266,
          340,
          225,
          258,
          105,
          201,
          238,
          159,
          98,
          86,
          127,
          90,
          82,
          40,
          83,
          9,
          25,
          7,
          3,
          2,
          1,
          0,
          159,
          243,
          58,
          199,
          194,
          261,
          228,
          220,
          175,
          18,
          68,
          140,
          137,
          15,
          43,
          57,
          147,
          73,
          100,
          76,
          107,
          21,
          94,
          80,
          68,
          95,
          64,
          18,
          80,
          32,
          87,
          31,
          61,
          15,
          18,
          9,
          7,
          9,
          4,
          3,
          8,
          130,
          289,
          211,
          216,
          127,
          20,
          192,
          130,
          159,
          138,
          107,
          15,
          148,
          130,
          57,
          55,
          66,
          116,
          92,
          34,
          34,
          86,
          26,
          86,
          73,
          76,
          29,
          7,
          10,
          8,
          8,
          7,
          0,
          3,
          1,
          18,
          0,
          458,
          308,
          43,
          284,
          65,
          254,
          253,
          85,
          241,
          210,
          101,
          25,
          156,
          22,
          122,
          78,
          174,
          19,
          169,
          90,
          161,
          69,
          97,
          97,
          77,
          59,
          13,
          46,
          23,
          11,
          97,
          86,
          90,
          57,
          25,
          13,
          4,
          4,
          1,
          1,
          2,
          3,
          32,
          0,
          203,
          225,
          187,
          91,
          91,
          188,
          51,
          202,
          151,
          95,
          68,
          98,
          81,
          126,
          46,
          105,
          112,
          111,
          55,
          82,
          96,
          83,
          35,
          58,
          46,
          22,
          55,
          73,
          76,
          28,
          60,
          17,
          33,
          15,
          20,
          15,
          5,
          28,
          7,
          7,
          10,
          6,
          7,
          5,
          1,
          3,
          0,
          53,
          139,
          227,
          178,
          138,
          159,
          126,
          105,
          113,
          36,
          66,
          97,
          96,
          97,
          76,
          49,
          49,
          57,
          76,
          40,
          17,
          48,
          33,
          32,
          6,
          9,
          18,
          4,
          8,
          7,
          14,
          2,
          4,
          4,
          2,
          0,
          3,
          0,
          27,
          150,
          203,
          33,
          64,
          192,
          60,
          25,
          108,
          101,
          60,
          78,
          37,
          35,
          17,
          98,
          46,
          15,
          80,
          80,
          64,
          59,
          45,
          53,
          42,
          10,
          19,
          52,
          34,
          42,
          11,
          19,
          8,
          14,
          9,
          4,
          4,
          1,
          1,
          0,
          1,
          10,
          5,
          87,
          17,
          49,
          45,
          131,
          131,
          75,
          94,
          110,
          42,
          102,
          80,
          99,
          35,
          49,
          64,
          32,
          70,
          38,
          37,
          59,
          35,
          23,
          34,
          56,
          42,
          41,
          51,
          10,
          38,
          44,
          17,
          25,
          30,
          14,
          21,
          7,
          21,
          25,
          27,
          5,
          19,
          4,
          11,
          13,
          3,
          6,
          1,
          0,
          0,
          0,
          14,
          10,
          0,
          1,
          0,
          2,
          1,
          35,
          120,
          113,
          111,
          74,
          24,
          74,
          73,
          18,
          67,
          66,
          65,
          61,
          15,
          14,
          13,
          13,
          38,
          44,
          32,
          31,
          39,
          28,
          18,
          25,
          33,
          15,
          7,
          7,
          12,
          12,
          6,
          12,
          17,
          5,
          5,
          7,
          10,
          11,
          4,
          3,
          5,
          1,
          1,
          1,
          0,
          0,
          5,
          3,
          4,
          1,
          0,
          4,
          5,
          82,
          166,
          54,
          97,
          143,
          143,
          87,
          86,
          41,
          69,
          76,
          49,
          73,
          44,
          22,
          60,
          56,
          18,
          36,
          35,
          17,
          50,
          15,
          14,
          40,
          40,
          39,
          13,
          38,
          36,
          34,
          22,
          32,
          21,
          31,
          20,
          27,
          27,
          24,
          23,
          7,
          14,
          21,
          6,
          17,
          16,
          5,
          15,
          14,
          13,
          13,
          12,
          4,
          4,
          4,
          11,
          7,
          10,
          6,
          6,
          9,
          6,
          4,
          2,
          2,
          2,
          2,
          3,
          3,
          1,
          1,
          1,
          1,
          1,
          0,
          0,
          0,
          0,
          2,
          0,
          13,
          5,
          3,
          0,
          0,
          5,
          5,
          4,
          76,
          68,
          90,
          77,
          33,
          33,
          60,
          57,
          51,
          49,
          23,
          39,
          38,
          19,
          36,
          35,
          33,
          16,
          16,
          32,
          15,
          27,
          27,
          26,
          24,
          23,
          11,
          22,
          11,
          11,
          21,
          21,
          20,
          10,
          19,
          18,
          16,
          16,
          15,
          14,
          12,
          6,
          11,
          11,
          11,
          5,
          5,
          9,
          4,
          8,
          4,
          4,
          3,
          1,
          2,
          1,
          0,
          0,
          0,
          0,
          0,
          0,
          0,
          2,
          1,
          4,
          3,
          3,
          1,
          1,
          0,
          0,
          0,
          1,
          1,
          15,
          11,
          7,
          1,
          0,
          9,
          7,
          18,
          8,
          2,
          0,
          7,
          6,
          1,
          43,
          38,
          31,
          26,
          25,
          24,
          22,
          21,
          20,
          19,
          18,
          18,
          16,
          15,
          15,
          15,
          14,
          13,
          13,
          13,
          12,
          12,
          11,
          11,
          11,
          10,
          10,
          10,
          10,
          9,
          9,
          9,
          9,
          8,
          8,
          8,
          7,
          7,
          7,
          6,
          5,
          5,
          5,
          5,
          4,
          4,
          4,
          3,
          3,
          2,
          2,
          2,
          2,
          1,
          1,
          1,
          1,
          1,
          1,
          1,
          0,
          0,
          0,
          0,
          0,
          0,
          0,
          1,
          3,
          0,
          19,
          1,
          4,
          1,
          31,
          10,
          2,
          21,
          1,
          1,
          1,
          11,
          6,
          2,
          6,
          1,
          1,
          0,
          2
         ]
        ],
        "yaxis": {
         "anchor": "x",
         "autorange": true,
         "domain": [
          0,
          1
         ],
         "range": [
          -185.38948306595364,
          2818.3894830659538
         ],
         "title": {
          "text": "Runs"
         },
         "type": "linear"
        }
       }
      },
      "image/png": "[encoded data removed]",
      "text/html": [
       "<div>                            <div id=\"3d56ebbc-9c81-4d7c-9975-6d7be283dc38\" class=\"plotly-graph-div\" style=\"height:500px; width:100%;\"></div>            <script type=\"text/javascript\">                require([\"plotly\"], function(Plotly) {                    window.PLOTLYENV=window.PLOTLYENV || {};                                    if (document.getElementById(\"3d56ebbc-9c81-4d7c-9975-6d7be283dc38\")) {                    Plotly.newPlot(                        \"3d56ebbc-9c81-4d7c-9975-6d7be283dc38\",                        [{\"customdata\":[[30.58,\"PAK\"],[32.1,\"INDIA\"],[17.92,\"PAK\"],[37.6,\"INDIA\"],[25.63,\"NZ\"],[20.6,\"IRE\"],[24.46,\"PAK\"],[29.88,\"ENG\"],[26.0,\"PAK\"],[20.07,\"BDESH\"],[33.36,\"NZ\"],[23.83,\"BDESH\"],[38.68,\"SA\"],[28.19,\"SL\"],[23.85,\"SL\"],[7.11,\"SL\"],[29.18,\"INDIA\"],[26.12,\"SA\"],[21.73,\"IRE\"],[30.57,\"AUS\"],[23.74,\"BDESH\"],[52.66,\"INDIA\"],[23.04,\"BDESH\"],[22.3,\"AFG\"],[13.21,\"IRE\"],[29.75,\"SA\"],[29.67,\"IRE\"],[27.05,\"SL\"],[35.66,\"NZ\"],[18.7,\"WI\"],[16.0,\"NL\"],[23.0,\"WI\"],[17.26,\"WI\"],[29.29,\"WI\"],[26.8,\"ENG\"],[25.96,\"ZIM\"],[24.29,\"WI\"],[20.83,\"AFG\"],[12.22,\"NZ\"],[31.22,\"AFG\"],[8.27,\"PAK\"],[11.5,\"NZ\"],[21.88,\"AFG\"],[35.02,\"AUS\"],[28.34,\"SCOT\"],[20.35,\"IRE\"],[31.01,\"ENG\"],[30.92,\"NZ\"],[9.16,\"PAK\"],[25.8,\"PAK\"],[38.32,\"AUS\"],[32.54,\"WI\"],[29.24,\"AUS\"],[28.02,\"INDIA\"],[28.0,\"PAK\"],[27.85,\"INDIA\"],[25.66,\"SCOT\"],[21.0,\"PAK\"],[10.23,\"SL\"],[31.35,\"NZ\"],[30.6,\"AFG\"],[11.52,\"PAK\"],[31.4,\"SL\"],[7.37,\"ENG\"],[31.76,\"SL\"],[19.36,\"ZIM\"],[18.6,\"SL\"],[13.46,\"BDESH\"],[7.16,\"WI\"],[28.05,\"NL\"],[18.97,\"ENG\"],[10.33,\"WI\"],[21.18,\"SA\"],[26.05,\"SCOT\"],[24.14,\"WI\"],[9.14,\"ENG\"],[7.37,\"PAK\"],[32.8,\"AUS\"],[17.88,\"WI\"],[30.75,\"INDIA\"],[17.19,\"BDESH\"],[16.46,\"AFG\"],[11.64,\"INDIA\"],[17.48,\"AFG\"],[13.54,\"AFG\"],[35.86,\"SA\"],[33.6,\"SA\"],[24.89,\"BDESH\"],[7.33,\"SA\"],[3.2,\"SA\"],[26.7,\"NL\"],[26.03,\"SCOT\"],[22.67,\"SL\"],[19.33,\"NL\"],[15.42,\"ENG\"],[5.75,\"INDIA\"],[27.88,\"SL\"],[22.82,\"NL\"],[21.25,\"WI\"],[13.66,\"SCOT\"],[11.41,\"NZ\"],[4.0,\"INDIA\"],[14.9,\"IRE\"],[14.76,\"WI\"],[13.05,\"PAK\"],[4.87,\"NL\"],[28.5,\"SA\"],[18.27,\"SA\"],[16.31,\"INDIA\"],[14.75,\"NZ\"],[7.28,\"ENG\"],[37.52,\"PAK\"],[22.9,\"AUS\"],[20.8,\"ENG\"],[15.57,\"NL\"],[15.47,\"NZ\"],[2.66,\"SL\"],[37.94,\"AUS\"],[32.37,\"SA\"],[30.84,\"SA\"],[29.9,\"SCOT\"],[28.44,\"ENG\"],[24.87,\"ZIM\"],[24.78,\"ZIM\"],[20.13,\"NZ\"],[19.0,\"SA\"],[16.8,\"UAE\"],[13.55,\"PAK\"],[8.72,\"NL\"],[37.93,\"ENG\"],[27.41,\"INDIA\"],[25.48,\"IRE\"],[15.26,\"IRE\"],[4.3,\"BDESH\"],[50.17,\"PAK\"],[27.47,\"AUS\"],[26.24,\"NL\"],[20.6,\"NZ\"],[18.8,\"ENG\"],[14.94,\"AFG\"],[13.71,\"UAE\"],[4.0,\"INDIA\"],[25.59,\"KENYA\"],[15.5,\"SL\"],[10.6,\"SCOT\"],[7.83,\"ZIM\"],[43.76,\"INDIA\"],[26.21,\"ENG\"],[25.74,\"UAE\"],[22.9,\"PAK\"],[21.93,\"WI\"],[21.21,\"AUS\"],[18.0,\"HKG\"],[17.47,\"AUS\"],[16.61,\"ENG\"],[12.81,\"NZ\"],[7.55,\"AFG\"],[4.8,\"ENG\"],[4.1,\"BDESH\"],[3.85,\"AFG\"],[31.67,\"SA\"],[24.7,\"NL\"],[19.95,\"NZ\"],[19.4,\"ZIM\"],[18.18,\"WI\"],[17.95,\"AUS\"],[39.13,\"INDIA\"],[35.72,\"ENG\"],[33.48,\"UAE\"],[33.25,\"INDIA\"],[26.65,\"ZIM\"],[23.21,\"ENG\"],[20.68,\"PAK\"],[18.03,\"AFG\"],[13.53,\"ZIM\"],[24.25,\"NZ\"],[23.29,\"SL\"],[21.4,\"NZ\"],[18.5,\"BDESH\"],[13.18,\"PAK\"],[12.57,\"UAE\"],[12.0,\"SCOT\"],[10.0,\"AFG\"],[9.33,\"NL\"],[29.88,\"NEPAL\"],[24.89,\"AUS\"],[23.9,\"KENYA\"],[20.75,\"IRE\"],[17.92,\"IRE\"],[14.65,\"KENYA\"],[13.11,\"WI\"],[12.2,\"PAK\"],[11.95,\"HKG\"],[10.9,\"AUS\"],[8.25,\"ZIM\"],[30.85,\"WI\"],[23.85,\"NL\"],[6.0,\"NZ\"],[5.23,\"ZIM\"],[15.23,\"NEPAL\"],[13.83,\"ENG\"],[13.63,\"AUS\"],[13.5,\"INDIA\"],[8.23,\"KENYA\"],[3.5,\"BDESH\"],[3.0,\"AUS\"],[22.6,\"SL\"],[21.23,\"ENG\"],[17.7,\"NL\"],[17.17,\"NEPAL\"],[16.5,\"IRE\"],[11.5,\"AUS\"],[11.08,\"PAK\"],[5.6,\"INDIA\"],[4.4,\"NZ\"],[3.4,\"BDESH\"],[0.2,\"SCOT\"],[27.0,\"NL\"],[20.45,\"INDIA\"],[20.44,\"ZIM\"],[19.91,\"AUS\"],[18.47,\"HKG\"],[18.4,\"IRE\"],[17.4,\"ENG\"],[16.28,\"SL\"],[16.16,\"SL\"],[10.16,\"AUS\"],[3.0,\"IRE\"],[51.0,\"KENYA\"],[35.05,\"SA\"],[22.1,\"PAK\"],[21.91,\"ENG\"],[21.73,\"PAK\"],[19.88,\"BDESH\"],[18.38,\"PAK\"],[17.86,\"SA\"],[16.83,\"AUS\"],[16.0,\"IRE\"],[15.72,\"NEPAL\"],[14.68,\"ENG\"],[13.88,\"AUS\"],[11.63,\"AFG\"],[5.0,\"AUS\"],[34.91,\"SCOT\"],[28.33,\"PAK\"],[27.05,\"HKG\"],[24.57,\"INDIA\"],[22.61,\"HKG\"],[20.95,\"NEPAL\"],[19.7,\"SL\"],[17.68,\"CAN\"],[17.63,\"PAK\"],[14.45,\"AUS\"],[12.33,\"WI\"],[9.66,\"KENYA\"],[9.33,\"SL\"],[6.8,\"HKG\"],[6.33,\"WI\"],[20.73,\"WI\"],[19.56,\"BDESH\"],[19.5,\"SL\"],[18.18,\"SA\"],[15.46,\"ENG\"],[14.77,\"SA\"],[12.16,\"SA\"],[12.0,\"WI\"],[2.0,\"SA\"],[44.41,\"NL\"],[26.95,\"SA\"],[24.94,\"UAE\"],[23.05,\"ZIM\"],[22.85,\"NZ\"],[20.17,\"WI\"],[19.6,\"ZIM\"],[18.81,\"SL\"],[18.15,\"INDIA\"],[18.06,\"UAE\"],[17.18,\"SL\"],[16.66,\"AFG\"],[14.11,\"HKG\"],[7.85,\"ZIM\"],[7.05,\"KENYA\"],[6.12,\"SL\"],[6.0,\"ENG\"],[5.0,\"WI\"],[null,\"PAK\"],[24.26,\"ZIM\"],[21.52,\"SL\"],[17.21,\"NZ\"],[16.6,\"SCOT\"],[15.5,\"SA\"],[13.68,\"HKG\"],[13.66,\"AUS\"],[13.18,\"AFG\"],[12.8,\"SCOT\"],[11.5,\"SA\"],[5.5,\"NL\"],[5.0,\"ZIM\"],[2.75,\"AUS\"],[2.5,\"SA\"],[null,\"ENG\"],[null,\"NZ\"],[32.88,\"AUS\"],[26.63,\"AFG\"],[20.83,\"INDIA\"],[20.0,\"WI\"],[18.88,\"HKG\"],[16.41,\"WI\"],[15.61,\"UAE\"],[15.28,\"SL\"],[13.81,\"PAK\"],[13.31,\"KENYA\"],[13.14,\"SA\"],[5.0,\"WI\"],[4.2,\"NZ\"],[24.72,\"AFG\"],[21.88,\"INDIA\"],[20.0,\"INDIA\"],[19.9,\"IRE\"],[18.58,\"NZ\"],[18.25,\"SCOT\"],[15.11,\"AUS\"],[13.23,\"WI\"],[12.16,\"IRE\"],[9.66,\"BDESH\"],[9.0,\"AUS\"],[7.75,\"SL\"],[5.0,\"AUS\"],[5.0,\"NZ\"],[2.0,\"NL\"],[1.0,\"ENG\"],[33.75,\"ENG\"],[31.0,\"CAN\"],[30.85,\"NL\"],[28.85,\"NL\"],[24.2,\"INDIA\"],[24.2,\"NZ\"],[22.92,\"WI\"],[22.83,\"IRE\"],[21.35,\"PAK\"],[20.5,\"NEPAL\"],[20.28,\"WI\"],[19.4,\"AUS\"],[16.81,\"NZ\"],[15.75,\"ENG\"],[14.38,\"UAE\"],[13.0,\"INDIA\"],[11.26,\"IRE\"],[11.25,\"HKG\"],[5.75,\"NEPAL\"],[5.2,\"KENYA\"],[5.0,\"SL\"],[3.42,\"NEPAL\"],[3.33,\"UAE\"],[null,\"ENG\"],[28.77,\"ZIM\"],[28.64,\"AUS\"],[26.16,\"IRE\"],[24.78,\"ENG\"],[23.84,\"NEPAL\"],[18.9,\"UAE\"],[15.54,\"NZ\"],[15.2,\"IRE\"],[12.33,\"WI\"],[11.0,\"AUS\"],[10.66,\"ENG\"],[7.71,\"SCOT\"],[6.5,\"INDIA\"],[6.0,\"CAN\"],[5.83,\"UAE\"],[4.6,\"BDESH\"],[2.66,\"SL\"],[1.66,\"NEPAL\"],[26.58,\"AUS\"],[25.4,\"ZIM\"],[24.0,\"WI\"],[22.0,\"KENYA\"],[21.63,\"SL\"],[16.36,\"PAK\"],[16.07,\"SL\"],[15.57,\"PAK\"],[14.0,\"UAE\"],[13.46,\"SL\"],[10.16,\"KENYA\"],[6.75,\"AUS\"],[6.33,\"SA\"],[3.0,\"ZIM\"],[0.0,\"SA\"],[null,\"AFG\"],[null,\"PAK\"],[35.5,\"HKG\"],[29.72,\"SA\"],[28.75,\"KENYA\"],[26.14,\"AUS\"],[24.0,\"PAK\"],[21.46,\"NZ\"],[20.37,\"NL\"],[18.5,\"NZ\"],[18.21,\"AUS\"],[18.0,\"ENG\"],[17.6,\"ZIM\"],[15.13,\"KENYA\"],[13.75,\"AUS\"],[10.0,\"CAN\"],[7.66,\"BMUDA\"],[7.0,\"PAK\"],[4.5,\"AUS\"],[48.14,\"AUS\"],[32.0,\"ENG\"],[28.53,\"PAK\"],[26.0,\"AFG\"],[25.88,\"IRE\"],[24.84,\"SA\"],[23.0,\"ZIM\"],[22.6,\"INDIA\"],[21.18,\"NL\"],[20.33,\"BDESH\"],[19.09,\"PAK\"],[15.8,\"SA\"],[15.77,\"PAK\"],[15.37,\"ENG\"],[13.0,\"BDESH\"],[13.0,\"IRE\"],[13.0,\"IRE\"],[11.7,\"BDESH\"],[11.25,\"NL\"],[10.2,\"IRE\"],[10.0,\"SL\"],[9.15,\"BDESH\"],[9.0,\"SL\"],[8.7,\"IRE\"],[8.0,\"INDIA\"],[null,\"AFG\"],[null,\"INDIA\"],[58.0,\"BDESH\"],[43.25,\"AFG\"],[42.5,\"WI\"],[40.7,\"SCOT\"],[32.27,\"BDESH\"],[24.9,\"INDIA\"],[22.66,\"AUS\"],[21.63,\"WI\"],[21.54,\"PAK\"],[21.45,\"SA\"],[21.0,\"PAK\"],[19.76,\"SL\"],[18.0,\"BDESH\"],[18.0,\"BDESH\"],[17.91,\"SL\"],[16.83,\"HKG\"],[16.3,\"NZ\"],[14.33,\"ZIM\"],[13.14,\"PAK\"],[12.7,\"ZIM\"],[12.25,\"CAN\"],[11.11,\"ZIM\"],[10.44,\"BDESH\"],[8.0,\"BDESH\"],[3.6,\"NL\"],[40.11,\"CAN\"],[33.25,\"CAN\"],[28.33,\"ENG\"],[25.0,\"SL\"],[21.5,\"AFG\"],[21.0,\"AUS\"],[20.1,\"BMUDA\"],[19.83,\"UAE\"],[14.45,\"ZIM\"],[14.0,\"AUS\"],[12.28,\"SA\"],[11.54,\"NZ\"],[11.25,\"SCOT\"],[10.25,\"AUS\"],[10.0,\"ZIM\"],[9.22,\"KENYA\"],[9.0,\"SA\"],[8.33,\"ZIM\"],[7.0,\"IRE\"],[3.0,\"NEPAL\"],[1.0,\"AFG\"],[0.5,\"SL\"],[null,\"WI\"],[31.8,\"AUS\"],[30.37,\"NL\"],[29.0,\"CAN\"],[28.42,\"KENYA\"],[24.25,\"NEPAL\"],[23.72,\"BMUDA\"],[22.8,\"BDESH\"],[22.0,\"CAN\"],[21.87,\"AUS\"],[18.0,\"AUS\"],[17.0,\"INDIA\"],[15.55,\"NZ\"],[15.22,\"SCOT\"],[15.0,\"CAN\"],[14.33,\"CAN\"],[14.25,\"AUS\"],[13.36,\"BMUDA\"],[12.16,\"NZ\"],[11.11,\"CAN\"],[10.85,\"SCOT\"],[10.7,\"BMUDA\"],[10.5,\"NZ\"],[10.44,\"SCOT\"],[10.0,\"NEPAL\"],[9.71,\"NL\"],[9.5,\"KENYA\"],[9.14,\"WI\"],[9.0,\"SA\"],[8.88,\"BMUDA\"],[8.0,\"BMUDA\"],[7.9,\"NEPAL\"],[7.75,\"CAN\"],[7.62,\"NZ\"],[7.5,\"HKG\"],[4.5,\"IRE\"],[3.0,\"NZ\"],[2.33,\"SL\"],[null,\"PAK\"],[null,\"UAE\"],[null,\"WI\"],[null,\"ZIM\"],[32.5,\"UAE\"],[32.11,\"NL\"],[30.14,\"HKG\"],[27.0,\"KENYA\"],[21.16,\"ENG\"],[20.0,\"INDIA\"],[19.2,\"PAK\"],[18.57,\"HKG\"],[17.66,\"SCOT\"],[17.25,\"BMUDA\"],[15.28,\"IRE\"],[15.0,\"SL\"],[14.8,\"SL\"],[14.44,\"BDESH\"],[14.25,\"BDESH\"],[13.75,\"HKG\"],[13.2,\"UAE\"],[11.6,\"PAK\"],[11.5,\"ENG\"],[11.33,\"BDESH\"],[11.33,\"SCOT\"],[10.75,\"NZ\"],[8.66,\"KENYA\"],[8.6,\"KENYA\"],[8.11,\"BMUDA\"],[7.6,\"ZIM\"],[7.25,\"ZIM\"],[7.0,\"UAE\"],[5.0,\"SA\"],[4.0,\"SL\"],[4.0,\"WI\"],[2.33,\"INDIA\"],[0.0,\"INDIA\"],[null,\"INDIA\"],[null,\"INDIA\"],[null,\"PAK\"],[null,\"PAK\"],[57.25,\"ENG\"],[51.33,\"AUS\"],[43.0,\"WI\"],[40.57,\"CAN\"],[32.5,\"NZ\"],[31.75,\"SA\"],[31.62,\"ZIM\"],[28.33,\"SCOT\"],[26.77,\"AUS\"],[26.25,\"SA\"],[25.25,\"INDIA\"],[25.0,\"AUS\"],[22.28,\"SA\"],[22.0,\"INDIA\"],[20.33,\"INDIA\"],[19.5,\"BDESH\"],[19.33,\"NZ\"],[19.0,\"SA\"],[18.77,\"INDIA\"],[18.0,\"WI\"],[17.88,\"SA\"],[17.25,\"SCOT\"],[16.16,\"NL\"],[16.16,\"NZ\"],[15.4,\"HKG\"],[14.75,\"BDESH\"],[13.0,\"AUS\"],[11.5,\"AUS\"],[11.5,\"PAK\"],[11.0,\"IRE\"],[10.77,\"UAE\"],[10.75,\"BDESH\"],[10.0,\"NEPAL\"],[8.14,\"NEPAL\"],[6.25,\"SCOT\"],[4.33,\"NEPAL\"],[4.0,\"IRE\"],[4.0,\"SA\"],[1.0,\"CAN\"],[null,\"AUS\"],[null,\"INDIA\"],[null,\"PAK\"],[null,\"SA\"],[null,\"ZIM\"],[50.75,\"SA\"],[37.5,\"SA\"],[31.16,\"NZ\"],[30.33,\"AFG\"],[30.33,\"ENG\"],[26.85,\"ENG\"],[25.5,\"NL\"],[25.25,\"CAN\"],[21.57,\"NZ\"],[19.0,\"SCOT\"],[17.0,\"HKG\"],[16.33,\"NL\"],[16.2,\"BMUDA\"],[15.75,\"SA\"],[15.33,\"SA\"],[15.0,\"SCOT\"],[14.0,\"NEPAL\"],[13.87,\"IRE\"],[13.75,\"SL\"],[13.66,\"CAN\"],[12.0,\"SL\"],[11.85,\"BDESH\"],[11.66,\"SCOT\"],[11.6,\"SCOT\"],[11.5,\"ZIM\"],[11.0,\"PAK\"],[11.0,\"WI\"],[10.42,\"CAN\"],[9.5,\"HKG\"],[9.33,\"AFG\"],[8.57,\"ZIM\"],[8.5,\"WI\"],[8.25,\"SL\"],[7.5,\"HKG\"],[6.66,\"SL\"],[5.0,\"KENYA\"],[5.0,\"SA\"],[4.66,\"KENYA\"],[3.5,\"BDESH\"],[3.5,\"IRE\"],[3.33,\"NZ\"],[3.0,\"IRE\"],[2.33,\"NL\"],[1.66,\"UAE\"],[1.0,\"NZ\"],[null,\"INDIA\"],[null,\"PAK\"],[53.0,\"CAN\"],[46.33,\"AUS\"],[32.42,\"AFG\"],[25.42,\"BDESH\"],[23.0,\"ENG\"],[22.71,\"BDESH\"],[21.0,\"NZ\"],[21.0,\"SA\"],[18.83,\"UAE\"],[18.0,\"IRE\"],[16.5,\"CAN\"],[16.16,\"CAN\"],[16.0,\"WI\"],[13.85,\"SL\"],[12.66,\"ENG\"],[12.25,\"CAN\"],[12.25,\"SA\"],[11.4,\"BDESH\"],[10.85,\"PAK\"],[10.0,\"AUS\"],[8.5,\"WI\"],[6.85,\"ZIM\"],[6.6,\"HKG\"],[6.4,\"AUS\"],[6.0,\"SA\"],[4.5,\"BDESH\"],[4.5,\"ZIM\"],[4.0,\"AUS\"],[4.0,\"SL\"],[3.5,\"NL\"],[3.5,\"SA\"],[2.0,\"INDIA\"],[2.0,\"KENYA\"],[2.0,\"SCOT\"],[1.0,\"AUS\"],[0.0,\"INDIA\"],[null,\"CAN\"],[null,\"ENG\"],[null,\"PAK\"],[75.0,\"PAK\"],[33.83,\"WI\"],[33.0,\"SL\"],[32.0,\"INDIA\"],[32.0,\"PAK\"],[30.0,\"SCOT\"],[25.0,\"SA\"],[21.6,\"NL\"],[20.2,\"NEPAL\"],[20.0,\"BDESH\"],[19.5,\"WI\"],[18.5,\"NZ\"],[17.5,\"UAE\"],[17.0,\"ENG\"],[16.33,\"ZIM\"],[15.33,\"SCOT\"],[15.0,\"NL\"],[13.33,\"HKG\"],[13.33,\"UAE\"],[12.8,\"NL\"],[11.8,\"SL\"],[11.25,\"AUS\"],[10.6,\"WI\"],[10.5,\"INDIA\"],[10.0,\"NZ\"],[9.5,\"AUS\"],[8.66,\"NEPAL\"],[8.5,\"NL\"],[8.4,\"BMUDA\"],[5.5,\"IRE\"],[4.75,\"UAE\"],[4.0,\"BDESH\"],[3.5,\"UAE\"],[2.25,\"KENYA\"],[2.0,\"SCOT\"],[2.0,\"SL\"],[1.0,\"NEPAL\"],[1.0,\"ZIM\"],[0.0,\"KENYA\"],[null,\"ENG\"],[null,\"INDIA\"],[null,\"NZ\"],[null,\"SA\"],[null,\"WI\"],[49.0,\"SL\"],[45.0,\"ZIM\"],[32.75,\"CAN\"],[32.75,\"SL\"],[25.0,\"CAN\"],[23.5,\"BMUDA\"],[22.0,\"NZ\"],[21.0,\"IRE\"],[20.4,\"ENG\"],[20.0,\"UAE\"],[19.8,\"AUS\"],[17.5,\"BDESH\"],[16.33,\"SL\"],[16.0,\"WI\"],[16.0,\"ZIM\"],[14.0,\"PAK\"],[12.66,\"NZ\"],[12.33,\"ENG\"],[11.8,\"NZ\"],[11.66,\"ENG\"],[11.5,\"BMUDA\"],[11.33,\"PAK\"],[11.2,\"NZ\"],[10.5,\"UAE\"],[10.25,\"CAN\"],[10.2,\"BDESH\"],[10.0,\"HKG\"],[9.5,\"NZ\"],[8.8,\"CAN\"],[8.5,\"KENYA\"],[8.33,\"NZ\"],[7.5,\"WI\"],[7.0,\"BDESH\"],[7.0,\"ENG\"],[7.0,\"HKG\"],[7.0,\"SCOT\"],[6.25,\"CAN\"],[5.4,\"SL\"],[5.0,\"ZIM\"],[4.75,\"NZ\"],[4.0,\"AUS\"],[3.66,\"IRE\"],[3.25,\"SL\"],[3.0,\"UAE\"],[1.2,\"NZ\"],[1.0,\"ENG\"],[0.0,\"ENG\"],[0.0,\"HKG\"],[0.0,\"SA\"],[null,\"BMUDA\"],[null,\"ENG\"],[null,\"INDIA\"],[null,\"PAK\"],[null,\"PAK\"],[null,\"SCOT\"],[null,\"WI\"],[35.0,\"SCOT\"],[30.0,\"AUS\"],[28.25,\"ENG\"],[27.75,\"NZ\"],[24.66,\"NZ\"],[24.0,\"ENG\"],[18.5,\"KENYA\"],[18.25,\"ENG\"],[18.0,\"PAK\"],[16.75,\"UAE\"],[16.5,\"SL\"],[16.25,\"PAK\"],[15.25,\"ENG\"],[15.0,\"CAN\"],[14.0,\"BDESH\"],[13.0,\"NL\"],[13.0,\"NZ\"],[12.66,\"SCOT\"],[11.0,\"AFG\"],[10.66,\"CAN\"],[10.33,\"AUS\"],[9.75,\"CAN\"],[9.33,\"UAE\"],[9.0,\"CAN\"],[8.33,\"CAN\"],[8.25,\"NEPAL\"],[7.5,\"INDIA\"],[7.0,\"AFG\"],[7.0,\"NL\"],[6.0,\"HKG\"],[6.0,\"IRE\"],[6.0,\"IRE\"],[6.0,\"SL\"],[5.66,\"WI\"],[5.0,\"AUS\"],[5.0,\"PAK\"],[3.5,\"NEPAL\"],[3.33,\"CAN\"],[2.75,\"CAN\"],[2.0,\"KENYA\"],[1.5,\"UAE\"],[1.25,\"HKG\"],[1.0,\"AFG\"],[1.0,\"NL\"],[1.0,\"SCOT\"],[0.0,\"NL\"],[0.0,\"NL\"],[null,\"AUS\"],[null,\"BDESH\"],[null,\"ENG\"],[null,\"ENG\"],[null,\"NEPAL\"],[null,\"SCOT\"],[null,\"ZIM\"],[82.0,\"BDESH\"],[55.33,\"ENG\"],[54.0,\"SL\"],[48.5,\"SL\"],[47.66,\"AUS\"],[47.66,\"BDESH\"],[43.5,\"INDIA\"],[43.0,\"KENYA\"],[41.0,\"ZIM\"],[34.5,\"AUS\"],[25.33,\"ENG\"],[24.5,\"BMUDA\"],[24.33,\"UAE\"],[22.0,\"PAK\"],[22.0,\"UAE\"],[20.0,\"ENG\"],[18.66,\"ENG\"],[18.0,\"CAN\"],[18.0,\"UAE\"],[17.5,\"INDIA\"],[17.0,\"NZ\"],[16.66,\"PAK\"],[15.0,\"INDIA\"],[14.0,\"SCOT\"],[13.33,\"PAK\"],[13.33,\"SL\"],[13.0,\"PAK\"],[13.0,\"UAE\"],[12.66,\"ZIM\"],[12.0,\"HKG\"],[11.33,\"BMUDA\"],[11.0,\"NZ\"],[10.66,\"CAN\"],[10.5,\"UAE\"],[10.33,\"BDESH\"],[10.0,\"KENYA\"],[9.0,\"BDESH\"],[9.0,\"CAN\"],[8.0,\"BMUDA\"],[7.66,\"PAK\"],[7.0,\"ENG\"],[7.0,\"NZ\"],[7.0,\"ZIM\"],[6.0,\"SL\"],[5.66,\"WI\"],[5.33,\"AUS\"],[5.0,\"NZ\"],[5.0,\"SA\"],[4.66,\"AFG\"],[4.33,\"BMUDA\"],[4.33,\"BMUDA\"],[4.0,\"NZ\"],[4.0,\"SL\"],[4.0,\"UAE\"],[4.0,\"UAE\"],[3.66,\"PAK\"],[3.5,\"NEPAL\"],[3.33,\"WI\"],[3.0,\"AFG\"],[3.0,\"AUS\"],[3.0,\"BMUDA\"],[3.0,\"NL\"],[2.0,\"NZ\"],[2.0,\"NZ\"],[2.0,\"UAE\"],[2.0,\"ZIM\"],[2.0,\"ZIM\"],[1.5,\"BDESH\"],[1.5,\"SL\"],[1.0,\"AFG\"],[1.0,\"IRE\"],[1.0,\"NL\"],[1.0,\"SL\"],[0.5,\"SL\"],[0.0,\"CAN\"],[0.0,\"INDIA\"],[0.0,\"SCOT\"],[0.0,\"SL\"],[null,\"AUS\"],[null,\"AUS\"],[null,\"BMUDA\"],[null,\"BMUDA\"],[null,\"CAN\"],[null,\"ENG\"],[null,\"NL\"],[null,\"NZ\"],[null,\"SA\"],[null,\"WI\"],[76.0,\"SA\"],[68.0,\"WI\"],[45.0,\"NZ\"],[38.5,\"CAN\"],[33.0,\"AUS\"],[33.0,\"ENG\"],[30.0,\"ENG\"],[28.5,\"SA\"],[25.5,\"CAN\"],[24.5,\"IRE\"],[23.0,\"NL\"],[19.5,\"HKG\"],[19.0,\"NL\"],[19.0,\"SL\"],[18.0,\"INDIA\"],[17.5,\"SA\"],[16.5,\"SL\"],[16.0,\"BDESH\"],[16.0,\"UAE\"],[16.0,\"WI\"],[15.0,\"KENYA\"],[13.5,\"ENG\"],[13.5,\"WI\"],[13.0,\"SA\"],[12.0,\"PAK\"],[11.5,\"WI\"],[11.0,\"SA\"],[11.0,\"SL\"],[11.0,\"UAE\"],[11.0,\"WI\"],[10.5,\"PAK\"],[10.5,\"SL\"],[10.0,\"BMUDA\"],[10.0,\"CAN\"],[9.5,\"SL\"],[9.0,\"SA\"],[8.0,\"BDESH\"],[8.0,\"ENG\"],[7.5,\"SA\"],[7.0,\"SA\"],[6.0,\"INDIA\"],[6.0,\"WI\"],[5.5,\"NEPAL\"],[5.5,\"SL\"],[5.5,\"WI\"],[5.0,\"AUS\"],[5.0,\"SL\"],[4.5,\"BMUDA\"],[4.0,\"AUS\"],[4.0,\"CAN\"],[4.0,\"NEPAL\"],[2.0,\"SCOT\"],[1.5,\"NZ\"],[1.0,\"ENG\"],[1.0,\"IRE\"],[1.0,\"SCOT\"],[0.0,\"AUS\"],[0.0,\"BMUDA\"],[0.0,\"NZ\"],[0.0,\"NZ\"],[0.0,\"PAK\"],[0.0,\"SL\"],[0.0,\"WI\"],[null,\"AFG\"],[null,\"AFG\"],[null,\"AUS\"],[null,\"AUS\"],[null,\"AUS\"],[null,\"AUS\"],[null,\"AUS\"],[null,\"BDESH\"],[null,\"CAN\"],[null,\"HKG\"],[null,\"INDIA\"],[null,\"INDIA\"],[null,\"PAK\"],[null,\"PAK\"],[null,\"SA\"],[null,\"SA\"],[null,\"SA\"],[null,\"SCOT\"],[null,\"SCOT\"],[null,\"SL\"],[null,\"SL\"],[null,\"SL\"],[null,\"SL\"],[null,\"ZIM\"],[null,\"ZIM\"],[null,\"ZIM\"],[43.0,\"INDIA\"],[38.0,\"INDIA\"],[31.0,\"INDIA\"],[26.0,\"WI\"],[25.0,\"BDESH\"],[24.0,\"AUS\"],[22.0,\"WI\"],[21.0,\"BDESH\"],[20.0,\"AUS\"],[19.0,\"INDIA\"],[18.0,\"NZ\"],[18.0,\"PAK\"],[16.0,\"AUS\"],[15.0,\"AFG\"],[15.0,\"AUS\"],[15.0,\"NL\"],[14.0,\"ENG\"],[13.0,\"BDESH\"],[13.0,\"ENG\"],[13.0,\"NZ\"],[12.0,\"AFG\"],[12.0,\"WI\"],[11.0,\"BDESH\"],[11.0,\"CAN\"],[11.0,\"UAE\"],[10.0,\"BDESH\"],[10.0,\"INDIA\"],[10.0,\"WI\"],[10.0,\"WI\"],[9.0,\"AFG\"],[9.0,\"ENG\"],[9.0,\"SCOT\"],[9.0,\"WI\"],[8.0,\"PAK\"],[8.0,\"SA\"],[8.0,\"ZIM\"],[7.0,\"ENG\"],[7.0,\"ENG\"],[7.0,\"SL\"],[6.0,\"AUS\"],[5.0,\"INDIA\"],[5.0,\"PAK\"],[5.0,\"SA\"],[5.0,\"WI\"],[4.0,\"BDESH\"],[4.0,\"ENG\"],[4.0,\"IRE\"],[3.0,\"SA\"],[3.0,\"WI\"],[2.0,\"ENG\"],[2.0,\"HKG\"],[2.0,\"NEPAL\"],[2.0,\"SL\"],[1.0,\"BDESH\"],[1.0,\"BMUDA\"],[1.0,\"ENG\"],[1.0,\"KENYA\"],[1.0,\"KENYA\"],[1.0,\"SA\"],[1.0,\"ZIM\"],[0.0,\"BMUDA\"],[0.0,\"CAN\"],[0.0,\"SA\"],[0.0,\"SA\"],[0.0,\"UAE\"],[0.0,\"WI\"],[0.0,\"WI\"],[null,\"AFG\"],[null,\"AUS\"],[null,\"AUS\"],[null,\"BDESH\"],[null,\"BDESH\"],[null,\"CAN\"],[null,\"CAN\"],[null,\"ENG\"],[null,\"ENG\"],[null,\"ENG\"],[null,\"HKG\"],[null,\"INDIA\"],[null,\"IRE\"],[null,\"NZ\"],[null,\"PAK\"],[null,\"SA\"],[null,\"SL\"],[null,\"UAE\"],[null,\"UAE\"],[null,\"WI\"],[null,\"WI\"],[null,\"ZIM\"]],\"hovertemplate\":\"\\u003cb\\u003e%{hovertext}\\u003c\\u002fb\\u003e\\u003cbr\\u003e\\u003cbr\\u003eInnings=%{x}\\u003cbr\\u003eRuns=%{y}\\u003cbr\\u003eAverage=%{customdata[0]}\\u003cbr\\u003eCountry=%{customdata[1]}\\u003cextra\\u003e\\u003c\\u002fextra\\u003e\",\"hovertext\":[\"Shoaib Malik \",\"RG Sharma \",\"Shahid Afridi \",\"MS Dhoni \",\"LRPL Taylor \",\"KJ O'Brien \",\"Mohammad Hafeez \",\"EJG Morgan \",\"Umar Akmal \",\"Mushfiqur Rahim \",\"MJ Guptill \",\"Mahmudullah \",\"JP Duminy \",\"TM Dilshan \",\"NLTC Perera \",\"SL Malinga \",\"SK Raina \",\"AB de Villiers \",\"GC Wilson \",\"DA Warner \",\"Shakib Al Hasan \",\"V Kohli \",\"Tamim Iqbal \",\"Mohammad Nabi \",\"GH Dockrell \",\"DA Miller \",\"PR Stirling \",\"AD Mathews \",\"BB McCullum \",\"D Ramdin \",\"PM Seelaar \",\"KA Pollard \",\"DJG Sammy \",\"MN Samuels \",\"JC Buttler \",\"H Masakadza \",\"DJ Bravo \",\"Asghar Afghan \",\"TG Southee \",\"Mohammad Shahzad \",\"Saeed Ajmal \",\"NL McCullum \",\"Samiullah Shinwari \",\"GJ Maxwell \",\"RD Berrington \",\"WTS Porterfield \",\"AD Hales \",\"C Munro \",\"Umar Gul \",\"Ahmed Shehzad \",\"AJ Finch \",\"CH Gayle \",\"SR Watson \",\"Yuvraj Singh \",\"Sarfaraz Ahmed \",\"S Dhawan \",\"KJ Coetzer \",\"Kamran Akmal \",\"KMDN Kulasekara \",\"KS Williamson \",\"Najibullah Zadran \",\"Sohail Tanvir \",\"KC Sangakkara \",\"SCJ Broad \",\"DPMD Jayawardene \",\"E Chigumbura \",\"LD Chandimal \",\"Mashrafe Mortaza \",\"S Badree \",\"BN Cooper \",\"LJ Wright \",\"SP Narine \",\"JA Morkel \",\"CS MacLeod \",\"LMP Simmons \",\"WB Rankin \",\"Mohammad Amir \",\"CL White \",\"AD Russell \",\"R Ashwin \",\"Soumya Sarkar \",\"Shafiqullah \",\"RA Jadeja \",\"Gulbadin Naib \",\"Rashid Khan \",\"F du Plessis \",\"HM Amla \",\"Sabbir Rahman \",\"M Morkel \",\"DW Steyn \",\"RE van der Merwe \",\"MH Cross \",\"CK Kapugedera \",\"PW Borren \",\"CJ Jordan \",\"B Kumar \",\"MDKJ Perera \",\"W Barresi \",\"ADS Fletcher \",\"SM Sharif \",\"KD Mills \",\"JJ Bumrah \",\"SR Thompson \",\"CR Brathwaite \",\"Imad Wasim \",\"PA van Meekeren \",\"WD Parnell \",\"J Botha \",\"HH Pandya \",\"IS Sodhi \",\"AU Rashid \",\"MisbahNAulNAHaq \",\"DJ Hussey \",\"GP Swann \",\"T van der Gugten \",\"MJ Santner \",\"BAW Mendis \",\"MEK Hussey \",\"F Behardien \",\"Q de Kock \",\"HG Munsey \",\"RS Bopara \",\"SC Williams \",\"BRM Taylor \",\"JEC Franklin \",\"Imran Tahir \",\"Rohan Mustafa \",\"Shadab Khan \",\"Mudassar Bukhari \",\"KP Pietersen \",\"G Gambhir \",\"A Balbirnie \",\"AR Cusack \",\"Mustafizur Rahman \",\"Babar Azam \",\"SPD Smith \",\"MP O'Dowd \",\"JDP Oram \",\"PD Collingwood \",\"Karim Sadiq \",\"Ahmed Raza \",\"YS Chahal \",\"CO Obuya \",\"MD Shanaka \",\"MRJ Watt \",\"P Utseya \",\"KL Rahul \",\"JM Bairstow \",\"Muhammad Usman \",\"Fakhar Zaman \",\"J Charles \",\"MJ Clarke \",\"Nizakat Khan \",\"BJ Haddin \",\"TT Bresnan \",\"DL Vettori \",\"Dawlat Zadran \",\"JW Dernbach \",\"Abdur Razzak \",\"Shapoor Zadran \",\"GC Smith \",\"SJ Myburgh \",\"C de Grandhomme \",\"CJ Chibhabha \",\"DR Smith \",\"L Ronchi \",\"MK Pandey \",\"JE Root \",\"Shaiman Anwar \",\"KD Karthik \",\"MN Waller \",\"JJ Roy \",\"Abdul Razzaq \",\"Nawroz Mangal \",\"Sikandar Raza \",\"CJ Anderson \",\"ST Jayasuriya \",\"SB Styris \",\"Nasir Hossain \",\"Wahab Riaz \",\"Mohammad Naveed \",\"MA Leask \",\"Amir Hamza \",\"Ahsan Malik \",\"P Khadka \",\"GJ Bailey \",\"RR Patel \",\"DT Johnston \",\"NJ O'Brien \",\"AA Obanda \",\"JE Taylor \",\"Hasan Ali \",\"Aizaz Khan \",\"MG Johnson \",\"CB Mpofu \",\"E Lewis \",\"SA Edwards \",\"MJ McClenaghan \",\"AG Cremer \",\"Sompal Kami \",\"DJ Willey \",\"NM CoulterNANile \",\"Harbhajan Singh \",\"SO Ngoche \",\"AlNAAmin Hossain \",\"MA Starc \",\"I Udana \",\"MJ Lumb \",\"TP Visee \",\"B Bhandari \",\"JF Mooney \",\"A Zampa \",\"Faheem Ashraf \",\"A Nehra \",\"TA Boult \",\"Rubel Hossain \",\"AC Evans \",\"MR Swart \",\"RR Pant \",\"V Sibanda \",\"MS Wade \",\"KD Shah \",\"MC Sorensen \",\"SW Billings \",\"WU Tharanga \",\"HDRL Thirimanne \",\"AJ Tye \",\"CA Young \",\"HA Varaiya \",\"JH Kallis \",\"Younis Khan \",\"C Kieswetter \",\"Imran Nazir \",\"Liton Das \",\"Asif Ali \",\"MV Boucher \",\"B Lee \",\"SW Poynter \",\"Karan KC \",\"MM Ali \",\"AT Carey \",\"Mirwais Ashraf \",\"PJ Cummins \",\"PL Mommsen \",\"Salman Butt \",\"Babar Hayat \",\"IK Pathan \",\"MS Chapman \",\"G Malla \",\"BKG Mendis \",\"Rizwan Cheema \",\"Fawad Alam \",\"JP Faulkner \",\"SJ Benn \",\"NN Odhiambo \",\"SMSM Senanayake \",\"Nadeem Ahmed \",\"KOK Williams \",\"R Powell \",\"Mohammad Ashraful \",\"N Dickwella \",\"HH Gibbs \",\"BA Stokes \",\"CH Morris \",\"AL Phehlukwayo \",\"R Rampaul \",\"LL Tsotsobe \",\"RN ten Doeschate \",\"RR Hendricks \",\"Rameez Shahzad \",\"CR Ervine \",\"JD Ryder \",\"S Chanderpaul \",\"R Mutumbami \",\"BMAJ Mendis \",\"YK Pathan \",\"Amjad Javed \",\"TAM Siriwardana \",\"Hamid Hassan \",\"Waqas Barkat \",\"KM Jarvis \",\"MA Ouma \",\"A Dananjaya \",\"LE Plunkett \",\"SS Cottrell \",\"Mohammad Irfan \",\"PJ Moor \",\"MD Gunathilaka \",\"RJ Nicol \",\"JH Davey \",\"RJ Peterson \",\"Tanwir Afzal \",\"AC Agar \",\"Karim Janat \",\"RM Haq \",\"KJ Abbott \",\"FJ Klaassen \",\"TL Chatara \",\"SW Tait \",\"K Rabada \",\"ST Finn \",\"AF Milne \",\"DJM Short \",\"Noor Ali Zadran \",\"AM Rahane \",\"DM Bravo \",\"Anshuman Rath \",\"SO Hetmyer \",\"Mohammad Shahzad \",\"S Prasanna \",\"Sohaib Maqsood \",\"RG Aga \",\"D Wiese \",\"FH Edwards \",\"SE Bond \",\"Usman Ghani \",\"V Sehwag \",\"Kuldeep Yadav \",\"AD Poynter \",\"TL Seifert \",\"CD Wallace \",\"MP Stoinis \",\"CAK Walton \",\"AR McBrine \",\"Taskin Ahmed \",\"B Stanlake \",\"PVD Chameera \",\"NW Bracken \",\"IG Butler \",\"BD Glover \",\"JM Anderson \",\"EC Joyce \",\"NR Kumar \",\"MJG Rippon \",\"TLW Cooper \",\"KH Pandya \",\"DAJ Bracewell \",\"RR Sarwan \",\"AR White \",\"Nasir Jamshed \",\"DS Airee \",\"KMA Paul \",\"CA Lynn \",\"JDS Neesham \",\"SR Patel \",\"SP Patil \",\"Washington Sundar \",\"Simi Singh \",\"Haseeb Amjad \",\"S Lamichhane \",\"E Otieno \",\"CRD Fernando \",\"B Regmi \",\"Zahoor Khan \",\"RJ Sidebottom \",\"T Taibu \",\"RT Ponting \",\"GJ Delany \",\"OA Shah \",\"S Vesawkar \",\"Ghulam Shabber \",\"GD Elliott \",\"MR Adair \",\"JO Holder \",\"DP Nannes \",\"JC Tredwell \",\"GD Drummond \",\"Z Khan \",\"HS Baidwan \",\"Sultan Ahmed \",\"Shafiul Islam \",\"HMRKB Herath \",\"A Bohara \",\"TM Head \",\"RP Burl \",\"N Pooran \",\"IA Karim \",\"J Mubarak \",\"Mohammad Rizwan \",\"GSNFG Jayasuriya \",\"Anwar Ali \",\"Mohammad Boota \",\"LPC Silva \",\"NM Odhiambo \",\"DT Christian \",\"AM Phangiso \",\"RW Price \",\"T Shamsi \",\"Mujeeb Ur Rahman \",\"Usman Shinwari \",\"Ehsan Khan \",\"RR Rossouw \",\"SO Tikolo \",\"BJ Hodge \",\"Sharjeel Khan \",\"TC Bruce \",\"TN de Grooth \",\"RM Hira \",\"SE Marsh \",\"TK Curran \",\"N Madziva \",\"T Mishra \",\"GB Hogg \",\"Hamza Tariq \",\"RJ Trott \",\"Shoaib Akhtar \",\"KW Richardson \",\"A Symonds \",\"MH Yardy \",\"Hussain Talat \",\"Izatullah Dawlatzai \",\"HT Tector \",\"LE Bosman \",\"T Panyangara \",\"SS Iyer \",\"ES Szwarczynski \",\"Mosaddek Hossain \",\"Haris Sohail \",\"JL Ontong \",\"Umar Amin \",\"AD Mascarenhas \",\"Ziaur Rahman \",\"AC Botha \",\"TJ Murtagh \",\"Mohammad Mithun \",\"DLS van Bunge \",\"LJ Tucker \",\"N Pradeep \",\"Imrul Kayes \",\"PADLR Sandakan \",\"SC Getkate \",\"I Sharma \",\"Fareed Ahmad \",\"KK Ahmed \",\"Abu Hider \",\"Hazratullah Zazai \",\"AR Nurse \",\"MW Machan \",\"Anamul Haque \",\"RV Uthappa \",\"AC Gilchrist \",\"SD Hope \",\"Khalid Latif \",\"RE Levi \",\"Mohammad Sami \",\"DM de Silva \",\"Mohammad Saifuddin \",\"Nazmul Islam \",\"EMDY Munaweera \",\"JJ Atkinson \",\"TWM Latham \",\"CT Mutombodzi \",\"Yasir Arafat \",\"CK Coventry \",\"Junaid Siddiqui \",\"T Maruma \",\"Mehidy Hasan Miraz \",\"Farhad Reza \",\"S Snater \",\"NS Dhaliwal \",\"Ravinderpal Singh \",\"JM Vince \",\"DAS Gunaratne \",\"Najeeb Tarakai \",\"JR Hopes \",\"KS Leverock \",\"Ashfaq Ahmed \",\"RW Chakabva \",\"BR McDermott \",\"SM Pollock \",\"PG Fulton \",\"GM Hamilton \",\"TD Paine \",\"TS Chisoro \",\"JK Kamande \",\"R McLaren \",\"WP Masakadza \",\"PKD Chase \",\"LN Rajbanshi \",\"Aftab Alam \",\"M Muralitharan \",\"K Santokie \",\"MC Henriques \",\"CN Ackermann \",\"D Heyliger \",\"DM Gondaria \",\"Aarif Sheikh \",\"DMW Rawlins \",\"Aftab Ahmed \",\"H Patel \",\"MR Marsh \",\"XJ Doherty \",\"AR Patel \",\"GD Phillips \",\"DF Watts \",\"N Dutta \",\"Saad Bin Zafar \",\"AJ Turner \",\"O Bascome \",\"NT Broom \",\"S Dhaniram \",\"NFI McCallum \",\"OGL Bascome \",\"MR Gillespie \",\"JH Stander \",\"RK Paudel \",\"Sikander Zulfiqar \",\"TM Odoyo \",\"FA Allen \",\"BE Hendricks \",\"DAP Darrell \",\"GH O'Brien \",\"PS Airee \",\"H Osinde \",\"PD McGlashan \",\"K Christie \",\"JB Little \",\"JS Patel \",\"RAS Lakmal \",\"Mohammad Asif \",\"Imran Haider \",\"KAJ Roach \",\"BV Vitori \",\"DDP D'Silva \",\"AN Kervezee \",\"Haroon Arshad \",\"DO Obuya \",\"MJ Prior \",\"S Sreesanth \",\"Asad Shafiq \",\"SS McKechnie \",\"RR Watson \",\"AC Douglas \",\"GJ Thompson \",\"JDF Vandersay \",\"WIA Fernando \",\"Naeem Islam \",\"Sohag Gazi \",\"C Carter \",\"Waheed Ahmed \",\"Shahzaib Hasan \",\"JL Denly \",\"Arafat Sunny \",\"JD Nel \",\"GJ Hopkins \",\"LN Oluoch \",\"DI Allan \",\"TS Fray \",\"S Matsikenyeri \",\"DT Tiripano \",\"Qadeer Ahmed \",\"M Ntini \",\"CAK Rajitha \",\"O Thomas \",\"P Kumar \",\"A Mishra \",\"RP Singh \",\"DL Chahar \",\"Raza Hasan \",\"Shaheen Shah Afridi \",\"DJ Malan \",\"ML Hayden \",\"NO Miller \",\"A Bagai \",\"SC Kuggeleijn \",\"HE van der Dussen \",\"SF Mire \",\"RML Taylor \",\"UT Khawaja \",\"CA Ingram \",\"V Shankar \",\"PM Nevill \",\"H Klaasen \",\"AB Dinda \",\"KM Jadhav \",\"Nurul Hasan \",\"L Vincent \",\"CJ Dala \",\"M Vijay \",\"JN Mohammed \",\"H Davids \",\"TB Sole \",\"AJ Staal \",\"DJ Mitchell \",\"Shahid Wasif \",\"Ariful Haque \",\"JA Richardson \",\"JW Hastings \",\"Bilawal Bhatti \",\"WK McCallan \",\"Muhammad Kaleem \",\"Shamsur Rahman \",\"Sagar Pun \",\"P Sarraf \",\"G Goudie \",\"SP Gauchan \",\"PC Connell \",\"CK Langeveldt \",\"GDR Eranga \",\"DE Bollinger \",\"R Vinay Kumar \",\"Junaid Khan \",\"J Theron \",\"T Muzarabani \",\"JM Kemp \",\"MN van Wyk \",\"CD McMillan \",\"Raees Ahmadzai \",\"CR Woakes \",\"IR Bell \",\"TGJ Gruijters \",\"R Gunasekera \",\"HD Rutherford \",\"NS Poonia \",\"Waqas Khan \",\"BFW de Leede \",\"MO Jones \",\"JT Smuts \",\"JJ van der Wath \",\"OJ Hairs \",\"SP Khakurel \",\"JNK Shannon \",\"PWH de Silva \",\"AS Hansra \",\"ML Udawatte \",\"Afif Hossain \",\"CD de Lange \",\"CJO Smith \",\"KM Dabengwa \",\"Abdur Rehman \",\"N Deonarine \",\"RA Thomas \",\"Irfan Ahmed \",\"Sharafuddin Ashraf \",\"LM Jongwe \",\"K Pierre \",\"MF Maharoof \",\"Nasrulla Rana \",\"JRMVB Sanjaya \",\"AO Suji \",\"D Paterson \",\"PJ Ongondo \",\"Syed Rasel \",\"DC Delany \",\"SHA Rance \",\"J Mulder \",\"LV van Beek \",\"Junaid Siddique \",\"LH Ferguson \",\"MM Sharma \",\"Rumman Raees \",\"Usman Limbada \",\"AC Voges \",\"Rahmanullah Gurbaz \",\"Nazimuddin \",\"IJL Trott \",\"Junaid Siddique \",\"AJ Redmond \",\"M Mosehle \",\"Chirag Suri \",\"TE Kane \",\"Abraash Khan \",\"AM Samad \",\"RS Morton \",\"S Samarawickrama \",\"A Flintoff \",\"U Bhatti \",\"HG Kuhn \",\"Alok Kapali \",\"Imran Farhat \",\"BCJ Cutting \",\"D Bishoo \",\"C Zhuwao \",\"Simandeep Singh \",\"SNJ O'Keefe \",\"L Ngidi \",\"Elias Sunny \",\"SW Masakadza \",\"CJ Boyce \",\"S Randiv \",\"E Schiferli \",\"VD Philander \",\"UT Yadav \",\"JO Ngoche \",\"NM Carter \",\"BW Hilfenhaus \",\"PP Chawla \",\"JOA Gordon \",\"DR Briggs \",\"Zulfiqar Babar \",\"Iftikhar Ahmed \",\"DS Smith \",\"WPUJC Vaas \",\"S Dube \",\"Mukhtar Ahmed \",\"DE Budge \",\"RK Kleinveldt \",\"B Zuiderent \",\"S Jora \",\"Mominul Haque \",\"CD Barnwell \",\"BM Wheeler \",\"Abdul Shakoor \",\"LA Dawson \",\"TK Musakanda \",\"MM Iqbal \",\"J Smits \",\"Ahsan Abbasi \",\"Faizan Asif \",\"DJ Reekers \",\"AK Perera \",\"NJ Maddinson \",\"BA King \",\"AT Rayudu \",\"MJ Henry \",\"CJ McKay \",\"RP Magar \",\"Saqib Zulfiqar \",\"DC Stovell \",\"BJ McCarthy \",\"Fahad Tariq \",\"Shahadat Hossain \",\"Saqlain Haider \",\"JS Kundi \",\"JAR Blain \",\"T Thushara \",\"S Bhari \",\"B Muzarabani \",\"P Kerai \",\"RJW Topley \",\"PP Ojha \",\"CS Martin \",\"D Pretorius \",\"TL Best \",\"CU Jayasinghe \",\"T Munyonga \",\"GEF Barnett \",\"PBB Rajapaksa \",\"NR Kirton \",\"JJ Tucker \",\"SP Fleming \",\"NG Jones \",\"SM Davies \",\"CP Rizwan \",\"BR Dunk \",\"Shuvagata Hom \",\"K Weeraratne \",\"DP Hyatt \",\"GA Lamb \",\"Awais Zia \",\"AK Kitchen \",\"JS Foster \",\"DR Flynn \",\"SM Curran \",\"DL Brangman \",\"Hammad Azam \",\"JM How \",\"Amjad Ali \",\"K Jethi \",\"Raqibul Hasan \",\"Mohammad Ghazanfar \",\"BJ Watling \",\"JM Davison \",\"LN Onyango \",\"AM Ellis \",\"WW Hinds \",\"Abul Hasan \",\"L Gregory \",\"Tanveer Ahmed \",\"SJS Smith \",\"RazaNAurNARehman \",\"SS Pathirana \",\"N M'shangwe \",\"HM Nicholls \",\"JM Muirhead \",\"RM West \",\"SHT Kandamby \",\"AM Guruge \",\"DG Brownlie \",\"SD Parry \",\"TS Mills \",\"Ehsan Nawaz \",\"L Sipamla \",\"S Smith \",\"MA Wood \",\"NA Saini \",\"Sohail Khan \",\"Aizaz Cheema \",\"BTJ Wheal \",\"DBL Powell \",\"D Murphy \",\"DR Martyn \",\"DL Maddy \",\"AP Devcich \",\"NJ Astle \",\"CP Schofield \",\"KO Otieno \",\"AJ Strauss \",\"NavedNAulNAHasan \",\"Zawar Farid \",\"PHKD Mendis \",\"Shoaib Khan jnr \",\"AN Cook \",\"E Katchay \",\"Aminul Islam \",\"HC Overdijk \",\"AR Adams \",\"R Flannigan \",\"Ismat Ullah \",\"WD Balaji Rao \",\"TR Birt \",\"RR David \",\"Amjad Khan \",\"Khurram Chohan \",\"RA Bhatti \",\"I Pandey \",\"AB Agarkar \",\"NaveenNAulNAHaq \",\"PRP Boissevain \",\"Raag Kapur \",\"J Anderson \",\"R Strydom \",\"HMCM Bandara \",\"RR Emrit \",\"SA Abbott \",\"Mohammad Hasnain \",\"NB Budayair \",\"ZE Surkari \",\"AA Mulla \",\"SR Bhudia \",\"Amir Hayat \",\"A Bhagwat \",\"Sayed Shirzad \",\"VJ Kingma \",\"I Wardlaw \",\"AF Buurman \",\"HJC Mol \",\"JL Pattinson \",\"Nazmul Hossain \",\"PR Brown \",\"SI Mahmood \",\"JK Mukhiya \",\"CB Sole \",\"T Mupariwa \",\"Muhammad Awais \",\"ME Trescothick \",\"SMA Priyanjan \",\"BOP Fernando \",\"M Klinger \",\"Mohammad Naim \",\"Mandeep Singh \",\"AR Gandhi \",\"B Mavuta \",\"SM Katich \",\"VS Solanki \",\"SD Outerbridge \",\"Khurram Khan \",\"Saad Nasim \",\"Umair Ali \",\"JWM Dalrymple \",\"T Banton \",\"S Thuraisingam \",\"Mohammed Qasim \",\"STR Binny \",\"TA Blundell \",\"Mohammad Yousuf \",\"MK Tiwary \",\"CM Wright \",\"Sahibzada Farhan \",\"KDK Vithanage \",\"Rafatullah Mohmand \",\"Usman Mushtaq \",\"F Mutizwa \",\"RJ Campbell \",\"OL Pitcher \",\"PJ Ingram \",\"TG Gordon \",\"Kamran Shazad \",\"Jahurul Islam \",\"RL Bhudia \",\"Nadif Chowdhury \",\"Mohammad Iqbal \",\"OO Bascome \",\"Zulqarnain Haider \",\"S Mahmood \",\"JAH Marshall \",\"BB Chari \",\"RMS Eranga \",\"SE Rutherford \",\"CJ Ferguson \",\"DR Tuffey \",\"VB van Jaarsveld \",\"Ibrahim Zadran \",\"J Edness \",\"CR Foggo \",\"HJH Marshall \",\"CBRLS Kumara \",\"Farhan Ahmed \",\"Mohammad Tauqir \",\"Khurram Manzoor \",\"Kushal Malla \",\"CS Baugh \",\"Javed Ahmadi \",\"NM Hauritz \",\"JJ Celestine \",\"TS Braat \",\"TD Astle \",\"MJ Mason \",\"Zaheer Maqsood \",\"GB Brent \",\"A Ndlovu \",\"Abu Jayed \",\"ST de Silva \",\"M Nasim Baras \",\"RD McCann \",\"MBS Jonkman \",\"G Wijekoon \",\"MDK Perera \",\"MS Aulakh \",\"MM Patel \",\"GI Maiden \",\"MA Aponso \",\"RJ Harris \",\"SM Harwood \",\"SKW Kelly \",\"JE Pitcher \",\"Zahid Hussain \",\"A Shahzad \",\"Mohammad Kashif \",\"BM Tickner \",\"R Telemachus \",\"GE Mathurin \",\"T Bavuma \",\"TM Dowlin \",\"GH Worker \",\"SA Wijeyeratne \",\"PSP Handscomb \",\"GO Jones \",\"P Mustard \",\"C Jonker \",\"IS Billcliff \",\"DA Rankin \",\"C Floyd \",\"Munir Dar \",\"RI Ahmed \",\"RLB Rambukwella \",\"PA Patel \",\"JN Malan \",\"RJMGM Rupasinghe \",\"Mehrab Hossain jnr \",\"EHSN Silva \",\"SE Findlay \",\"RN Patel \",\"MP Vaughan \",\"NE Bonner \",\"TB de Bruyn \",\"Rameez Raja \",\"AB Barath \",\"AJ Hall \",\"PC de Silva \",\"V Shetty \",\"OC McCoy \",\"ImamNAulNAHaq \",\"LD Madushanka \",\"DL Hemp \",\"S Jyoti \",\"HGJM Kulatunga \",\"AK Markram \",\"Najmul Hossain Shanto \",\"LS Livingstone \",\"GL Cloete \",\"AN Petersen \",\"NV Ojha \",\"OF Smith \",\"AK Mandal \",\"KS Lokuarachchi \",\"JD Campbell \",\"GD McGrath \",\"MS Atapattu \",\"IH Romaine \",\"NJ Reardon \",\"AS Dean \",\"A Karn \",\"RT Lyons \",\"CL Cairns \",\"J Lewis \",\"JP Bray \",\"DR Brown \",\"AA Noffke \",\"M Simmons \",\"AJ McKay \",\"MS Sinclair \",\"Shakeel Ansar \",\"M Bhanuka \",\"DO Christian \",\"Dawlat Ahmadzai \",\"Yamin Ahmadzai \",\"NM Lyon \",\"Fawad Ahmed \",\"MS Kasprowicz \",\"PM Siddle \",\"JD Wildermuth \",\"Taijul Islam \",\"S Keshvani \",\"A Mehmood \",\"DS Kulkarni \",\"Sandeep Sharma \",\"Aamer Yamin \",\"Yasir Shah \",\"ND McKenzie \",\"J Louw \",\"A Nel \",\"RAJ Smith \",\"GA Rogers \",\"LHD Dilhara \",\"B Fernando \",\"UWMBCA Welegedara \",\"PDRL Perera \",\"J Nyumbu \",\"KO Meth \",\"EC Rainsford \",\"S Badrinath \",\"D Mongia \",\"R Dravid \",\"D Ganga \",\"Shahriar Nafees \",\"JN Gillespie \",\"FL Reifer \",\"Rony Talukdar \",\"MJ North \",\"SV Samson \",\"JW Wilson \",\"Nauman Anwar \",\"BJ Rohrer \",\"Shabir Noori \",\"LA Pomersbach \",\"Vikramjit Singh \",\"SG Borthwick \",\"Mohammad Rafique \",\"CMW Read \",\"PA Hitchcock \",\"Fazal Niazai \",\"KOA Powell \",\"Mahedi Hasan \",\"H Thaker \",\"Fayyaz Ahmed \",\"Zakir Hasan \",\"SR Tendulkar \",\"BA Parchment \",\"ACL Richards \",\"Afsar Zazai \",\"BM Duckett \",\"FRJ Coleman \",\"WKD Perkins \",\"Khushdil Shah \",\"GH Bodi \",\"AM Blignaut \",\"MA Carberry \",\"JN Snape \",\"RP Arnold \",\"PJ Hughes \",\"Parvez Rasool \",\"Mohammad Salman \",\"AG Prince \",\"AM McCarthy \",\"Nazmus Sadat \",\"GJ Batty \",\"SP Terry \",\"GJP Kruger \",\"MC Bascombe \",\"A Khan \",\"Najeeb Amar \",\"A Bhattarai \",\"MVT Fernando \",\"Dhiman Ghosh \",\"TE Tucker \",\"MS Panesar \",\"JS Jesani \",\"EB Ringera \",\"HH Dippenaar \",\"ML Nkala \",\"KC Hodsoll \",\"Mohammad Qazi \",\"T Henderson \",\"M Zondeki \",\"L Sreekumar \",\"RN Lewis \",\"DM Richards \",\"Hashmatullah Shahidi \",\"MJ Swepson \",\"CT Bancroft \",\"Muktar Ali \",\"Sohrawordi Shuvo \",\"PA Desai \",\"MR Montfort \",\"PA Nixon \",\"RWT Key \",\"RJ Kirtley \",\"Anas Khan \",\"R Dhawan \",\"GE Kidd \",\"EP Thompson \",\"InzamamNAulNAHaq \",\"JA Rudolph \",\"KMC Bandara \",\"Adnan Mufti \",\"Muhammed Shanil \",\"DE Bernard \",\"IDR Bradshaw \",\"AJ Ireland \"],\"legendgroup\":\"\",\"marker\":{\"color\":\"#636efa\",\"symbol\":\"circle\"},\"mode\":\"markers\",\"name\":\"\",\"showlegend\":false,\"x\":[104,96,91,85,87,83,86,84,79,76,80,76,75,79,70,30,66,75,65,76,76,70,75,70,33,62,71,57,70,50,40,58,52,65,58,66,59,60,30,65,23,41,55,54,54,59,60,57,27,59,58,54,56,51,41,57,56,53,30,55,48,25,53,26,55,53,47,39,16,48,45,23,38,47,48,15,14,44,39,11,46,42,22,37,22,44,44,43,8,10,29,35,38,38,25,9,42,41,40,18,19,6,30,27,29,9,13,20,25,7,15,34,36,16,11,27,8,30,30,38,36,35,38,38,31,4,37,14,26,36,36,33,21,15,36,28,35,30,33,36,14,3,33,35,11,21,31,29,32,33,33,28,32,29,22,22,17,7,20,13,33,32,31,32,32,26,27,30,32,26,31,32,29,32,30,24,30,29,24,17,24,22,9,8,29,26,26,19,28,28,15,10,27,17,10,28,22,8,19,19,19,15,13,18,6,6,19,27,27,23,23,6,18,5,8,14,6,25,24,26,17,22,11,23,26,20,11,7,12,23,23,25,24,25,24,21,12,21,16,22,13,19,11,19,23,24,14,23,23,24,24,17,18,7,20,12,9,7,18,23,22,23,20,13,11,6,3,22,22,21,21,21,22,19,15,18,18,19,9,20,12,19,12,11,7,4,19,21,19,10,12,18,7,13,12,6,7,3,6,4,3,8,20,20,20,18,19,18,20,20,18,18,11,4,8,19,18,2,14,18,14,14,17,11,6,2,10,6,6,4,4,15,16,11,17,9,10,16,12,18,16,12,16,15,14,13,5,17,10,8,8,7,11,5,1,15,16,15,15,16,14,15,14,11,5,6,7,4,11,9,6,6,5,15,13,16,16,15,13,14,11,12,15,8,7,3,9,3,3,3,10,14,15,11,15,15,13,3,15,6,10,15,4,11,10,6,2,11,8,14,3,12,14,5,13,12,13,13,10,9,13,12,11,5,10,12,11,6,13,4,12,3,1,1,5,13,8,13,13,12,13,11,13,13,4,13,9,4,13,12,10,12,11,12,7,13,11,9,6,11,10,12,12,12,7,12,12,12,10,9,12,8,9,6,9,4,6,5,2,5,2,1,8,11,7,9,10,11,11,11,11,4,7,10,9,3,4,7,11,7,9,7,11,6,11,10,8,10,9,3,10,6,11,6,9,4,6,4,6,3,2,1,2,8,10,10,10,8,3,10,10,9,9,8,7,10,10,7,5,9,10,9,6,5,8,6,10,10,10,6,4,4,4,4,3,1,2,2,4,1,9,9,5,9,5,8,8,6,9,9,4,5,9,2,6,8,9,4,9,8,9,6,8,9,8,8,3,6,4,3,9,8,9,8,6,5,3,3,1,2,1,2,3,1,7,7,7,6,7,8,5,8,7,7,7,7,7,8,4,8,8,8,7,8,8,7,3,6,7,5,7,8,8,4,7,4,5,4,5,5,2,6,3,2,3,4,4,4,1,2,1,3,5,7,7,7,7,6,6,7,3,4,6,7,7,7,7,6,7,7,5,4,7,7,5,2,4,5,2,2,3,4,1,3,2,3,1,2,1,3,6,6,2,4,6,4,3,6,6,4,6,4,4,2,6,3,2,6,6,5,5,4,5,5,2,4,6,4,6,3,5,5,5,4,3,2,3,3,1,1,1,1,2,1,3,3,5,5,5,5,5,4,5,4,5,4,5,5,4,5,4,5,5,3,4,4,5,5,5,5,2,4,5,4,5,5,2,3,2,4,4,5,2,4,2,4,4,3,5,1,1,1,1,3,2,1,1,1,2,1,4,4,4,4,4,4,4,4,2,4,4,4,4,3,3,1,2,4,4,4,3,4,3,4,4,4,2,2,2,3,2,2,3,3,1,3,3,3,4,3,2,4,1,2,1,2,1,2,2,1,2,1,1,2,3,3,3,3,3,3,3,3,3,2,3,3,3,2,3,3,3,2,3,2,2,3,1,1,3,3,3,2,3,3,3,3,3,2,3,3,3,3,3,3,2,2,3,1,3,3,2,3,3,3,3,3,1,1,2,3,2,3,2,2,3,2,2,1,1,1,1,2,2,1,1,1,2,2,1,1,1,1,1,1,2,1,2,1,1,1,1,2,2,2,2,2,2,2,2,2,2,2,2,2,2,1,2,2,2,2,2,2,2,2,2,2,2,2,1,2,2,2,2,2,2,2,2,2,2,2,2,2,2,1,2,2,2,1,1,2,1,2,1,2,2,2,2,1,1,1,1,2,1,1,1,1,1,1,1,1,1,1,1,1,1,1,1,1,1,1,1,1,1,2,1,1,1,2,2,1,1,1,1,1,1,1,1,1,1,1,1,1,1,1,1,1,1,1,1,1,1,1,1,1,1,1,1,1,1,1,1,1,1,1,1,1,1,1,1,1,1,1,1,1,1,1,1,1,1,1,1,1,1,1,1,1,1,1,1,1,1,1,1,1,1,1,1,1,1,1,1,1,1,1,1,1,1,1,1,1,1,1,1,1,1,1,1,1,1,1],\"xaxis\":\"x\",\"y\":[2263,2633,1416,1617,1743,1504,1908,2002,1690,1265,2436,1430,1934,1889,1169,128,1605,1672,1239,2079,1567,2633,1613,1316,251,1309,1929,1055,2140,636,464,1058,587,1611,1260,1662,1142,1167,220,1936,91,299,985,1576,1247,1079,1644,1546,165,1471,1878,1627,1462,1177,812,1504,1386,987,215,1505,918,196,1382,118,1493,852,800,377,43,1094,759,155,572,1042,990,64,59,984,465,123,791,494,163,472,149,1363,1277,946,22,16,454,755,703,638,216,23,1171,799,765,123,137,8,328,310,261,39,114,201,310,59,51,788,756,104,109,263,8,721,518,1018,987,711,821,818,463,19,605,122,157,1176,932,790,229,43,1405,577,866,474,583,538,96,4,691,434,53,94,1138,603,695,756,724,488,576,402,216,205,68,24,41,27,982,741,479,621,582,359,587,893,971,399,613,743,393,505,406,485,629,578,370,145,176,240,40,28,777,473,526,249,466,381,118,61,239,109,33,833,334,24,68,198,166,150,108,107,7,12,226,552,478,292,231,23,133,28,22,17,1,621,409,511,239,351,92,348,407,291,61,6,51,666,442,526,500,497,331,268,101,240,173,235,125,128,35,419,595,541,172,475,482,473,389,194,159,37,174,56,34,19,311,450,429,400,232,133,73,12,2,533,593,449,461,457,343,294,207,236,271,275,50,254,55,127,49,42,15,4,364,452,327,83,124,219,82,145,64,23,33,15,11,5,14,21,592,506,375,340,321,279,281,214,221,213,92,10,21,445,394,20,219,316,146,136,225,73,29,9,31,15,5,2,1,405,434,216,404,121,121,298,137,363,287,142,291,185,189,187,26,169,45,23,26,25,24,10,5,259,401,314,347,310,208,171,152,111,22,32,54,13,54,35,23,8,5,319,254,312,286,238,180,225,109,112,175,61,27,19,15,0,8,2,142,327,345,183,360,279,163,37,255,36,88,227,55,100,46,21,9,337,96,371,26,233,323,23,226,233,183,210,158,142,123,117,130,26,117,90,102,10,119,18,87,8,24,1,58,519,85,407,355,249,272,238,237,236,21,257,108,18,215,202,163,129,92,127,49,100,94,72,18,361,266,340,225,258,105,201,238,159,98,86,127,90,82,40,83,9,25,7,3,2,1,0,159,243,58,199,194,261,228,220,175,18,68,140,137,15,43,57,147,73,100,76,107,21,94,80,68,95,64,18,80,32,87,31,61,15,18,9,7,9,4,3,8,130,289,211,216,127,20,192,130,159,138,107,15,148,130,57,55,66,116,92,34,34,86,26,86,73,76,29,7,10,8,8,7,0,3,1,18,0,458,308,43,284,65,254,253,85,241,210,101,25,156,22,122,78,174,19,169,90,161,69,97,97,77,59,13,46,23,11,97,86,90,57,25,13,4,4,1,1,2,3,32,0,203,225,187,91,91,188,51,202,151,95,68,98,81,126,46,105,112,111,55,82,96,83,35,58,46,22,55,73,76,28,60,17,33,15,20,15,5,28,7,7,10,6,7,5,1,3,0,53,139,227,178,138,159,126,105,113,36,66,97,96,97,76,49,49,57,76,40,17,48,33,32,6,9,18,4,8,7,14,2,4,4,2,0,3,0,27,150,203,33,64,192,60,25,108,101,60,78,37,35,17,98,46,15,80,80,64,59,45,53,42,10,19,52,34,42,11,19,8,14,9,4,4,1,1,0,1,10,5,87,17,49,45,131,131,75,94,110,42,102,80,99,35,49,64,32,70,38,37,59,35,23,34,56,42,41,51,10,38,44,17,25,30,14,21,7,21,25,27,5,19,4,11,13,3,6,1,0,0,0,14,10,0,1,0,2,1,35,120,113,111,74,24,74,73,18,67,66,65,61,15,14,13,13,38,44,32,31,39,28,18,25,33,15,7,7,12,12,6,12,17,5,5,7,10,11,4,3,5,1,1,1,0,0,5,3,4,1,0,4,5,82,166,54,97,143,143,87,86,41,69,76,49,73,44,22,60,56,18,36,35,17,50,15,14,40,40,39,13,38,36,34,22,32,21,31,20,27,27,24,23,7,14,21,6,17,16,5,15,14,13,13,12,4,4,4,11,7,10,6,6,9,6,4,2,2,2,2,3,3,1,1,1,1,1,0,0,0,0,2,0,13,5,3,0,0,5,5,4,76,68,90,77,33,33,60,57,51,49,23,39,38,19,36,35,33,16,16,32,15,27,27,26,24,23,11,22,11,11,21,21,20,10,19,18,16,16,15,14,12,6,11,11,11,5,5,9,4,8,4,4,3,1,2,1,0,0,0,0,0,0,0,2,1,4,3,3,1,1,0,0,0,1,1,15,11,7,1,0,9,7,18,8,2,0,7,6,1,43,38,31,26,25,24,22,21,20,19,18,18,16,15,15,15,14,13,13,13,12,12,11,11,11,10,10,10,10,9,9,9,9,8,8,8,7,7,7,6,5,5,5,5,4,4,4,3,3,2,2,2,2,1,1,1,1,1,1,1,0,0,0,0,0,0,0,1,3,0,19,1,4,1,31,10,2,21,1,1,1,11,6,2,6,1,1,0,2],\"yaxis\":\"y\",\"type\":\"scattergl\"}],                        {\"template\":{\"data\":{\"histogram2dcontour\":[{\"type\":\"histogram2dcontour\",\"colorbar\":{\"outlinewidth\":0,\"ticks\":\"\"},\"colorscale\":[[0.0,\"#0d0887\"],[0.1111111111111111,\"#46039f\"],[0.2222222222222222,\"#7201a8\"],[0.3333333333333333,\"#9c179e\"],[0.4444444444444444,\"#bd3786\"],[0.5555555555555556,\"#d8576b\"],[0.6666666666666666,\"#ed7953\"],[0.7777777777777778,\"#fb9f3a\"],[0.8888888888888888,\"#fdca26\"],[1.0,\"#f0f921\"]]}],\"choropleth\":[{\"type\":\"choropleth\",\"colorbar\":{\"outlinewidth\":0,\"ticks\":\"\"}}],\"histogram2d\":[{\"type\":\"histogram2d\",\"colorbar\":{\"outlinewidth\":0,\"ticks\":\"\"},\"colorscale\":[[0.0,\"#0d0887\"],[0.1111111111111111,\"#46039f\"],[0.2222222222222222,\"#7201a8\"],[0.3333333333333333,\"#9c179e\"],[0.4444444444444444,\"#bd3786\"],[0.5555555555555556,\"#d8576b\"],[0.6666666666666666,\"#ed7953\"],[0.7777777777777778,\"#fb9f3a\"],[0.8888888888888888,\"#fdca26\"],[1.0,\"#f0f921\"]]}],\"heatmap\":[{\"type\":\"heatmap\",\"colorbar\":{\"outlinewidth\":0,\"ticks\":\"\"},\"colorscale\":[[0.0,\"#0d0887\"],[0.1111111111111111,\"#46039f\"],[0.2222222222222222,\"#7201a8\"],[0.3333333333333333,\"#9c179e\"],[0.4444444444444444,\"#bd3786\"],[0.5555555555555556,\"#d8576b\"],[0.6666666666666666,\"#ed7953\"],[0.7777777777777778,\"#fb9f3a\"],[0.8888888888888888,\"#fdca26\"],[1.0,\"#f0f921\"]]}],\"heatmapgl\":[{\"type\":\"heatmapgl\",\"colorbar\":{\"outlinewidth\":0,\"ticks\":\"\"},\"colorscale\":[[0.0,\"#0d0887\"],[0.1111111111111111,\"#46039f\"],[0.2222222222222222,\"#7201a8\"],[0.3333333333333333,\"#9c179e\"],[0.4444444444444444,\"#bd3786\"],[0.5555555555555556,\"#d8576b\"],[0.6666666666666666,\"#ed7953\"],[0.7777777777777778,\"#fb9f3a\"],[0.8888888888888888,\"#fdca26\"],[1.0,\"#f0f921\"]]}],\"contourcarpet\":[{\"type\":\"contourcarpet\",\"colorbar\":{\"outlinewidth\":0,\"ticks\":\"\"}}],\"contour\":[{\"type\":\"contour\",\"colorbar\":{\"outlinewidth\":0,\"ticks\":\"\"},\"colorscale\":[[0.0,\"#0d0887\"],[0.1111111111111111,\"#46039f\"],[0.2222222222222222,\"#7201a8\"],[0.3333333333333333,\"#9c179e\"],[0.4444444444444444,\"#bd3786\"],[0.5555555555555556,\"#d8576b\"],[0.6666666666666666,\"#ed7953\"],[0.7777777777777778,\"#fb9f3a\"],[0.8888888888888888,\"#fdca26\"],[1.0,\"#f0f921\"]]}],\"surface\":[{\"type\":\"surface\",\"colorbar\":{\"outlinewidth\":0,\"ticks\":\"\"},\"colorscale\":[[0.0,\"#0d0887\"],[0.1111111111111111,\"#46039f\"],[0.2222222222222222,\"#7201a8\"],[0.3333333333333333,\"#9c179e\"],[0.4444444444444444,\"#bd3786\"],[0.5555555555555556,\"#d8576b\"],[0.6666666666666666,\"#ed7953\"],[0.7777777777777778,\"#fb9f3a\"],[0.8888888888888888,\"#fdca26\"],[1.0,\"#f0f921\"]]}],\"mesh3d\":[{\"type\":\"mesh3d\",\"colorbar\":{\"outlinewidth\":0,\"ticks\":\"\"}}],\"scatter\":[{\"fillpattern\":{\"fillmode\":\"overlay\",\"size\":10,\"solidity\":0.2},\"type\":\"scatter\"}],\"parcoords\":[{\"type\":\"parcoords\",\"line\":{\"colorbar\":{\"outlinewidth\":0,\"ticks\":\"\"}}}],\"scatterpolargl\":[{\"type\":\"scatterpolargl\",\"marker\":{\"colorbar\":{\"outlinewidth\":0,\"ticks\":\"\"}}}],\"bar\":[{\"error_x\":{\"color\":\"#2a3f5f\"},\"error_y\":{\"color\":\"#2a3f5f\"},\"marker\":{\"line\":{\"color\":\"#E5ECF6\",\"width\":0.5},\"pattern\":{\"fillmode\":\"overlay\",\"size\":10,\"solidity\":0.2}},\"type\":\"bar\"}],\"scattergeo\":[{\"type\":\"scattergeo\",\"marker\":{\"colorbar\":{\"outlinewidth\":0,\"ticks\":\"\"}}}],\"scatterpolar\":[{\"type\":\"scatterpolar\",\"marker\":{\"colorbar\":{\"outlinewidth\":0,\"ticks\":\"\"}}}],\"histogram\":[{\"marker\":{\"pattern\":{\"fillmode\":\"overlay\",\"size\":10,\"solidity\":0.2}},\"type\":\"histogram\"}],\"scattergl\":[{\"type\":\"scattergl\",\"marker\":{\"colorbar\":{\"outlinewidth\":0,\"ticks\":\"\"}}}],\"scatter3d\":[{\"type\":\"scatter3d\",\"line\":{\"colorbar\":{\"outlinewidth\":0,\"ticks\":\"\"}},\"marker\":{\"colorbar\":{\"outlinewidth\":0,\"ticks\":\"\"}}}],\"scattermapbox\":[{\"type\":\"scattermapbox\",\"marker\":{\"colorbar\":{\"outlinewidth\":0,\"ticks\":\"\"}}}],\"scatterternary\":[{\"type\":\"scatterternary\",\"marker\":{\"colorbar\":{\"outlinewidth\":0,\"ticks\":\"\"}}}],\"scattercarpet\":[{\"type\":\"scattercarpet\",\"marker\":{\"colorbar\":{\"outlinewidth\":0,\"ticks\":\"\"}}}],\"carpet\":[{\"aaxis\":{\"endlinecolor\":\"#2a3f5f\",\"gridcolor\":\"white\",\"linecolor\":\"white\",\"minorgridcolor\":\"white\",\"startlinecolor\":\"#2a3f5f\"},\"baxis\":{\"endlinecolor\":\"#2a3f5f\",\"gridcolor\":\"white\",\"linecolor\":\"white\",\"minorgridcolor\":\"white\",\"startlinecolor\":\"#2a3f5f\"},\"type\":\"carpet\"}],\"table\":[{\"cells\":{\"fill\":{\"color\":\"#EBF0F8\"},\"line\":{\"color\":\"white\"}},\"header\":{\"fill\":{\"color\":\"#C8D4E3\"},\"line\":{\"color\":\"white\"}},\"type\":\"table\"}],\"barpolar\":[{\"marker\":{\"line\":{\"color\":\"#E5ECF6\",\"width\":0.5},\"pattern\":{\"fillmode\":\"overlay\",\"size\":10,\"solidity\":0.2}},\"type\":\"barpolar\"}],\"pie\":[{\"automargin\":true,\"type\":\"pie\"}]},\"layout\":{\"autotypenumbers\":\"strict\",\"colorway\":[\"#636efa\",\"#EF553B\",\"#00cc96\",\"#ab63fa\",\"#FFA15A\",\"#19d3f3\",\"#FF6692\",\"#B6E880\",\"#FF97FF\",\"#FECB52\"],\"font\":{\"color\":\"#2a3f5f\"},\"hovermode\":\"closest\",\"hoverlabel\":{\"align\":\"left\"},\"paper_bgcolor\":\"white\",\"plot_bgcolor\":\"#E5ECF6\",\"polar\":{\"bgcolor\":\"#E5ECF6\",\"angularaxis\":{\"gridcolor\":\"white\",\"linecolor\":\"white\",\"ticks\":\"\"},\"radialaxis\":{\"gridcolor\":\"white\",\"linecolor\":\"white\",\"ticks\":\"\"}},\"ternary\":{\"bgcolor\":\"#E5ECF6\",\"aaxis\":{\"gridcolor\":\"white\",\"linecolor\":\"white\",\"ticks\":\"\"},\"baxis\":{\"gridcolor\":\"white\",\"linecolor\":\"white\",\"ticks\":\"\"},\"caxis\":{\"gridcolor\":\"white\",\"linecolor\":\"white\",\"ticks\":\"\"}},\"coloraxis\":{\"colorbar\":{\"outlinewidth\":0,\"ticks\":\"\"}},\"colorscale\":{\"sequential\":[[0.0,\"#0d0887\"],[0.1111111111111111,\"#46039f\"],[0.2222222222222222,\"#7201a8\"],[0.3333333333333333,\"#9c179e\"],[0.4444444444444444,\"#bd3786\"],[0.5555555555555556,\"#d8576b\"],[0.6666666666666666,\"#ed7953\"],[0.7777777777777778,\"#fb9f3a\"],[0.8888888888888888,\"#fdca26\"],[1.0,\"#f0f921\"]],\"sequentialminus\":[[0.0,\"#0d0887\"],[0.1111111111111111,\"#46039f\"],[0.2222222222222222,\"#7201a8\"],[0.3333333333333333,\"#9c179e\"],[0.4444444444444444,\"#bd3786\"],[0.5555555555555556,\"#d8576b\"],[0.6666666666666666,\"#ed7953\"],[0.7777777777777778,\"#fb9f3a\"],[0.8888888888888888,\"#fdca26\"],[1.0,\"#f0f921\"]],\"diverging\":[[0,\"#8e0152\"],[0.1,\"#c51b7d\"],[0.2,\"#de77ae\"],[0.3,\"#f1b6da\"],[0.4,\"#fde0ef\"],[0.5,\"#f7f7f7\"],[0.6,\"#e6f5d0\"],[0.7,\"#b8e186\"],[0.8,\"#7fbc41\"],[0.9,\"#4d9221\"],[1,\"#276419\"]]},\"xaxis\":{\"gridcolor\":\"white\",\"linecolor\":\"white\",\"ticks\":\"\",\"title\":{\"standoff\":15},\"zerolinecolor\":\"white\",\"automargin\":true,\"zerolinewidth\":2},\"yaxis\":{\"gridcolor\":\"white\",\"linecolor\":\"white\",\"ticks\":\"\",\"title\":{\"standoff\":15},\"zerolinecolor\":\"white\",\"automargin\":true,\"zerolinewidth\":2},\"scene\":{\"xaxis\":{\"backgroundcolor\":\"#E5ECF6\",\"gridcolor\":\"white\",\"linecolor\":\"white\",\"showbackground\":true,\"ticks\":\"\",\"zerolinecolor\":\"white\",\"gridwidth\":2},\"yaxis\":{\"backgroundcolor\":\"#E5ECF6\",\"gridcolor\":\"white\",\"linecolor\":\"white\",\"showbackground\":true,\"ticks\":\"\",\"zerolinecolor\":\"white\",\"gridwidth\":2},\"zaxis\":{\"backgroundcolor\":\"#E5ECF6\",\"gridcolor\":\"white\",\"linecolor\":\"white\",\"showbackground\":true,\"ticks\":\"\",\"zerolinecolor\":\"white\",\"gridwidth\":2}},\"shapedefaults\":{\"line\":{\"color\":\"#2a3f5f\"}},\"annotationdefaults\":{\"arrowcolor\":\"#2a3f5f\",\"arrowhead\":0,\"arrowwidth\":1},\"geo\":{\"bgcolor\":\"white\",\"landcolor\":\"#E5ECF6\",\"subunitcolor\":\"white\",\"showland\":true,\"showlakes\":true,\"lakecolor\":\"white\"},\"title\":{\"x\":0.05},\"mapbox\":{\"style\":\"light\"}}},\"xaxis\":{\"anchor\":\"y\",\"domain\":[0.0,1.0],\"title\":{\"text\":\"Innings\"}},\"yaxis\":{\"anchor\":\"x\",\"domain\":[0.0,1.0],\"title\":{\"text\":\"Runs\"}},\"legend\":{\"tracegroupgap\":0},\"title\":{\"text\":\"Cricket Player Statistics\"},\"height\":500,\"updatemenus\":[{\"buttons\":[{\"args\":[{\"x\":[[104,96,91,85,87,83,86,84,79,76,80,76,75,79,70,30,66,75,65,76,76,70,75,70,33,62,71,57,70,50,40,58,52,65,58,66,59,60,30,65,23,41,55,54,54,59,60,57,27,59,58,54,56,51,41,57,56,53,30,55,48,25,53,26,55,53,47,39,16,48,45,23,38,47,48,15,14,44,39,11,46,42,22,37,22,44,44,43,8,10,29,35,38,38,25,9,42,41,40,18,19,6,30,27,29,9,13,20,25,7,15,34,36,16,11,27,8,30,30,38,36,35,38,38,31,4,37,14,26,36,36,33,21,15,36,28,35,30,33,36,14,3,33,35,11,21,31,29,32,33,33,28,32,29,22,22,17,7,20,13,33,32,31,32,32,26,27,30,32,26,31,32,29,32,30,24,30,29,24,17,24,22,9,8,29,26,26,19,28,28,15,10,27,17,10,28,22,8,19,19,19,15,13,18,6,6,19,27,27,23,23,6,18,5,8,14,6,25,24,26,17,22,11,23,26,20,11,7,12,23,23,25,24,25,24,21,12,21,16,22,13,19,11,19,23,24,14,23,23,24,24,17,18,7,20,12,9,7,18,23,22,23,20,13,11,6,3,22,22,21,21,21,22,19,15,18,18,19,9,20,12,19,12,11,7,4,19,21,19,10,12,18,7,13,12,6,7,3,6,4,3,8,20,20,20,18,19,18,20,20,18,18,11,4,8,19,18,2,14,18,14,14,17,11,6,2,10,6,6,4,4,15,16,11,17,9,10,16,12,18,16,12,16,15,14,13,5,17,10,8,8,7,11,5,1,15,16,15,15,16,14,15,14,11,5,6,7,4,11,9,6,6,5,15,13,16,16,15,13,14,11,12,15,8,7,3,9,3,3,3,10,14,15,11,15,15,13,3,15,6,10,15,4,11,10,6,2,11,8,14,3,12,14,5,13,12,13,13,10,9,13,12,11,5,10,12,11,6,13,4,12,3,1,1,5,13,8,13,13,12,13,11,13,13,4,13,9,4,13,12,10,12,11,12,7,13,11,9,6,11,10,12,12,12,7,12,12,12,10,9,12,8,9,6,9,4,6,5,2,5,2,1,8,11,7,9,10,11,11,11,11,4,7,10,9,3,4,7,11,7,9,7,11,6,11,10,8,10,9,3,10,6,11,6,9,4,6,4,6,3,2,1,2,8,10,10,10,8,3,10,10,9,9,8,7,10,10,7,5,9,10,9,6,5,8,6,10,10,10,6,4,4,4,4,3,1,2,2,4,1,9,9,5,9,5,8,8,6,9,9,4,5,9,2,6,8,9,4,9,8,9,6,8,9,8,8,3,6,4,3,9,8,9,8,6,5,3,3,1,2,1,2,3,1,7,7,7,6,7,8,5,8,7,7,7,7,7,8,4,8,8,8,7,8,8,7,3,6,7,5,7,8,8,4,7,4,5,4,5,5,2,6,3,2,3,4,4,4,1,2,1,3,5,7,7,7,7,6,6,7,3,4,6,7,7,7,7,6,7,7,5,4,7,7,5,2,4,5,2,2,3,4,1,3,2,3,1,2,1,3,6,6,2,4,6,4,3,6,6,4,6,4,4,2,6,3,2,6,6,5,5,4,5,5,2,4,6,4,6,3,5,5,5,4,3,2,3,3,1,1,1,1,2,1,3,3,5,5,5,5,5,4,5,4,5,4,5,5,4,5,4,5,5,3,4,4,5,5,5,5,2,4,5,4,5,5,2,3,2,4,4,5,2,4,2,4,4,3,5,1,1,1,1,3,2,1,1,1,2,1,4,4,4,4,4,4,4,4,2,4,4,4,4,3,3,1,2,4,4,4,3,4,3,4,4,4,2,2,2,3,2,2,3,3,1,3,3,3,4,3,2,4,1,2,1,2,1,2,2,1,2,1,1,2,3,3,3,3,3,3,3,3,3,2,3,3,3,2,3,3,3,2,3,2,2,3,1,1,3,3,3,2,3,3,3,3,3,2,3,3,3,3,3,3,2,2,3,1,3,3,2,3,3,3,3,3,1,1,2,3,2,3,2,2,3,2,2,1,1,1,1,2,2,1,1,1,2,2,1,1,1,1,1,1,2,1,2,1,1,1,1,2,2,2,2,2,2,2,2,2,2,2,2,2,2,1,2,2,2,2,2,2,2,2,2,2,2,2,1,2,2,2,2,2,2,2,2,2,2,2,2,2,2,1,2,2,2,1,1,2,1,2,1,2,2,2,2,1,1,1,1,2,1,1,1,1,1,1,1,1,1,1,1,1,1,1,1,1,1,1,1,1,1,2,1,1,1,2,2,1,1,1,1,1,1,1,1,1,1,1,1,1,1,1,1,1,1,1,1,1,1,1,1,1,1,1,1,1,1,1,1,1,1,1,1,1,1,1,1,1,1,1,1,1,1,1,1,1,1,1,1,1,1,1,1,1,1,1,1,1,1,1,1,1,1,1,1,1,1,1,1,1,1,1,1,1,1,1,1,1,1,1,1,1,1,1,1,1,1,1]]},{\"y\":[[2263,2633,1416,1617,1743,1504,1908,2002,1690,1265,2436,1430,1934,1889,1169,128,1605,1672,1239,2079,1567,2633,1613,1316,251,1309,1929,1055,2140,636,464,1058,587,1611,1260,1662,1142,1167,220,1936,91,299,985,1576,1247,1079,1644,1546,165,1471,1878,1627,1462,1177,812,1504,1386,987,215,1505,918,196,1382,118,1493,852,800,377,43,1094,759,155,572,1042,990,64,59,984,465,123,791,494,163,472,149,1363,1277,946,22,16,454,755,703,638,216,23,1171,799,765,123,137,8,328,310,261,39,114,201,310,59,51,788,756,104,109,263,8,721,518,1018,987,711,821,818,463,19,605,122,157,1176,932,790,229,43,1405,577,866,474,583,538,96,4,691,434,53,94,1138,603,695,756,724,488,576,402,216,205,68,24,41,27,982,741,479,621,582,359,587,893,971,399,613,743,393,505,406,485,629,578,370,145,176,240,40,28,777,473,526,249,466,381,118,61,239,109,33,833,334,24,68,198,166,150,108,107,7,12,226,552,478,292,231,23,133,28,22,17,1,621,409,511,239,351,92,348,407,291,61,6,51,666,442,526,500,497,331,268,101,240,173,235,125,128,35,419,595,541,172,475,482,473,389,194,159,37,174,56,34,19,311,450,429,400,232,133,73,12,2,533,593,449,461,457,343,294,207,236,271,275,50,254,55,127,49,42,15,4,364,452,327,83,124,219,82,145,64,23,33,15,11,5,14,21,592,506,375,340,321,279,281,214,221,213,92,10,21,445,394,20,219,316,146,136,225,73,29,9,31,15,5,2,1,405,434,216,404,121,121,298,137,363,287,142,291,185,189,187,26,169,45,23,26,25,24,10,5,259,401,314,347,310,208,171,152,111,22,32,54,13,54,35,23,8,5,319,254,312,286,238,180,225,109,112,175,61,27,19,15,0,8,2,142,327,345,183,360,279,163,37,255,36,88,227,55,100,46,21,9,337,96,371,26,233,323,23,226,233,183,210,158,142,123,117,130,26,117,90,102,10,119,18,87,8,24,1,58,519,85,407,355,249,272,238,237,236,21,257,108,18,215,202,163,129,92,127,49,100,94,72,18,361,266,340,225,258,105,201,238,159,98,86,127,90,82,40,83,9,25,7,3,2,1,0,159,243,58,199,194,261,228,220,175,18,68,140,137,15,43,57,147,73,100,76,107,21,94,80,68,95,64,18,80,32,87,31,61,15,18,9,7,9,4,3,8,130,289,211,216,127,20,192,130,159,138,107,15,148,130,57,55,66,116,92,34,34,86,26,86,73,76,29,7,10,8,8,7,0,3,1,18,0,458,308,43,284,65,254,253,85,241,210,101,25,156,22,122,78,174,19,169,90,161,69,97,97,77,59,13,46,23,11,97,86,90,57,25,13,4,4,1,1,2,3,32,0,203,225,187,91,91,188,51,202,151,95,68,98,81,126,46,105,112,111,55,82,96,83,35,58,46,22,55,73,76,28,60,17,33,15,20,15,5,28,7,7,10,6,7,5,1,3,0,53,139,227,178,138,159,126,105,113,36,66,97,96,97,76,49,49,57,76,40,17,48,33,32,6,9,18,4,8,7,14,2,4,4,2,0,3,0,27,150,203,33,64,192,60,25,108,101,60,78,37,35,17,98,46,15,80,80,64,59,45,53,42,10,19,52,34,42,11,19,8,14,9,4,4,1,1,0,1,10,5,87,17,49,45,131,131,75,94,110,42,102,80,99,35,49,64,32,70,38,37,59,35,23,34,56,42,41,51,10,38,44,17,25,30,14,21,7,21,25,27,5,19,4,11,13,3,6,1,0,0,0,14,10,0,1,0,2,1,35,120,113,111,74,24,74,73,18,67,66,65,61,15,14,13,13,38,44,32,31,39,28,18,25,33,15,7,7,12,12,6,12,17,5,5,7,10,11,4,3,5,1,1,1,0,0,5,3,4,1,0,4,5,82,166,54,97,143,143,87,86,41,69,76,49,73,44,22,60,56,18,36,35,17,50,15,14,40,40,39,13,38,36,34,22,32,21,31,20,27,27,24,23,7,14,21,6,17,16,5,15,14,13,13,12,4,4,4,11,7,10,6,6,9,6,4,2,2,2,2,3,3,1,1,1,1,1,0,0,0,0,2,0,13,5,3,0,0,5,5,4,76,68,90,77,33,33,60,57,51,49,23,39,38,19,36,35,33,16,16,32,15,27,27,26,24,23,11,22,11,11,21,21,20,10,19,18,16,16,15,14,12,6,11,11,11,5,5,9,4,8,4,4,3,1,2,1,0,0,0,0,0,0,0,2,1,4,3,3,1,1,0,0,0,1,1,15,11,7,1,0,9,7,18,8,2,0,7,6,1,43,38,31,26,25,24,22,21,20,19,18,18,16,15,15,15,14,13,13,13,12,12,11,11,11,10,10,10,10,9,9,9,9,8,8,8,7,7,7,6,5,5,5,5,4,4,4,3,3,2,2,2,2,1,1,1,1,1,1,1,0,0,0,0,0,0,0,1,3,0,19,1,4,1,31,10,2,21,1,1,1,11,6,2,6,1,1,0,2]]}],\"label\":\"All Teams\",\"method\":\"update\"},{\"args\":[{\"x\":[[96,85,66,70,51,57,11,22,9,6,25,36,3,31,27,26,13,5,24,14,18,20,18,2,9,5,4,13,3,1,12,7,3,3,1,2,2,4,2,6,9,1,2,1,1,4,5,1,1,2,3,2,1,1,2,2,1,1,1,1,1,1,1,1,1]]},{\"y\":[[2633,1617,1605,2633,1177,1504,123,163,23,8,310,932,4,1138,587,399,108,28,409,172,236,375,394,20,121,26,13,226,8,1,249,68,20,7,0,3,1,101,22,122,169,2,3,2,0,64,42,10,0,15,87,35,15,0,36,12,1,1,43,38,31,19,10,5,1]]}],\"label\":\"India\",\"method\":\"update\"}],\"direction\":\"left\",\"pad\":{\"r\":10,\"t\":10},\"showactive\":true,\"type\":\"buttons\",\"x\":0.1,\"xanchor\":\"left\",\"y\":1,\"yanchor\":\"top\"}]},                        {\"responsive\": true}                    ).then(function(){\n",
       "                            \n",
       "var gd = document.getElementById('3d56ebbc-9c81-4d7c-9975-6d7be283dc38');\n",
       "var x = new MutationObserver(function (mutations, observer) {{\n",
       "        var display = window.getComputedStyle(gd).display;\n",
       "        if (!display || display === 'none') {{\n",
       "            console.log([gd, 'removed!']);\n",
       "            Plotly.purge(gd);\n",
       "            observer.disconnect();\n",
       "        }}\n",
       "}});\n",
       "\n",
       "// Listen for the removal of the full notebook cells\n",
       "var notebookContainer = gd.closest('#notebook-container');\n",
       "if (notebookContainer) {{\n",
       "    x.observe(notebookContainer, {childList: true});\n",
       "}}\n",
       "\n",
       "// Listen for the clearing of the current output cell\n",
       "var outputEl = gd.closest('.output');\n",
       "if (outputEl) {{\n",
       "    x.observe(outputEl, {childList: true});\n",
       "}}\n",
       "\n",
       "                        })                };                });            </script>        </div>"
      ]
     },
     "metadata": {},
     "output_type": "display_data"
    }
   ],
   "source": [
    "fig5 = px.scatter(cricket,\\\n",
    "                  x = \"Innings\",\\\n",
    "                  y = \"Runs\",\\\n",
    "                  hover_name = \"Player\",\\\n",
    "                  hover_data = [\"Average\", \"Country\"],\\\n",
    "                  height = 500,\\\n",
    "                  title = \"Cricket Player Statistics\")\n",
    "\n",
    "button1 = {'method': 'update',\n",
    "          'label': 'All Teams',\n",
    "          'args': [\n",
    "              {'x': [cricket['Innings']]},\n",
    "              {'y': [cricket['Runs']]}]\n",
    "          }\n",
    "\n",
    "button2 = {'method': 'update',\n",
    "          'label': 'India',\n",
    "          'args': [\n",
    "              {'x': [df_india['Innings']]},\n",
    "              {'y': [df_india['Runs']]}]\n",
    "          }\n",
    "\n",
    "fig5.update_layout(\n",
    "    updatemenus=[{\n",
    "        'type': 'buttons',\n",
    "        'direction': \"left\",\n",
    "        'pad': {\"r\": 10, \"t\": 10},\n",
    "        'showactive': True,\n",
    "        'x': 0.1,\n",
    "        'xanchor': \"left\",\n",
    "        'y': 1,\n",
    "        'yanchor': \"top\",\n",
    "        'buttons': [button1, button2]\n",
    "    }]\n",
    ")\n",
    "\n",
    "fig5.show()"
   ]
  },
  {
   "cell_type": "code",
   "execution_count": null,
   "id": "3c71d44c-0fb2-4616-a2f0-897fa35a771e",
   "metadata": {},
   "outputs": [],
   "source": []
  }
 ],
 "metadata": {
  "kernelspec": {
   "display_name": "Python 3 (ipykernel)",
   "language": "python",
   "name": "python3"
  },
  "language_info": {
   "codemirror_mode": {
    "name": "ipython",
    "version": 3
   },
   "file_extension": ".py",
   "mimetype": "text/x-python",
   "name": "python",
   "nbconvert_exporter": "python",
   "pygments_lexer": "ipython3",
   "version": "3.12.1"
  }
 },
 "nbformat": 4,
 "nbformat_minor": 5
}
